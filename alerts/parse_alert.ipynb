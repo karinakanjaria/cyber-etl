{
 "cells": [
  {
   "cell_type": "code",
   "execution_count": 1,
   "id": "7181fda6-625f-40d2-bd4b-40d0f36404e2",
   "metadata": {},
   "outputs": [],
   "source": [
    "import re\n",
    "import pickle\n",
    "import string\n",
    "import copy\n",
    "from pathlib import Path\n",
    "\n",
    "import pandas as pd\n",
    "import numpy as np\n",
    "import spacy\n",
    "import requests\n",
    "import feedparser\n",
    "from bs4 import BeautifulSoup"
   ]
  },
  {
   "cell_type": "code",
   "execution_count": 37,
   "id": "2d0a00b8-e3e6-4c99-b94c-8a52bf389ab5",
   "metadata": {},
   "outputs": [],
   "source": [
    "path = 'https://www.cisa.gov/uscert/ncas/alerts.xml'\n",
    "data_path = Path(\"../data\")"
   ]
  },
  {
   "cell_type": "code",
   "execution_count": 3,
   "id": "13674503-27e4-40cf-b49e-4a5e3c7b17ae",
   "metadata": {},
   "outputs": [
    {
     "data": {
      "text/plain": [
       "'CISA Alerts'"
      ]
     },
     "execution_count": 3,
     "metadata": {},
     "output_type": "execute_result"
    }
   ],
   "source": [
    "d = feedparser.parse(path)\n",
    "d['feed']['title']"
   ]
  },
  {
   "cell_type": "code",
   "execution_count": 4,
   "id": "7e1a1b80-a128-41ea-8655-5661be909a09",
   "metadata": {},
   "outputs": [
    {
     "data": {
      "text/plain": [
       "'CISA Alerts'"
      ]
     },
     "execution_count": 4,
     "metadata": {},
     "output_type": "execute_result"
    }
   ],
   "source": [
    "d.feed.title"
   ]
  },
  {
   "cell_type": "code",
   "execution_count": 5,
   "id": "3b2f413e-35c1-4f85-aef1-d95c99b60c10",
   "metadata": {},
   "outputs": [
    {
     "data": {
      "text/plain": [
       "'https://us-cert.cisa.gov/'"
      ]
     },
     "execution_count": 5,
     "metadata": {},
     "output_type": "execute_result"
    }
   ],
   "source": [
    "d.feed.link"
   ]
  },
  {
   "cell_type": "code",
   "execution_count": 6,
   "id": "abd3ffcd-96fc-4793-b880-130b7cdd786c",
   "metadata": {},
   "outputs": [
    {
     "data": {
      "text/plain": [
       "'Alerts warn about vulnerabilities, incidents, and other security issues that pose a significant risk.'"
      ]
     },
     "execution_count": 6,
     "metadata": {},
     "output_type": "execute_result"
    }
   ],
   "source": [
    "d.feed.description"
   ]
  },
  {
   "cell_type": "code",
   "execution_count": 7,
   "id": "a8ced4e0-c1dc-47b2-abcd-d7f33170529c",
   "metadata": {},
   "outputs": [
    {
     "data": {
      "text/plain": [
       "'AA22-321A: #StopRansomware: Hive Ransomware'"
      ]
     },
     "execution_count": 7,
     "metadata": {},
     "output_type": "execute_result"
    }
   ],
   "source": [
    "d.entries[0].title"
   ]
  },
  {
   "cell_type": "code",
   "execution_count": 8,
   "id": "1a426a5d-8053-44c1-beb7-90e435fd7a6c",
   "metadata": {},
   "outputs": [
    {
     "data": {
      "text/plain": [
       "'https://us-cert.cisa.gov/ncas/alerts/aa22-321a'"
      ]
     },
     "execution_count": 8,
     "metadata": {},
     "output_type": "execute_result"
    }
   ],
   "source": [
    "d.entries[0].link"
   ]
  },
  {
   "cell_type": "code",
   "execution_count": 9,
   "id": "a11f6595-901a-4b03-87c8-a82555568ccd",
   "metadata": {},
   "outputs": [
    {
     "data": {
      "text/plain": [
       "'Original release date: November 17, 2022 | Last revised: November 25, 2022<br /><h3>Summary</h3><p c'"
      ]
     },
     "execution_count": 9,
     "metadata": {},
     "output_type": "execute_result"
    }
   ],
   "source": [
    "d.entries[0].description[:100]"
   ]
  },
  {
   "cell_type": "code",
   "execution_count": 10,
   "id": "a0a49db3-2483-4b7e-b615-7f75a5877438",
   "metadata": {},
   "outputs": [
    {
     "data": {
      "text/plain": [
       "'Thu, 17 Nov 2022 17:00:00 +0000'"
      ]
     },
     "execution_count": 10,
     "metadata": {},
     "output_type": "execute_result"
    }
   ],
   "source": [
    "d.entries[0].published"
   ]
  },
  {
   "cell_type": "code",
   "execution_count": 11,
   "id": "96749481-5b8b-4710-adc5-1df87a328ea7",
   "metadata": {},
   "outputs": [
    {
     "data": {
      "text/plain": [
       "time.struct_time(tm_year=2022, tm_mon=11, tm_mday=17, tm_hour=17, tm_min=0, tm_sec=0, tm_wday=3, tm_yday=321, tm_isdst=0)"
      ]
     },
     "execution_count": 11,
     "metadata": {},
     "output_type": "execute_result"
    }
   ],
   "source": [
    "d.entries[0].published_parsed"
   ]
  },
  {
   "cell_type": "code",
   "execution_count": 12,
   "id": "80027ce9-0755-4d14-b8a0-32a5be25edaf",
   "metadata": {},
   "outputs": [
    {
     "data": {
      "text/plain": [
       "'18160 at https://us-cert.cisa.gov'"
      ]
     },
     "execution_count": 12,
     "metadata": {},
     "output_type": "execute_result"
    }
   ],
   "source": [
    "d.entries[0].id"
   ]
  },
  {
   "cell_type": "markdown",
   "id": "a6a38071-63f2-47f6-b161-82dddbd5eae9",
   "metadata": {},
   "source": [
    "# get alerts beautifulsoup"
   ]
  },
  {
   "cell_type": "code",
   "execution_count": 13,
   "id": "ca25c4b8-5d90-46e5-abe2-28bbdcc1b151",
   "metadata": {},
   "outputs": [],
   "source": [
    "import requests\n",
    "from bs4 import BeautifulSoup"
   ]
  },
  {
   "cell_type": "code",
   "execution_count": 14,
   "id": "c0103313-af9f-44f6-80ff-944823e1e7b6",
   "metadata": {},
   "outputs": [],
   "source": [
    "url='https://www.cisa.gov/uscert/ncas/alerts'\n",
    "page = requests.get(url)\n",
    "soup = BeautifulSoup(page.text, 'html.parser')"
   ]
  },
  {
   "cell_type": "code",
   "execution_count": 15,
   "id": "ab728c8c-15b2-449a-b81a-51ccd563cc85",
   "metadata": {
    "tags": []
   },
   "outputs": [
    {
     "data": {
      "text/plain": [
       "<title>Alerts | CISA</title>"
      ]
     },
     "execution_count": 15,
     "metadata": {},
     "output_type": "execute_result"
    }
   ],
   "source": [
    "soup.title"
   ]
  },
  {
   "cell_type": "code",
   "execution_count": 16,
   "id": "e942d022-237e-43e5-ad72-ec2a2720ae9a",
   "metadata": {
    "tags": []
   },
   "outputs": [
    {
     "data": {
      "text/plain": [
       "<title>Alerts | CISA</title>"
      ]
     },
     "execution_count": 16,
     "metadata": {},
     "output_type": "execute_result"
    }
   ],
   "source": [
    "alert_url='https://www.cisa.gov/uscert/ncas/alerts/aa22-321a'\n",
    "alert_page = requests.get(alert_url)\n",
    "alert_soup = BeautifulSoup(alert_page.text, 'html.parser')\n",
    "soup.title"
   ]
  },
  {
   "cell_type": "code",
   "execution_count": 17,
   "id": "394f054a-a548-46b0-8d74-e6f357532e06",
   "metadata": {
    "tags": []
   },
   "outputs": [
    {
     "name": "stdout",
     "output_type": "stream",
     "text": [
      "CPU times: user 39.5 ms, sys: 6.65 ms, total: 46.2 ms\n",
      "Wall time: 46.1 ms\n"
     ]
    },
    {
     "data": {
      "text/plain": [
       "['/ncas/alerts/aa22-321a',\n",
       " 'AA22-321A : ',\n",
       " '#StopRansomware: Hive Ransomware',\n",
       " '\\n                                Original release date: November 17, 2022  | Last revised: November 25, 2022\\n                                            ',\n",
       " '\\n\\nSummary\\nActions to Take Today to Mitigate Cyber Threats from Ransomware:\\n• Prioritize remediating known exploited vulnerabilities.\\n• Enable and enforce multifactor authentication with strong passwords\\n• Close unused ports and remove any application not deemed necessary for day-to-day operations.\\nNote: This joint Cybersecurity Advisory (CSA) is part of an ongoing #StopRansomware effort to publish advisories for network defenders that detail various ransomware variants and ransomware threat actors. These #StopRansomware advisories include recently and historically observed tactics, techniques, and procedures (TTPs) and indicators of compromise (IOCs) to help organizations protect against ransomware. Visit stopransomware.gov to see all #StopRansomware advisories and to learn more about other ransomware threats and no-cost resources.\\nThe Federal Bureau of Investigation (FBI), the Cybersecurity and Infrastructure Security Agency (CISA), and the Department of Health and Human Services (HHS) are releasing this joint CSA to disseminate known Hive IOCs and TTPs identified through FBI investigations as recently as November 2022.\\nFBI, CISA, and HHS encourage organizations to implement the recommendations in the Mitigations section of this CSA to reduce the likelihood and impact of ransomware incidents. Victims of ransomware operations should report the incident to their local FBI field office or CISA.\\nDownload the PDF version of this report:\\xa0pdf, 852.9 kb.\\nFor a downloadable copy of IOCs, see AA22-321A.stix (STIX, 43.6 kb).\\n\\n\\nTechnical Details\\nNote: This advisory uses the MITRE ATT&CK® for Enterprise framework, version 12. See MITRE ATT&CK for Enterprise for all referenced tactics and techniques.\\nAs of November 2022, Hive ransomware actors have victimized over 1,300 companies worldwide, receiving approximately US$100 million in ransom payments, according to FBI information. Hive ransomware follows the ransomware-as-a-service (RaaS) model in which developers create, maintain, and update the malware, and affiliates conduct the ransomware attacks. From June 2021 through at least November 2022, threat actors have used Hive ransomware to target a wide range of businesses and critical infrastructure sectors, including Government Facilities, Communications, Critical Manufacturing, Information Technology, and especially Healthcare and Public Health (HPH).\\nThe method of initial intrusion will depend on which affiliate targets the network. Hive actors have gained initial access to victim networks by using single factor logins via Remote Desktop Protocol (RDP), virtual private networks (VPNs), and other remote network connection protocols [T1133]. In some cases, Hive actors have bypassed multifactor authentication (MFA) and gained access to FortiOS servers by exploiting Common Vulnerabilities and Exposures (CVE) CVE-2020-12812. This vulnerability enables a malicious cyber actor to log in without a prompt for the user’s second authentication factor (FortiToken) when the actor changes the case of the username.\\nHive actors have also gained initial access to victim networks by distributing phishing emails with malicious attachments [T1566.001] and by exploiting the following vulnerabilities against Microsoft Exchange servers [T1190]:\\nCVE-2021-31207 - Microsoft Exchange Server Security Feature Bypass Vulnerability\\nCVE-2021-34473 - Microsoft Exchange Server Remote Code Execution Vulnerability\\nCVE-2021-34523 - Microsoft Exchange Server Privilege Escalation Vulnerability\\nAfter gaining access, Hive ransomware attempts to evade detention by executing processes to:\\nIdentify processes related to backups, antivirus/anti-spyware, and file copying and then terminating those processes to facilitate file encryption [T1562].\\nStop the volume shadow copy services and remove all existing shadow copies via vssadmin on command line or via PowerShell [T1059] [T1490].\\nDelete Windows event logs, specifically the System, Security and Application logs [T1070].\\nPrior to encryption, Hive ransomware removes virus definitions and disables all portions of Windows Defender and other common antivirus programs in the system registry [T1112].\\nHive actors exfiltrate data likely using a combination of Rclone and the cloud storage service Mega.nz [T1537]. In addition to its capabilities against the Microsoft Windows operating system, Hive ransomware has known variants for Linux, VMware ESXi, and FreeBSD.\\nDuring the encryption process, a file named *.key (previously *.key.*) is created in the root directory (C:\\\\ or /root/). Required for decryption, this key file only exists on the machine where it was created and cannot be reproduced. The ransom note, HOW_TO_DECRYPT.txt is dropped into each affected directory and states the *.key file cannot be modified, renamed, or deleted, otherwise the encrypted files cannot be recovered [T1486]. The ransom note contains a “sales department” .onion link accessible through a TOR browser, enabling victim organizations to contact the actors through a live chat panel to discuss payment for their files. However, some victims reported receiving phone calls or emails from Hive actors directly to discuss payment.\\nThe ransom note also threatens victims that a public disclosure or leak site accessible on the TOR site, “HiveLeaks”, contains data exfiltrated from victim organizations who do not pay the ransom demand (see figure 1 below). Additionally, Hive actors have used anonymous file sharing sites to disclose exfiltrated data (see table 1 below).\\nFigure 1: Sample Hive Ransom Note\\xa0\\nTable 1: Anonymous File Sharing Sites Used to Disclose Data\\n\\nhttps://anonfiles[.]com\\n\\n\\nhttps://mega[.]nz\\n\\n\\nhttps://send.exploit[.]in\\n\\n\\nhttps://ufile[.]io\\n\\n\\nhttps://www.sendspace[.]com\\n\\n\\nhttps://privatlab[.]net\\n\\n\\nhttps://privatlab[.]com\\n\\n\\xa0\\nOnce the victim organization contacts Hive actors on the live chat panel, Hive actors communicate the ransom amount and the payment deadline. Hive actors negotiate ransom demands in U.S. dollars, with initial amounts ranging from several thousand to millions of dollars. Hive actors demand payment in Bitcoin.\\nHive actors have been known to reinfect—with either Hive ransomware or another ransomware variant—the networks of victim organizations who have restored their network without making a ransom payment.\\nIndicators of Compromise\\nThreat actors have leveraged the following IOCs during Hive ransomware compromises. Note: Some of these indicators are legitimate applications that Hive threat actors used to aid in further malicious exploitation. FBI, CISA, and HHS recommend removing any application not deemed necessary for day-to-day operations. See tables 2–3 below for IOCs obtained from FBI threat response investigations as recently as November 2022.\\nTable 2: Known IOCs as of November 2022\\n\\nKnown IOCs - Files\\n\\n\\nHOW_TO_DECRYPT.txt typically in directories with encrypted files\\n\\n\\n*.key typically in the root directory, i.e.,\\xa0C:\\\\ or /root\\n\\n\\nhive.bat\\n\\n\\nshadow.bat \\n\\n\\nasq.r77vh0[.]pw - Server hosted malicious HTA file\\n\\n\\nasq.d6shiiwz[.]pw - Server referenced in malicious regsvr32 execution\\n\\n\\nasq.swhw71un[.]pw - Server hosted malicious HTA file\\n\\n\\nasd.s7610rir[.]pw - Server hosted malicious HTA file\\n\\n\\nWindows_x64_encrypt.dll \\n\\n\\nWindows_x64_encrypt.exe \\n\\n\\nWindows_x32_encrypt.dll\\n\\n\\nWindows_x32_encrypt.exe\\n\\n\\nLinux_encrypt\\n\\n\\nEsxi_encrypt\\n\\n\\nKnown IOCs – Events \\n\\n\\nSystem, Security and Application Windows event logs wiped\\n\\n\\nMicrosoft Windows Defender AntiSpyware Protection disabled \\n\\n\\nMicrosoft Windows Defender AntiVirus Protection disabled \\n\\n\\nVolume shadow copies deleted\\n\\n\\nNormal boot process prevented\\n\\n\\nKnown IOCs – Logged Processes\\n\\n\\nwevtutil.exe cl system\\n\\n\\nwevtutil.exe cl security\\n\\n\\nwevtutil.exe cl application\\n\\n\\nvssadmin.exe delete shadows /all /quiet\\n\\n\\nwmic.exe SHADOWCOPY /nointeractive\\n\\n\\nwmic.exe shadowcopy delete\\n\\n\\nbcdedit.exe /set {default} bootstatuspolicy ignoreallfailures\\n\\n\\nbcdedit.exe /set {default} recoveryenabled no\\n\\n\\xa0\\nTable 3: Potential IOC IP Addresses as of November 2022\\nNote: Some of these observed IP addresses are more than a year old. FBI and CISA recommend vetting or investigating these IP addresses prior to taking forward-looking action like blocking.\\n\\nPotential IOC IP Addresses for Compromise or Exfil:\\n\\n\\n84.32.188[.]57\\n\\n\\n84.32.188[.]238\\n\\n\\n93.115.26[.]251\\n\\n\\n185.8.105[.]67\\n\\n\\n181.231.81[.]239\\n\\n\\n185.8.105[.]112\\n\\n\\n186.111.136[.]37\\n\\n\\n192.53.123[.]202\\n\\n\\n158.69.36[.]149\\n\\n\\n46.166.161[.]123\\n\\n\\n108.62.118[.]190\\n\\n\\n46.166.161[.]93\\n\\n\\n185.247.71[.]106\\n\\n\\n46.166.162[.]125\\n\\n\\n5.61.37[.]207\\n\\n\\n46.166.162[.]96\\n\\n\\n185.8.105[.]103\\n\\n\\n46.166.169[.]34\\n\\n\\n5.199.162[.]220\\n\\n\\n93.115.25[.]139\\n\\n\\n5.199.162[.]229\\n\\n\\n93.115.27[.]148\\n\\n\\n89.147.109[.]208\\n\\n\\n83.97.20[.]81\\n\\n\\n5.61.37[.]207\\n\\n\\n5.199.162[.]220\\n\\n\\n5.199.162[.]229;\\n\\n\\n46.166.161[.]93\\n\\n\\n46.166.161[.]123;\\n\\n\\n46.166.162[.]96\\n\\n\\n46.166.162[.]125\\n\\n\\n46.166.169[.]34\\n\\n\\n83.97.20[.]81\\n\\n\\n84.32.188[.]238\\n\\n\\n84.32.188[.]57\\n\\n\\n89.147.109[.]208\\n\\n\\n93.115.25[.]139;\\n\\n\\n93.115.26[.]251\\n\\n\\n93.115.27[.]148\\n\\n\\n108.62.118[.]190\\n\\n\\n158.69.36[.]149/span>\\n\\n\\n181.231.81[.]239\\n\\n\\n185.8.105[.]67\\n\\n\\n185.8.105[.]103\\n\\n\\n185.8.105[.]112\\n\\n\\n185.247.71[.]106\\n\\n\\n186.111.136[.]37\\n\\n\\n192.53.123[.]202\\n\\n\\xa0\\nMITRE ATT&CK TECHNIQUES\\nSee table 4 for all referenced threat actor tactics and techniques listed in this advisory.\\nTable 4: Hive Actors ATT&CK Techniques for Enterprise\\n\\nInitial Access\\n\\n\\nTechnique Title\\n\\n\\nID\\n\\n\\nUse\\n\\n\\nExternal Remote Services\\n\\n\\nT1133\\n\\n\\nHive actors gain access to victim networks by using single factor logins via RDP, VPN, and other remote network connection protocols.\\n\\n\\nExploit Public-Facing Application\\n\\n\\nT1190\\n\\n\\nHive actors gain access to victim network by exploiting the following Microsoft Exchange vulnerabilities: CVE-2021-34473, CVE-2021-34523, CVE-2021-31207, CVE-2021-42321.\\n\\n\\nPhishing\\n\\n\\nT1566.001\\n\\n\\nHive actors gain access to victim networks by distributing phishing emails with malicious attachments.\\n\\n\\nExecution\\n\\n\\nTechnique Title\\n\\n\\nID\\n\\n\\nUse\\n\\n\\nCommand and Scripting Interpreter\\n\\n\\nT1059\\n\\n\\nHive actors looks to stop the volume shadow copy services and remove all existing shadow copies via vssadmin on command line or PowerShell.\\n\\n\\nDefense Evasion\\n\\n\\nTechnique Title\\n\\n\\nID\\n\\n\\nUse\\n\\n\\nIndicator Removal on Host\\n\\n\\nT1070\\n\\n\\nHive actors delete Windows event logs, specifically, the System, Security and Application logs.\\n\\n\\nModify Registry\\n\\n\\nT1112\\n\\n\\nHive actors set registry values for DisableAntiSpyware and DisableAntiVirus to 1.\\n\\n\\nImpair Defenses\\n\\n\\nT1562\\n\\n\\nHive actors seek processes related to backups, antivirus/anti-spyware, and file copying and terminates those processes to facilitate file encryption.\\n\\n\\nExfiltration\\n\\n\\nTechnique Title\\n\\n\\nID\\n\\n\\nUse\\n\\n\\nTransfer Data to Cloud Account\\n\\n\\nT1537\\n\\n\\nHive actors exfiltrate data from victims, using a possible combination of Rclone and the cloud storage service Mega.nz.\\n\\n\\nImpact\\n\\n\\nTechnique Title\\n\\n\\n\\xa0\\n\\n\\nUse\\n\\n\\nData Encrypted for Impact\\n\\n\\nT1486\\n\\n\\nHive actors deploy a ransom note HOW_TO_DECRYPT.txt into each affected directory which states the *.key file cannot be modified, renamed, or deleted, otherwise the encrypted files cannot be recovered.\\n\\n\\nInhibit System Recovery\\n\\n\\nT1490\\n\\n\\nHive actors looks to stop the volume shadow copy services and remove all existing shadow copies via vssadmin via command line or PowerShell.\\n\\n\\n\\nMitigations\\nFBI, CISA, and HHS recommend organizations, particularly in the HPH sector, implement the following to limit potential adversarial use of common system and network discovery techniques and to reduce the risk of compromise by Hive ransomware:\\nVerify Hive actors no longer have access to the network.\\nInstall updates for operating systems, software, and firmware as soon as they are released.\\u202fPrioritize patching\\u202fVPN servers, remote access software, virtual machine software, and known exploited vulnerabilities. Consider leveraging a centralized patch management system to automate and expedite the process.\\nRequire phishing-resistant MFA for as many services as possible—particularly for webmail, VPNs, accounts that access critical systems, and privileged accounts that manage backups.\\nIf used, secure and monitor RDP.\\n\\tLimit access to resources over internal networks, especially by restricting RDP and using virtual desktop infrastructure.\\nAfter assessing risks, if you deem RDP operationally necessary, restrict the originating sources and require MFA to mitigate credential theft and reuse.\\nIf RDP must be available externally, use a VPN, virtual desktop infrastructure, or other means to authenticate and secure the connection before allowing RDP to connect to internal devices.\\nMonitor remote access/RDP logs, enforce account lockouts after a specified number of attempts to block brute force campaigns, log RDP login attempts, and disable unused remote access/RDP ports.\\nBe sure to properly configure devices and enable security features.\\nDisable ports and protocols not used for business purposes, such as RDP Port 3389/TCP.\\n\\nMaintain offline backups of data, and regularly maintain backup and restoration. By instituting this practice, the organization ensures they will not be severely interrupted, and/or only have irretrievable data.\\nEnsure all backup data is encrypted, immutable (i.e., cannot be altered or deleted), and covers the entire organization’s data infrastructure. Ensure your backup data is not already infected.,\\nMonitor cyber threat reporting regarding the publication of compromised VPN login credentials and change passwords/settings if applicable.\\nInstall and regularly update anti-virus or anti-malware software on all hosts.\\nEnable PowerShell Logging including module logging, script block logging and transcription.\\nInstall an enhanced monitoring tool such as Sysmon from Microsoft for increased logging.\\nReview the following additional resources.\\n\\tThe joint advisory from Australia, Canada, New Zealand, the United Kingdom, and the United States on Technical Approaches to Uncovering and Remediating Malicious Activity provides additional guidance when hunting or investigating a network and common mistakes to avoid in incident handling.\\nThe Cybersecurity and Infrastructure Security Agency-Multi-State Information Sharing & Analysis Center Joint Ransomware Guide covers additional best practices and ways to prevent, protect, and respond to a ransomware attack.\\nStopRansomware.gov is the U.S. Government’s official one-stop location for resources to tackle ransomware more effectively.\\n\\nIf your organization is impacted by a ransomware incident, FBI, CISA, and HHS recommend the following actions.\\nIsolate the infected system. Remove the infected system from all networks, and disable the computer’s wireless, Bluetooth, and any other potential networking capabilities. Ensure all shared and networked drives are disconnected.\\nTurn off other computers and devices. Power-off and segregate (i.e., remove from the network) the infected computer(s). Power-off and segregate any other computers or devices that share a network with the infected computer(s) that have not been fully encrypted by ransomware. If possible, collect and secure all infected and potentially infected computers and devices in a central location, making sure to clearly label any computers that have been encrypted. Powering-off and segregating infected computers and computers that have not been fully encrypted may allow for the recovery of partially encrypted files by specialists.\\nSecure your backups. Ensure that your backup data is offline and secure. If possible, scan your backup data with an antivirus program to check that it is free of malware.\\nIn addition, FBI, CISA, and HHS urge all organizations to apply the following recommendations to prepare for, mitigate/prevent, and respond to ransomware incidents.\\nPreparing for Cyber Incidents\\nReview the security posture of third-party vendors and those interconnected with your organization. Ensure all connections between third-party vendors and outside software or hardware are monitored and reviewed for suspicious activity.\\nImplement listing policies for applications and remote access that only allow systems to execute known and permitted programs under an established security policy.\\nDocument and monitor external remote connections. Organizations should document approved solutions for remote management and maintenance, and immediately investigate if an unapproved solution is installed on a workstation.\\nImplement a recovery plan to maintain and retain multiple copies of sensitive or proprietary data and servers in a physically separate, segmented, and secure location (i.e., hard drive, storage device, the cloud).\\nIdentity and Access Management\\nRequire all accounts with password logins (e.g., service account, admin accounts, and domain admin accounts) to comply with National Institute of Standards and Technology (NIST) standards for developing and managing password policies.\\n\\n\\tUse longer passwords consisting of at least 8 characters and no more than 64 characters in length.\\nStore passwords in hashed format using industry-recognized password managers.\\nAdd password user “salts” to shared login credentials.\\nAvoid reusing passwords.\\nImplement multiple failed login attempt account lockouts.\\nDisable password “hints.”\\nRefrain from requiring password changes more frequently than once per year unless a password is known or suspected to be compromised.\\n\\t\\tNote: NIST guidance suggests favoring longer passwords instead of requiring regular and frequent password resets. Frequent password resets are more likely to result in users developing password “patterns” cyber criminals can easily decipher.\\nRequire administrator credentials to install software.\\n\\nRequire phishing-resistant multifactor authentication for all services to the extent possible, particularly for webmail, virtual private networks, and accounts that access critical systems.\\nReview domain controllers, servers, workstations, and active directories for new and/or unrecognized accounts.\\nAudit user accounts with administrative privileges and configure access controls according to the principle of least privilege.\\nImplement time-based access for accounts set at the admin level and higher. For example, the Just-in-Time (JIT) access method provisions privileged access when needed and can support enforcement of the principle of least privilege (as well as the Zero Trust model). This is a process where a network-wide policy is set in place to automatically disable admin accounts at the Active Directory level when the account is not in direct need. Individual users may submit their requests through an automated process that grants them access to a specified system for a set timeframe when they need to support the completion of a certain task.\\xa0\\nProtective Controls and Architecture\\nSegment networks to prevent the spread of ransomware. Network segmentation can help prevent the spread of ransomware by controlling traffic flows between—and access to—various subnetworks and by restricting adversary lateral movement.\\nIdentify, detect, and investigate abnormal activity and potential traversal of the indicated ransomware with a networking monitoring tool. To aid in detecting the ransomware, implement a tool that logs and reports all network traffic, including lateral movement activity on a network. Endpoint detection and response (EDR) tools are particularly useful for detecting lateral connections as they have insight into common and uncommon network connections for each host.\\nInstall, regularly update, and enable real time detection for antivirus software on all hosts.\\nVulnerability and Configuration Management\\nConsider adding an email banner to emails received from outside your organization.\\nDisable command-line and scripting activities and permissions. Privilege escalation and lateral movement often depend on software utilities running from the command line. If threat actors are not able to run these tools, they will have difficulty escalating privileges and/or moving laterally.\\nEnsure devices are properly configured and that security features are enabled.\\xa0\\nRestrict Server Message Block (SMB) Protocol within the network to only access necessary servers and remove or disable outdated versions of SMB (i.e., SMB version 1). Threat actors use SMB to propagate malware across organizations.\\nREFERENCES\\nStopransomware.gov is a whole-of-government approach that gives one central location for ransomware resources and alerts.\\nResource to mitigate a ransomware attack: CISA-Multi-State Information Sharing and Analysis Center (MS-ISAC) Joint Ransomware Guide.\\nNo-cost cyber hygiene services: Cyber Hygiene Services and Ransomware Readiness Assessment.\\nINFORMATION REQUESTED\\nThe FBI, CISA, and HHS do not encourage paying a ransom to criminal actors. Paying a ransom may embolden adversaries to target additional organizations, encourage other criminal actors to engage in the distribution of ransomware, and/or fund illicit activities. Paying the ransom also does not guarantee that a victim’s files will be recovered. However, the FBI, CISA, and HHS understand that when businesses are faced with an inability to function, executives will evaluate all options to protect their shareholders, employees, and customers. Regardless of whether you or your organization decide to pay the ransom, the FBI, CISA, and HHS urge you to promptly report ransomware incidents to your local FBI field office, or to CISA at report@cisa.gov or (888) 282-0870. Doing so provides investigators with the critical information they need to track ransomware attackers, hold them accountable under US law, and prevent future attacks.\\xa0\\nThe FBI may seek the following information that you determine you can legally share, including:\\nRecovered executable files\\nLive random access memory (RAM) capture\\nImages of infected systems\\nMalware samples\\nIP addresses identified as malicious or suspicious\\nEmail addresses of the attackers\\nA copy of the ransom note\\nRansom amount\\nBitcoin wallets used by the attackers\\nBitcoin wallets used to pay the ransom\\nPost-incident forensic reports\\nDISCLAIMER\\nThe information in this report is being provided “as is” for informational purposes only. FBI, CISA, and HHS do not endorse any commercial product or service, including any subjects of analysis. Any reference to specific commercial products, processes, or services by service mark, trademark, manufacturer, or otherwise, does not constitute or imply endorsement, recommendation, or favoring by FBI, CISA, or HHS.\\n\\xa0\\n\\n\\nRevisions\\n\\nInitial Version: November 17, 2022\\n\\nThis product is provided subject to this Notification and this Privacy & Use policy.\\n\\n']"
      ]
     },
     "execution_count": 17,
     "metadata": {},
     "output_type": "execute_result"
    }
   ],
   "source": [
    "%%time\n",
    "#get content for each alert on the first 10 pages of alerts\n",
    "alerts_new = []\n",
    "soup_alerts_path = Path('soup_alerts.pkl')\n",
    "if soup_alerts_path.exists():\n",
    "    with open(soup_alerts_path, \"rb\") as sap:\n",
    "        alerts = pickle.load(sap)\n",
    "else:\n",
    "    # I think there's only 8 or so pages\n",
    "    for p_num in range(10): #look at 10 pages of results\n",
    "        #get the the content from this page\n",
    "        url='https://www.cisa.gov/uscert/ncas/alerts?page=' + str(p_num)\n",
    "        page = requests.get(url)\n",
    "        soup = BeautifulSoup(page.text, 'html.parser')\n",
    "        table = soup.find_all(class_=\"views-field views-field-title\")\n",
    "\n",
    "        for i in range(len(table)):\n",
    "            #get the alert details from this line in the list\n",
    "            link = table[i].find('a')['href']\n",
    "            alert_id = table[i].find(class_=\"field-content\").contents[0]\n",
    "            title = table[i].find('a').text\n",
    "\n",
    "            #get alert content\n",
    "            alert_url='https://www.cisa.gov/uscert' + link\n",
    "            alert_page = requests.get(alert_url)\n",
    "            alert_soup = BeautifulSoup(alert_page.text, 'html.parser')\n",
    "            alert_date = alert_soup.find(id=\"ncas-header\").find(class_=\"submitted meta-text\").text\n",
    "            alert_text = alert_soup.find(id=\"ncas-content\").text\n",
    "\n",
    "            #write the content\n",
    "            alerts_new.append([link, alert_id, title, alert_date, alert_text])\n",
    "\n",
    "    with open(soup_alerts_path, \"wb\") as sap:\n",
    "        pickle.dump(alerts_new, sap)\n",
    "    alerts = alerts_new\n",
    "alerts[0]"
   ]
  },
  {
   "cell_type": "code",
   "execution_count": 18,
   "id": "00f0eb56-a30e-44d8-b6b0-4cb6b1bfcc28",
   "metadata": {},
   "outputs": [
    {
     "name": "stdout",
     "output_type": "stream",
     "text": [
      "CPU times: user 772 µs, sys: 0 ns, total: 772 µs\n",
      "Wall time: 772 µs\n"
     ]
    },
    {
     "data": {
      "text/html": [
       "<div>\n",
       "<style scoped>\n",
       "    .dataframe tbody tr th:only-of-type {\n",
       "        vertical-align: middle;\n",
       "    }\n",
       "\n",
       "    .dataframe tbody tr th {\n",
       "        vertical-align: top;\n",
       "    }\n",
       "\n",
       "    .dataframe thead th {\n",
       "        text-align: right;\n",
       "    }\n",
       "</style>\n",
       "<table border=\"1\" class=\"dataframe\">\n",
       "  <thead>\n",
       "    <tr style=\"text-align: right;\">\n",
       "      <th></th>\n",
       "      <th>link</th>\n",
       "      <th>alert_id</th>\n",
       "      <th>title</th>\n",
       "      <th>date</th>\n",
       "      <th>text</th>\n",
       "    </tr>\n",
       "  </thead>\n",
       "  <tbody>\n",
       "    <tr>\n",
       "      <th>0</th>\n",
       "      <td>/ncas/alerts/aa22-321a</td>\n",
       "      <td>AA22-321A :</td>\n",
       "      <td>#StopRansomware: Hive Ransomware</td>\n",
       "      <td>\\n                                Original rel...</td>\n",
       "      <td>\\n\\nSummary\\nActions to Take Today to Mitigate...</td>\n",
       "    </tr>\n",
       "    <tr>\n",
       "      <th>1</th>\n",
       "      <td>/ncas/alerts/aa22-320a</td>\n",
       "      <td>AA22-320A :</td>\n",
       "      <td>Iranian Government-Sponsored APT Actors Compro...</td>\n",
       "      <td>\\n                                Original rel...</td>\n",
       "      <td>\\n\\nSummary\\nFrom mid-June through mid-July 20...</td>\n",
       "    </tr>\n",
       "    <tr>\n",
       "      <th>2</th>\n",
       "      <td>/ncas/alerts/aa22-294a</td>\n",
       "      <td>AA22-294A :</td>\n",
       "      <td>#StopRansomware: Daixin Team</td>\n",
       "      <td>\\n                                Original rel...</td>\n",
       "      <td>\\n\\nSummary\\nActions to take today to mitigate...</td>\n",
       "    </tr>\n",
       "    <tr>\n",
       "      <th>3</th>\n",
       "      <td>/ncas/alerts/aa22-279a</td>\n",
       "      <td>AA22-279A :</td>\n",
       "      <td>Top CVEs Actively Exploited By People’s Republ...</td>\n",
       "      <td>\\n                                            ...</td>\n",
       "      <td>\\n\\nSummary\\nThis joint Cybersecurity Advisory...</td>\n",
       "    </tr>\n",
       "    <tr>\n",
       "      <th>4</th>\n",
       "      <td>/ncas/alerts/aa22-277a</td>\n",
       "      <td>AA22-277A :</td>\n",
       "      <td>Impacket and Exfiltration Tool Used to Steal S...</td>\n",
       "      <td>\\n                                Original rel...</td>\n",
       "      <td>\\n\\nSummary\\nActions to Help Protect Against A...</td>\n",
       "    </tr>\n",
       "  </tbody>\n",
       "</table>\n",
       "</div>"
      ],
      "text/plain": [
       "                     link      alert_id  \\\n",
       "0  /ncas/alerts/aa22-321a  AA22-321A :    \n",
       "1  /ncas/alerts/aa22-320a  AA22-320A :    \n",
       "2  /ncas/alerts/aa22-294a  AA22-294A :    \n",
       "3  /ncas/alerts/aa22-279a  AA22-279A :    \n",
       "4  /ncas/alerts/aa22-277a  AA22-277A :    \n",
       "\n",
       "                                               title  \\\n",
       "0                   #StopRansomware: Hive Ransomware   \n",
       "1  Iranian Government-Sponsored APT Actors Compro...   \n",
       "2                       #StopRansomware: Daixin Team   \n",
       "3  Top CVEs Actively Exploited By People’s Republ...   \n",
       "4  Impacket and Exfiltration Tool Used to Steal S...   \n",
       "\n",
       "                                                date  \\\n",
       "0  \\n                                Original rel...   \n",
       "1  \\n                                Original rel...   \n",
       "2  \\n                                Original rel...   \n",
       "3  \\n                                            ...   \n",
       "4  \\n                                Original rel...   \n",
       "\n",
       "                                                text  \n",
       "0  \\n\\nSummary\\nActions to Take Today to Mitigate...  \n",
       "1  \\n\\nSummary\\nFrom mid-June through mid-July 20...  \n",
       "2  \\n\\nSummary\\nActions to take today to mitigate...  \n",
       "3  \\n\\nSummary\\nThis joint Cybersecurity Advisory...  \n",
       "4  \\n\\nSummary\\nActions to Help Protect Against A...  "
      ]
     },
     "execution_count": 18,
     "metadata": {},
     "output_type": "execute_result"
    }
   ],
   "source": [
    "%%time\n",
    "headers = ['link', 'alert_id', 'title', 'date', 'text']\n",
    "df = pd.DataFrame(alerts, columns=headers)\n",
    "df.head()"
   ]
  },
  {
   "cell_type": "markdown",
   "id": "880e1068-ba4a-4552-a444-ebaeaac2c86f",
   "metadata": {},
   "source": [
    "# parse alert content"
   ]
  },
  {
   "cell_type": "code",
   "execution_count": 19,
   "id": "c043aae7-e577-466e-a9e0-a30a2dc16435",
   "metadata": {},
   "outputs": [
    {
     "data": {
      "text/plain": [
       "['CVE-2020-12812',\n",
       " 'CVE-2021-31207',\n",
       " 'CVE-2021-34473',\n",
       " 'CVE-2021-34523',\n",
       " 'CVE-2021-34473',\n",
       " 'CVE-2021-34523',\n",
       " 'CVE-2021-31207',\n",
       " 'CVE-2021-42321']"
      ]
     },
     "execution_count": 19,
     "metadata": {},
     "output_type": "execute_result"
    }
   ],
   "source": [
    "re_cve = re.compile(r'(CVE-\\d{4}-\\d+)')\n",
    "re_cve.findall(alerts[0][4])"
   ]
  },
  {
   "cell_type": "code",
   "execution_count": 20,
   "id": "7f837bb9-e311-4020-82ad-803abc32169c",
   "metadata": {},
   "outputs": [
    {
     "data": {
      "text/plain": [
       "['T1190',\n",
       " 'T1059',\n",
       " 'T1562',\n",
       " 'T1105',\n",
       " 'T1070',\n",
       " 'T1136',\n",
       " 'T1016',\n",
       " 'T1053',\n",
       " 'T1021',\n",
       " 'T1078',\n",
       " 'T1136',\n",
       " 'T1090',\n",
       " 'T1018',\n",
       " 'T1098',\n",
       " 'T1003',\n",
       " 'T1190',\n",
       " 'T1059',\n",
       " 'T1098',\n",
       " 'T1136',\n",
       " 'T1136',\n",
       " 'T1053',\n",
       " 'T1078',\n",
       " 'T1562',\n",
       " 'T1070',\n",
       " 'T1003',\n",
       " 'T1555',\n",
       " 'T1018',\n",
       " 'T1016',\n",
       " 'T1021',\n",
       " 'T1090',\n",
       " 'T1105']"
      ]
     },
     "execution_count": 20,
     "metadata": {},
     "output_type": "execute_result"
    }
   ],
   "source": [
    "re_ttp = re.compile(r'(\\[|\\s)(T\\d{4})\\.?\\d*(\\]|\\s)')\n",
    "[ttp[1] for ttp in re_ttp.findall(alerts[1][4])]"
   ]
  },
  {
   "cell_type": "code",
   "execution_count": 21,
   "id": "074420e4-8996-4520-bfeb-125a05663500",
   "metadata": {},
   "outputs": [],
   "source": [
    "#regex for cve match\n",
    "re_cve = re.compile(r'(CVE-\\d{4}-\\d*)')\n",
    "cves = []\n",
    "for i in range(len(alerts)):\n",
    "    alert_cves = sorted(re_cve.findall(alerts[i][4]))\n",
    "    cves.append(alert_cves)\n",
    "cves = [set(cve) for cve in cves]\n",
    "\n",
    "ttps = []\n",
    "for i in range(len(alerts)):\n",
    "    alert_ttps = [ttp[1] for ttp in re_ttp.findall(alerts[i][4])]\n",
    "    alert_ttps = sorted(alert_ttps)\n",
    "    ttps.append(alert_ttps)\n",
    "ttps = [set(ttp) for ttp in ttps]"
   ]
  },
  {
   "cell_type": "code",
   "execution_count": 22,
   "id": "6d9f5aad-600b-43b3-bdd0-64543ba07dfd",
   "metadata": {},
   "outputs": [
    {
     "name": "stdout",
     "output_type": "stream",
     "text": [
      "                          link      alert_id  \\\n",
      "count                      286           286   \n",
      "unique                     286           286   \n",
      "top     /ncas/alerts/aa22-321a  AA22-321A :    \n",
      "freq                         1             1   \n",
      "\n",
      "                                                 title  \\\n",
      "count                                              286   \n",
      "unique                                             210   \n",
      "top     Microsoft Updates for Multiple Vulnerabilities   \n",
      "freq                                                56   \n",
      "\n",
      "                                                     date  \\\n",
      "count                                                 286   \n",
      "unique                                                277   \n",
      "top     \\n                                Original rel...   \n",
      "freq                                                    2   \n",
      "\n",
      "                                                     text CVE_list TTP_list  \n",
      "count                                                 286      286      286  \n",
      "unique                                                286       80       54  \n",
      "top     \\n\\nSummary\\nActions to Take Today to Mitigate...       {}       {}  \n",
      "freq                                                    1      200      231  \n"
     ]
    },
    {
     "data": {
      "text/html": [
       "<div>\n",
       "<style scoped>\n",
       "    .dataframe tbody tr th:only-of-type {\n",
       "        vertical-align: middle;\n",
       "    }\n",
       "\n",
       "    .dataframe tbody tr th {\n",
       "        vertical-align: top;\n",
       "    }\n",
       "\n",
       "    .dataframe thead th {\n",
       "        text-align: right;\n",
       "    }\n",
       "</style>\n",
       "<table border=\"1\" class=\"dataframe\">\n",
       "  <thead>\n",
       "    <tr style=\"text-align: right;\">\n",
       "      <th></th>\n",
       "      <th>link</th>\n",
       "      <th>alert_id</th>\n",
       "      <th>title</th>\n",
       "      <th>date</th>\n",
       "      <th>text</th>\n",
       "      <th>CVE_list</th>\n",
       "      <th>TTP_list</th>\n",
       "    </tr>\n",
       "  </thead>\n",
       "  <tbody>\n",
       "    <tr>\n",
       "      <th>0</th>\n",
       "      <td>/ncas/alerts/aa22-321a</td>\n",
       "      <td>AA22-321A :</td>\n",
       "      <td>#StopRansomware: Hive Ransomware</td>\n",
       "      <td>\\n                                Original rel...</td>\n",
       "      <td>\\n\\nSummary\\nActions to Take Today to Mitigate...</td>\n",
       "      <td>{CVE-2021-34523, CVE-2020-12812, CVE-2021-3447...</td>\n",
       "      <td>{T1486, T1070, T1112, T1537, T1133, T1190, T15...</td>\n",
       "    </tr>\n",
       "    <tr>\n",
       "      <th>1</th>\n",
       "      <td>/ncas/alerts/aa22-320a</td>\n",
       "      <td>AA22-320A :</td>\n",
       "      <td>Iranian Government-Sponsored APT Actors Compro...</td>\n",
       "      <td>\\n                                Original rel...</td>\n",
       "      <td>\\n\\nSummary\\nFrom mid-June through mid-July 20...</td>\n",
       "      <td>{CVE-2021-44228}</td>\n",
       "      <td>{T1016, T1070, T1021, T1003, T1098, T1053, T11...</td>\n",
       "    </tr>\n",
       "    <tr>\n",
       "      <th>2</th>\n",
       "      <td>/ncas/alerts/aa22-294a</td>\n",
       "      <td>AA22-294A :</td>\n",
       "      <td>#StopRansomware: Daixin Team</td>\n",
       "      <td>\\n                                Original rel...</td>\n",
       "      <td>\\n\\nSummary\\nActions to take today to mitigate...</td>\n",
       "      <td>{}</td>\n",
       "      <td>{T1486, T1598, T1550, T1567, T1003, T1098, T11...</td>\n",
       "    </tr>\n",
       "    <tr>\n",
       "      <th>3</th>\n",
       "      <td>/ncas/alerts/aa22-279a</td>\n",
       "      <td>AA22-279A :</td>\n",
       "      <td>Top CVEs Actively Exploited By People’s Republ...</td>\n",
       "      <td>\\n                                            ...</td>\n",
       "      <td>\\n\\nSummary\\nThis joint Cybersecurity Advisory...</td>\n",
       "      <td>{CVE-2021-36260, CVE-2021-44228, CVE-2021-4201...</td>\n",
       "      <td>{}</td>\n",
       "    </tr>\n",
       "    <tr>\n",
       "      <th>4</th>\n",
       "      <td>/ncas/alerts/aa22-277a</td>\n",
       "      <td>AA22-277A :</td>\n",
       "      <td>Impacket and Exfiltration Tool Used to Steal S...</td>\n",
       "      <td>\\n                                Original rel...</td>\n",
       "      <td>\\n\\nSummary\\nActions to Help Protect Against A...</td>\n",
       "      <td>{CVE-2021-26857, CVE-2021-26858, CVE-2021-2685...</td>\n",
       "      <td>{T1082, T1574, T1033, T1039, T1036, T1059, T10...</td>\n",
       "    </tr>\n",
       "  </tbody>\n",
       "</table>\n",
       "</div>"
      ],
      "text/plain": [
       "                     link      alert_id  \\\n",
       "0  /ncas/alerts/aa22-321a  AA22-321A :    \n",
       "1  /ncas/alerts/aa22-320a  AA22-320A :    \n",
       "2  /ncas/alerts/aa22-294a  AA22-294A :    \n",
       "3  /ncas/alerts/aa22-279a  AA22-279A :    \n",
       "4  /ncas/alerts/aa22-277a  AA22-277A :    \n",
       "\n",
       "                                               title  \\\n",
       "0                   #StopRansomware: Hive Ransomware   \n",
       "1  Iranian Government-Sponsored APT Actors Compro...   \n",
       "2                       #StopRansomware: Daixin Team   \n",
       "3  Top CVEs Actively Exploited By People’s Republ...   \n",
       "4  Impacket and Exfiltration Tool Used to Steal S...   \n",
       "\n",
       "                                                date  \\\n",
       "0  \\n                                Original rel...   \n",
       "1  \\n                                Original rel...   \n",
       "2  \\n                                Original rel...   \n",
       "3  \\n                                            ...   \n",
       "4  \\n                                Original rel...   \n",
       "\n",
       "                                                text  \\\n",
       "0  \\n\\nSummary\\nActions to Take Today to Mitigate...   \n",
       "1  \\n\\nSummary\\nFrom mid-June through mid-July 20...   \n",
       "2  \\n\\nSummary\\nActions to take today to mitigate...   \n",
       "3  \\n\\nSummary\\nThis joint Cybersecurity Advisory...   \n",
       "4  \\n\\nSummary\\nActions to Help Protect Against A...   \n",
       "\n",
       "                                            CVE_list  \\\n",
       "0  {CVE-2021-34523, CVE-2020-12812, CVE-2021-3447...   \n",
       "1                                   {CVE-2021-44228}   \n",
       "2                                                 {}   \n",
       "3  {CVE-2021-36260, CVE-2021-44228, CVE-2021-4201...   \n",
       "4  {CVE-2021-26857, CVE-2021-26858, CVE-2021-2685...   \n",
       "\n",
       "                                            TTP_list  \n",
       "0  {T1486, T1070, T1112, T1537, T1133, T1190, T15...  \n",
       "1  {T1016, T1070, T1021, T1003, T1098, T1053, T11...  \n",
       "2  {T1486, T1598, T1550, T1567, T1003, T1098, T11...  \n",
       "3                                                 {}  \n",
       "4  {T1082, T1574, T1033, T1039, T1036, T1059, T10...  "
      ]
     },
     "execution_count": 22,
     "metadata": {},
     "output_type": "execute_result"
    }
   ],
   "source": [
    "#add list of CVE & TTP to df\n",
    "df['CVE_list'] = cves\n",
    "df['TTP_list'] = ttps\n",
    "print(df.describe())\n",
    "df.head()"
   ]
  },
  {
   "cell_type": "markdown",
   "id": "37b71134-bfe9-425c-850c-e120f8a3fcdc",
   "metadata": {},
   "source": [
    "# NER"
   ]
  },
  {
   "cell_type": "code",
   "execution_count": 23,
   "id": "d6de0006-712d-4f18-9c44-764681c9f65b",
   "metadata": {},
   "outputs": [
    {
     "data": {
      "text/plain": [
       "'Actions to Take Today to Mitigate Cyber Threats from Ransomware:   Prioritize remediating known exploited vulnerabilities.   Enable and enforce multifactor authentication with strong passwords   Close unused ports and remove any application not deemed necessary for day-to-day operations.  Note: This joint Cybersecurity Advisory (CSA) is part of an ongoing #StopRansomware effort to publish advisories for network defenders that detail various ransomware variants and ransomware threat actors. These #StopRansomware advisories include recently and historically observed tactics, techniques, and procedures (TTPs) and indicators of compromise (IOCs) to help organizations protect against ransomware. Visit stopransomware.gov to see all #StopRansomware advisories and to learn more about other ransomware threats and no-cost resources.  The Federal Bureau of Investigation (FBI), the Cybersecurity and Infrastructure Security Agency (CISA), and the Department of Health and Human Services (HHS) are releasing this joint CSA to disseminate known Hive IOCs and TTPs identified through FBI investigations as recently as November 2022.  FBI, CISA, and HHS encourage organizations to implement the recommendations in the Mitigations section of this CSA to reduce the likelihood and impact of ransomware incidents. Victims of ransomware operations should report the incident to their local FBI field office or CISA.  Download the PDF version of this report:pdf, 852.9 kb.  For a downloadable copy of IOCs, see AA22-321A.stix (STIX, 43.6 kb).      Technical Details  Note: This advisory uses the MITRE ATT&CK for Enterprise framework, version 12. See MITRE ATT&CK for Enterprise for all referenced tactics and techniques.  As of November 2022, Hive ransomware actors have victimized over 1,300 companies worldwide, receiving approximately US$100 million in ransom payments, according to FBI information. Hive ransomware follows the ransomware-as-a-service (RaaS) model in which developers create, maintain, and update the malware, and affiliates conduct the ransomware attacks. From June 2021 through at least November 2022, threat actors have used Hive ransomware to target a wide range of businesses and critical infrastructure sectors, including Government Facilities, Communications, Critical Manufacturing, Information Technology, and especially Healthcare and Public Health (HPH).  The method of initial intrusion will depend on which affiliate targets the network. Hive actors have gained initial access to victim networks by using single factor logins via Remote Desktop Protocol (RDP), virtual private networks (VPNs), and other remote network connection protocols . In some cases, Hive actors have bypassed multifactor authentication (MFA) and gained access to FortiOS servers by exploiting Common Vulnerabilities and Exposures (CVE) . This vulnerability enables a malicious cyber actor to log in without a prompt for the users second authentication factor (FortiToken) when the actor changes the case of the username.  Hive actors have also gained initial access to victim networks by distributing phishing emails with malicious attachments  and by exploiting the following vulnerabilities against Microsoft Exchange servers :   - Microsoft Exchange Server Security Feature Bypass Vulnerability   - Microsoft Exchange Server Remote Code Execution Vulnerability   - Microsoft Exchange Server Privilege Escalation Vulnerability  After gaining access, Hive ransomware attempts to evade detention by executing processes to:  Identify processes related to backups, antivirus/anti-spyware, and file copying and then terminating those processes to facilitate file encryption .  Stop the volume shadow copy services and remove all existing shadow copies via vssadmin on command line or via PowerShell  .  Delete Windows event logs, specifically the System, Security and Application logs .  Prior to encryption, Hive ransomware removes virus definitions and disables all portions of Windows Defender and other common antivirus programs in the system registry .  Hive actors exfiltrate data likely using a combination of Rclone and the cloud storage service Mega.nz . In addition to its capabilities against the Microsoft Windows operating system, Hive ransomware has known variants for Linux, VMware ESXi, and FreeBSD.  During the encryption process, a file named *.key (previously *.key.*) is created in the root directory (C:\\\\ or /root/). Required for decryption, this key file only exists on the machine where it was created and cannot be reproduced. The ransom note, HOW_TO_DECRYPT.txt is dropped into each affected directory and states the *.key file cannot be modified, renamed, or deleted, otherwise the encrypted files cannot be recovered . The ransom note contains a sales department .onion link accessible through a TOR browser, enabling victim organizations to contact the actors through a live chat panel to discuss payment for their files. However, some victims reported receiving phone calls or emails from Hive actors directly to discuss payment.  The ransom note also threatens victims that a public disclosure or leak site accessible on the TOR site, HiveLeaks, contains data exfiltrated from victim organizations who do not pay the ransom demand (see figure 1 below). Additionally, Hive actors have used anonymous file sharing sites to disclose exfiltrated data (see table 1 below).  Figure 1: Sample Hive Ransom Note  Table 1: Anonymous File Sharing Sites Used to Disclose Data    https://anonfiles[.]com      https://mega[.]nz      https://send.exploit[.]in      https://ufile[.]io      https://www.sendspace[.]com      https://privatlab[.]net      https://privatlab[.]com      Once the victim organization contacts Hive actors on the live chat panel, Hive actors communicate the ransom amount and the payment deadline. Hive actors negotiate ransom demands in U.S. dollars, with initial amounts ranging from several thousand to millions of dollars. Hive actors demand payment in Bitcoin.  Hive actors have been known to reinfectwith either Hive ransomware or another ransomware variantthe networks of victim organizations who have restored their network without making a ransom payment.  Indicators of Compromise  Threat actors have leveraged the following IOCs during Hive ransomware compromises. Note: Some of these indicators are legitimate applications that Hive threat actors used to aid in further malicious exploitation. FBI, CISA, and HHS recommend removing any application not deemed necessary for day-to-day operations. See tables 23 below for IOCs obtained from FBI threat response investigations as recently as November 2022.  Table 2: Known IOCs as of November 2022    Known IOCs - Files      HOW_TO_DECRYPT.txt typically in directories with encrypted files      *.key typically in the root directory, i.e.,C:\\\\ or /root      hive.bat      shadow.bat       asq.r77vh0[.]pw - Server hosted malicious HTA file      asq.d6shiiwz[.]pw - Server referenced in malicious regsvr32 execution      asq.swhw71un[.]pw - Server hosted malicious HTA file      asd.s7610rir[.]pw - Server hosted malicious HTA file      Windows_x64_encrypt.dll       Windows_x64_encrypt.exe       Windows_x32_encrypt.dll      Windows_x32_encrypt.exe      Linux_encrypt      Esxi_encrypt      Known IOCs  Events       System, Security and Application Windows event logs wiped      Microsoft Windows Defender AntiSpyware Protection disabled       Microsoft Windows Defender AntiVirus Protection disabled       Volume shadow copies deleted      Normal boot process prevented      Known IOCs  Logged Processes      wevtutil.exe cl system      wevtutil.exe cl security      wevtutil.exe cl application      vssadmin.exe delete shadows /all /quiet      wmic.exe SHADOWCOPY /nointeractive      wmic.exe shadowcopy delete      bcdedit.exe /set {default} bootstatuspolicy ignoreallfailures      bcdedit.exe /set {default} recoveryenabled no      Table 3: Potential IOC IP Addresses as of November 2022  Note: Some of these observed IP addresses are more than a year old. FBI and CISA recommend vetting or investigating these IP addresses prior to taking forward-looking action like blocking.    Potential IOC IP Addresses for Compromise or Exfil:      84.32.188[.]57      84.32.188[.]238      93.115.26[.]251      185.8.105[.]67      181.231.81[.]239      185.8.105[.]112      186.111.136[.]37      192.53.123[.]202      158.69.36[.]149      46.166.161[.]123      108.62.118[.]190      46.166.161[.]93      185.247.71[.]106      46.166.162[.]125      5.61.37[.]207      46.166.162[.]96      185.8.105[.]103      46.166.169[.]34      5.199.162[.]220      93.115.25[.]139      5.199.162[.]229      93.115.27[.]148      89.147.109[.]208      83.97.20[.]81      5.61.37[.]207      5.199.162[.]220      5.199.162[.]229;      46.166.161[.]93      46.166.161[.]123;      46.166.162[.]96      46.166.162[.]125      46.166.169[.]34      83.97.20[.]81      84.32.188[.]238      84.32.188[.]57      89.147.109[.]208      93.115.25[.]139;      93.115.26[.]251      93.115.27[.]148      108.62.118[.]190      158.69.36[.]149/span>      181.231.81[.]239      185.8.105[.]67      185.8.105[.]103      185.8.105[.]112      185.247.71[.]106      186.111.136[.]37      192.53.123[.]202      MITRE ATT&CK TECHNIQUES  See table 4 for all referenced threat actor tactics and techniques listed in this advisory.  Table 4: Hive Actors ATT&CK Techniques for Enterprise    Initial Access      Technique Title      ID      Use      External Remote Services          Hive actors gain access to victim networks by using single factor logins via RDP, VPN, and other remote network connection protocols.      Exploit Public-Facing Application          Hive actors gain access to victim network by exploiting the following Microsoft Exchange vulnerabilities: , , , .      Phishing          Hive actors gain access to victim networks by distributing phishing emails with malicious attachments.      Execution      Technique Title      ID      Use      Command and Scripting Interpreter          Hive actors looks to stop the volume shadow copy services and remove all existing shadow copies via vssadmin on command line or PowerShell.      Defense Evasion      Technique Title      ID      Use      Indicator Removal on Host          Hive actors delete Windows event logs, specifically, the System, Security and Application logs.      Modify Registry          Hive actors set registry values for DisableAntiSpyware and DisableAntiVirus to 1.      Impair Defenses          Hive actors seek processes related to backups, antivirus/anti-spyware, and file copying and terminates those processes to facilitate file encryption.      Exfiltration      Technique Title      ID      Use      Transfer Data to Cloud Account          Hive actors exfiltrate data from victims, using a possible combination of Rclone and the cloud storage service Mega.nz.      Impact      Technique Title            Use      Data Encrypted for Impact          Hive actors deploy a ransom note HOW_TO_DECRYPT.txt into each affected directory which states the *.key file cannot be modified, renamed, or deleted, otherwise the encrypted files cannot be recovered.      Inhibit System Recovery          Hive actors looks to stop the volume shadow copy services and remove all existing shadow copies via vssadmin via command line or PowerShell.        Mitigations  FBI, CISA, and HHS recommend organizations, particularly in the HPH sector, implement the following to limit potential adversarial use of common system and network discovery techniques and to reduce the risk of compromise by Hive ransomware:  Verify Hive actors no longer have access to the network.  Install updates for operating systems, software, and firmware as soon as they are released.Prioritize patchingVPN servers, remote access software, virtual machine software, and known exploited vulnerabilities. Consider leveraging a centralized patch management system to automate and expedite the process.  Require phishing-resistant MFA for as many services as possibleparticularly for webmail, VPNs, accounts that access critical systems, and privileged accounts that manage backups.  If used, secure and monitor RDP.    Limit access to resources over internal networks, especially by restricting RDP and using virtual desktop infrastructure.  After assessing risks, if you deem RDP operationally necessary, restrict the originating sources and require MFA to mitigate credential theft and reuse.  If RDP must be available externally, use a VPN, virtual desktop infrastructure, or other means to authenticate and secure the connection before allowing RDP to connect to internal devices.  Monitor remote access/RDP logs, enforce account lockouts after a specified number of attempts to block brute force campaigns, log RDP login attempts, and disable unused remote access/RDP ports.  Be sure to properly configure devices and enable security features.  Disable ports and protocols not used for business purposes, such as RDP Port 3389/TCP.    Maintain offline backups of data, and regularly maintain backup and restoration. By instituting this practice, the organization ensures they will not be severely interrupted, and/or only have irretrievable data.  Ensure all backup data is encrypted, immutable (i.e., cannot be altered or deleted), and covers the entire organizations data infrastructure. Ensure your backup data is not already infected.,  Monitor cyber threat reporting regarding the publication of compromised VPN login credentials and change passwords/settings if applicable.  Install and regularly update anti-virus or anti-malware software on all hosts.  Enable PowerShell Logging including module logging, script block logging and transcription.  Install an enhanced monitoring tool such as Sysmon from Microsoft for increased logging.  Review the following additional resources.    The joint advisory from Australia, Canada, New Zealand, the United Kingdom, and the United States on Technical Approaches to Uncovering and Remediating Malicious Activity provides additional guidance when hunting or investigating a network and common mistakes to avoid in incident handling.  The Cybersecurity and Infrastructure Security Agency-Multi-State Information Sharing & Analysis Center Joint Ransomware Guide covers additional best practices and ways to prevent, protect, and respond to a ransomware attack.  StopRansomware.gov is the U.S. Governments official one-stop location for resources to tackle ransomware more effectively.    If your organization is impacted by a ransomware incident, FBI, CISA, and HHS recommend the following actions.  Isolate the infected system. Remove the infected system from all networks, and disable the computers wireless, Bluetooth, and any other potential networking capabilities. Ensure all shared and networked drives are disconnected.  Turn off other computers and devices. Power-off and segregate (i.e., remove from the network) the infected computer(s). Power-off and segregate any other computers or devices that share a network with the infected computer(s) that have not been fully encrypted by ransomware. If possible, collect and secure all infected and potentially infected computers and devices in a central location, making sure to clearly label any computers that have been encrypted. Powering-off and segregating infected computers and computers that have not been fully encrypted may allow for the recovery of partially encrypted files by specialists.  Secure your backups. Ensure that your backup data is offline and secure. If possible, scan your backup data with an antivirus program to check that it is free of malware.  In addition, FBI, CISA, and HHS urge all organizations to apply the following recommendations to prepare for, mitigate/prevent, and respond to ransomware incidents.  Preparing for Cyber Incidents  Review the security posture of third-party vendors and those interconnected with your organization. Ensure all connections between third-party vendors and outside software or hardware are monitored and reviewed for suspicious activity.  Implement listing policies for applications and remote access that only allow systems to execute known and permitted programs under an established security policy.  Document and monitor external remote connections. Organizations should document approved solutions for remote management and maintenance, and immediately investigate if an unapproved solution is installed on a workstation.  Implement a recovery plan to maintain and retain multiple copies of sensitive or proprietary data and servers in a physically separate, segmented, and secure location (i.e., hard drive, storage device, the cloud).  Identity and Access Management  Require all accounts with password logins (e.g., service account, admin accounts, and domain admin accounts) to comply with National Institute of Standards and Technology (NIST) standards for developing and managing password policies.      Use longer passwords consisting of at least 8 characters and no more than 64 characters in length.  Store passwords in hashed format using industry-recognized password managers.  Add password user salts to shared login credentials.  Avoid reusing passwords.  Implement multiple failed login attempt account lockouts.  Disable password hints.  Refrain from requiring password changes more frequently than once per year unless a password is known or suspected to be compromised.      Note: NIST guidance suggests favoring longer passwords instead of requiring regular and frequent password resets. Frequent password resets are more likely to result in users developing password patterns cyber criminals can easily decipher.  Require administrator credentials to install software.    Require phishing-resistant multifactor authentication for all services to the extent possible, particularly for webmail, virtual private networks, and accounts that access critical systems.  Review domain controllers, servers, workstations, and active directories for new and/or unrecognized accounts.  Audit user accounts with administrative privileges and configure access controls according to the principle of least privilege.  Implement time-based access for accounts set at the admin level and higher. For example, the Just-in-Time (JIT) access method provisions privileged access when needed and can support enforcement of the principle of least privilege (as well as the Zero Trust model). This is a process where a network-wide policy is set in place to automatically disable admin accounts at the Active Directory level when the account is not in direct need. Individual users may submit their requests through an automated process that grants them access to a specified system for a set timeframe when they need to support the completion of a certain task.  Protective Controls and Architecture  Segment networks to prevent the spread of ransomware. Network segmentation can help prevent the spread of ransomware by controlling traffic flows betweenand access tovarious subnetworks and by restricting adversary lateral movement.  Identify, detect, and investigate abnormal activity and potential traversal of the indicated ransomware with a networking monitoring tool. To aid in detecting the ransomware, implement a tool that logs and reports all network traffic, including lateral movement activity on a network. Endpoint detection and response (EDR) tools are particularly useful for detecting lateral connections as they have insight into common and uncommon network connections for each host.  Install, regularly update, and enable real time detection for antivirus software on all hosts.  Vulnerability and Configuration Management  Consider adding an email banner to emails received from outside your organization.  Disable command-line and scripting activities and permissions. Privilege escalation and lateral movement often depend on software utilities running from the command line. If threat actors are not able to run these tools, they will have difficulty escalating privileges and/or moving laterally.  Ensure devices are properly configured and that security features are enabled.  Restrict Server Message Block (SMB) Protocol within the network to only access necessary servers and remove or disable outdated versions of SMB (i.e., SMB version 1). Threat actors use SMB to propagate malware across organizations.  REFERENCES  Stopransomware.gov is a whole-of-government approach that gives one central location for ransomware resources and alerts.  Resource to mitigate a ransomware attack: CISA-Multi-State Information Sharing and Analysis Center (MS-ISAC) Joint Ransomware Guide.  No-cost cyber hygiene services: Cyber Hygiene Services and Ransomware Readiness Assessment.'"
      ]
     },
     "execution_count": 23,
     "metadata": {},
     "output_type": "execute_result"
    }
   ],
   "source": [
    "# Some cleaning up of text field before NER\n",
    "strings_to_replace= [\"Summary\", (\"\\n\",\"  \"),(\"\\t\",\"  \"), re.compile(r\"DISCLAIMER.*\"), re.compile(r\"INFORMATION REQUESTED.*\")]\n",
    "text = copy.deepcopy(df['text'])\n",
    "\n",
    "def replace_non_printable(raw_text):\n",
    "    filtered_text = list(filter(lambda x: x in string.printable, raw_text))\n",
    "    return \"\".join(filtered_text)\n",
    "\n",
    "for str_pattern in strings_to_replace:\n",
    "    new_text = \" \"\n",
    "    old_text = str_pattern\n",
    "    if type(str_pattern) is tuple:\n",
    "        new_text = str_pattern[1]\n",
    "        old_text = str_pattern[0]\n",
    "    \n",
    "    if isinstance(str_pattern,str):\n",
    "        text = text.str.replace(old_text,new_text).str.strip()\n",
    "    else:\n",
    "        text = text.str.replace(old_text,new_text,regex=True).str.strip()\n",
    "\n",
    "# Remove Nonprintable, CVE IDs, and TTPs\n",
    "text = text.apply(lambda raw_x: replace_non_printable(raw_x))\n",
    "text = text.str.replace(re_cve,\"\",regex=True)\n",
    "text = text.str.replace(re_ttp,\"\",regex=True)\n",
    "\n",
    "df['text2'] = text\n",
    "text[0]"
   ]
  },
  {
   "cell_type": "code",
   "execution_count": 26,
   "id": "d4dfd28b-54f1-405a-b2f0-ba4d6adcc3c6",
   "metadata": {},
   "outputs": [],
   "source": [
    "# Clean alert id\n",
    "df['alert_id'] = df['alert_id'].str.replace(' :','').str.strip()\n",
    "\n",
    "# Extract date from date field\n",
    "df['date'] = pd.to_datetime(df['date'].str.replace(\"Original release date: \",\"\",regex=False).str.replace(\"\\|.*\",\"\",regex=True).str.strip())\n",
    "\n",
    "#convert link to full path\n",
    "df['full_path'] = 'https://www.cisa.gov' + df['link']\n"
   ]
  },
  {
   "cell_type": "code",
   "execution_count": 24,
   "id": "8e7fb426-cfd7-46ad-bf80-707b501d93e8",
   "metadata": {},
   "outputs": [],
   "source": [
    "nlp = spacy.load(\"en_core_web_trf\")"
   ]
  },
  {
   "cell_type": "code",
   "execution_count": null,
   "id": "74c16755-b9d1-4cf8-8f8a-0d4e6b4fe96e",
   "metadata": {},
   "outputs": [],
   "source": [
    "%%time\n",
    "# Extract entity from each text2\n",
    "ner_pickle_path = data_path / \"ner_text2.pkl\"\n",
    "if 'ner2' in df.columns:\n",
    "    print(\"Not running the entity recognition, since the data already exists as 'ner' in the dataframe.\")\n",
    "elif ner_pickle_path.exists():\n",
    "    with open(ner_pickle_path, \"rb\") as npp:\n",
    "        df[\"ner2\"] = pickle.load(ner_pickle_path)\n",
    "else:\n",
    "    ner2 = []\n",
    "    for i in range(len(df['text2'])):\n",
    "        #nlp this doc\n",
    "        this_doc = nlp(df['text2'][i])\n",
    "\n",
    "        #select get entities from this doc\n",
    "        this_ner = []\n",
    "        for ent in this_doc.ents:\n",
    "            #choose from list of \n",
    "            ent_labels = ['ORG','PRODUCT','GPE','PERSON','NORP']\n",
    "            if ent.label_ in ent_labels:\n",
    "                this_ner.append([ent.text, ent.label_])\n",
    "\n",
    "        #append ner for this doc\n",
    "        ner2.append(this_ner)\n",
    "    with open(ner_pickle_path, \"wb\") as npp:\n",
    "        pickle.dump(ner2, npp)\n",
    "    df['ner2'] = ner2\n",
    "df['ner2']"
   ]
  },
  {
   "cell_type": "code",
   "execution_count": 28,
   "id": "60e0c824-20a3-46d5-96f3-42f1db79622c",
   "metadata": {},
   "outputs": [
    {
     "name": "stdout",
     "output_type": "stream",
     "text": [
      "Not running the entity recognition, since the data already exists as 'ner' in the dataframe.\n",
      "CPU times: user 50 µs, sys: 12 µs, total: 62 µs\n",
      "Wall time: 71.3 µs\n"
     ]
    }
   ],
   "source": [
    "%%time\n",
    "#extract entity from each text\n",
    "ner_pickle_path = Path(\"alerts\") / \"ner.pkl\"\n",
    "if 'ner' in df.columns:\n",
    "    print(\"Not running the entity recognition, since the data already exists as 'ner' in the dataframe.\")\n",
    "elif ner_pickle_path.exists():\n",
    "    with open(ner_pickle_path, \"rb\") as npp:\n",
    "        df['ner'] = pickle.load(ner_pickle_path)\n",
    "else:\n",
    "    ner = []\n",
    "    for i in range(len(alerts)):\n",
    "        #nlp this doc\n",
    "        this_doc = nlp(alerts[i][4])\n",
    "\n",
    "        #select get entities from this doc\n",
    "        this_ner = []\n",
    "        for ent in this_doc.ents:\n",
    "            #choose from list of \n",
    "            ent_labels = ['ORG','PRODUCT','GPE','PERSON','NORP']\n",
    "            if ent.label_ in ent_labels:\n",
    "                this_ner.append([ent.text, ent.label_])\n",
    "\n",
    "        #append ner for this doc\n",
    "        ner.append(this_ner)\n",
    "    with open(ner_pickle_path, \"wb\") as npp:\n",
    "        pickle.dump(ner, npp)\n",
    "\n",
    "    # add ner into df. leave duplicates for other opportunity\n",
    "    df['ner'] = ner\n",
    "\n",
    "df['ner']"
   ]
  },
  {
   "cell_type": "code",
   "execution_count": null,
   "id": "7bcd9c49",
   "metadata": {},
   "outputs": [],
   "source": [
    "%%time\n",
    "# Extract entity from each text2\n",
    "ner_pickle_path = data_path / \"ner_text2.pkl\"\n",
    "if 'ner2' in df.columns:\n",
    "    print(\"Not running the entity recognition, since the data already exists as 'ner' in the dataframe.\")\n",
    "elif ner_pickle_path.exists():\n",
    "    with open(ner_pickle_path, \"rb\") as npp:\n",
    "        df[\"ner2\"] = pickle.load(ner_pickle_path)\n",
    "else:\n",
    "    ner2 = []\n",
    "    for i in range(len(df['text2'])):\n",
    "        #nlp this doc\n",
    "        this_doc = nlp(df['text2'][i])\n",
    "\n",
    "        #select get entities from this doc\n",
    "        this_ner = []\n",
    "        for ent in this_doc.ents:\n",
    "            #choose from list of \n",
    "            ent_labels = ['ORG','PRODUCT','GPE','PERSON','NORP']\n",
    "            if ent.label_ in ent_labels:\n",
    "                this_ner.append([ent.text, ent.label_])\n",
    "\n",
    "        #append ner for this doc\n",
    "        ner2.append(this_ner)\n",
    "    with open(ner_pickle_path, \"wb\") as npp:\n",
    "        pickle.dump(ner2, npp)\n",
    "    df['ner2'] = ner2\n",
    "df['ner2']"
   ]
  },
  {
   "cell_type": "code",
   "execution_count": null,
   "id": "31ed7ffc-46bf-4136-b238-e177bb348957",
   "metadata": {},
   "outputs": [],
   "source": [
    "# REmove this after running once!\n",
    "if \"ner2\" not in locals():\n",
    "    ner2 = copy.deepcopy(ner)"
   ]
  },
  {
   "cell_type": "code",
   "execution_count": 30,
   "id": "7f2463fe-ee56-40bc-a6ae-3fffa836b86e",
   "metadata": {},
   "outputs": [],
   "source": [
    "# Only write pickle if df has values\n",
    "if df is not None and not df.empty:\n",
    "    df.to_pickle(\"./alerts_df.pkl\")"
   ]
  },
  {
   "cell_type": "code",
   "execution_count": 31,
   "id": "8c0a1e36-f97a-4041-aa4b-234ad1d4fbbe",
   "metadata": {},
   "outputs": [],
   "source": [
    "# Load in the dataframe if it's not there already\n",
    "if \"df\" not in locals():\n",
    "    df = pd.read_pickle(\"./alerts_df.pkl\")"
   ]
  },
  {
   "cell_type": "code",
   "execution_count": 32,
   "id": "84e41140-10f0-43fe-9f42-83ecd4644c7b",
   "metadata": {},
   "outputs": [
    {
     "data": {
      "text/html": [
       "<div>\n",
       "<style scoped>\n",
       "    .dataframe tbody tr th:only-of-type {\n",
       "        vertical-align: middle;\n",
       "    }\n",
       "\n",
       "    .dataframe tbody tr th {\n",
       "        vertical-align: top;\n",
       "    }\n",
       "\n",
       "    .dataframe thead th {\n",
       "        text-align: right;\n",
       "    }\n",
       "</style>\n",
       "<table border=\"1\" class=\"dataframe\">\n",
       "  <thead>\n",
       "    <tr style=\"text-align: right;\">\n",
       "      <th></th>\n",
       "      <th>link</th>\n",
       "      <th>alert_id</th>\n",
       "      <th>title</th>\n",
       "      <th>date</th>\n",
       "      <th>text</th>\n",
       "      <th>CVE_list</th>\n",
       "      <th>TTP_list</th>\n",
       "      <th>text2</th>\n",
       "      <th>full_path</th>\n",
       "      <th>ner</th>\n",
       "    </tr>\n",
       "  </thead>\n",
       "  <tbody>\n",
       "    <tr>\n",
       "      <th>0</th>\n",
       "      <td>/ncas/alerts/aa22-321a</td>\n",
       "      <td>AA22-321A</td>\n",
       "      <td>#StopRansomware: Hive Ransomware</td>\n",
       "      <td>2022-11-17</td>\n",
       "      <td>\\n\\nSummary\\nActions to Take Today to Mitigate...</td>\n",
       "      <td>{CVE-2021-34523, CVE-2020-12812, CVE-2021-3447...</td>\n",
       "      <td>{T1486, T1070, T1112, T1537, T1133, T1190, T15...</td>\n",
       "      <td>Actions to Take Today to Mitigate Cyber Threat...</td>\n",
       "      <td>https://www.cisa.gov/ncas/alerts/aa22-321a</td>\n",
       "      <td>[[stopransomware.gov, ORG], [The Federal Burea...</td>\n",
       "    </tr>\n",
       "    <tr>\n",
       "      <th>1</th>\n",
       "      <td>/ncas/alerts/aa22-320a</td>\n",
       "      <td>AA22-320A</td>\n",
       "      <td>Iranian Government-Sponsored APT Actors Compro...</td>\n",
       "      <td>2022-11-16</td>\n",
       "      <td>\\n\\nSummary\\nFrom mid-June through mid-July 20...</td>\n",
       "      <td>{CVE-2021-44228}</td>\n",
       "      <td>{T1016, T1070, T1021, T1003, T1098, T1053, T11...</td>\n",
       "      <td>From mid-June through mid-July 2022, CISA cond...</td>\n",
       "      <td>https://www.cisa.gov/ncas/alerts/aa22-320a</td>\n",
       "      <td>[[CISA, ORG], [Federal Civilian Executive Bran...</td>\n",
       "    </tr>\n",
       "    <tr>\n",
       "      <th>2</th>\n",
       "      <td>/ncas/alerts/aa22-294a</td>\n",
       "      <td>AA22-294A</td>\n",
       "      <td>#StopRansomware: Daixin Team</td>\n",
       "      <td>2022-10-21</td>\n",
       "      <td>\\n\\nSummary\\nActions to take today to mitigate...</td>\n",
       "      <td>{}</td>\n",
       "      <td>{T1486, T1598, T1550, T1567, T1003, T1098, T11...</td>\n",
       "      <td>Actions to take today to mitigate cyber threat...</td>\n",
       "      <td>https://www.cisa.gov/ncas/alerts/aa22-294a</td>\n",
       "      <td>[[The Federal Bureau of Investigation, ORG], [...</td>\n",
       "    </tr>\n",
       "    <tr>\n",
       "      <th>3</th>\n",
       "      <td>/ncas/alerts/aa22-279a</td>\n",
       "      <td>AA22-279A</td>\n",
       "      <td>Top CVEs Actively Exploited By People’s Republ...</td>\n",
       "      <td>2022-10-06</td>\n",
       "      <td>\\n\\nSummary\\nThis joint Cybersecurity Advisory...</td>\n",
       "      <td>{CVE-2021-36260, CVE-2021-44228, CVE-2021-4201...</td>\n",
       "      <td>{}</td>\n",
       "      <td>This joint Cybersecurity Advisory (CSA) provid...</td>\n",
       "      <td>https://www.cisa.gov/ncas/alerts/aa22-279a</td>\n",
       "      <td>[[People’s Republic of China, GPE], [PRC, GPE]...</td>\n",
       "    </tr>\n",
       "    <tr>\n",
       "      <th>4</th>\n",
       "      <td>/ncas/alerts/aa22-277a</td>\n",
       "      <td>AA22-277A</td>\n",
       "      <td>Impacket and Exfiltration Tool Used to Steal S...</td>\n",
       "      <td>2022-10-04</td>\n",
       "      <td>\\n\\nSummary\\nActions to Help Protect Against A...</td>\n",
       "      <td>{CVE-2021-26857, CVE-2021-26858, CVE-2021-2685...</td>\n",
       "      <td>{T1082, T1574, T1033, T1039, T1036, T1059, T10...</td>\n",
       "      <td>Actions to Help Protect Against APT Cyber Acti...</td>\n",
       "      <td>https://www.cisa.gov/ncas/alerts/aa22-277a</td>\n",
       "      <td>[[the Cybersecurity and Infrastructure Securit...</td>\n",
       "    </tr>\n",
       "  </tbody>\n",
       "</table>\n",
       "</div>"
      ],
      "text/plain": [
       "                     link   alert_id  \\\n",
       "0  /ncas/alerts/aa22-321a  AA22-321A   \n",
       "1  /ncas/alerts/aa22-320a  AA22-320A   \n",
       "2  /ncas/alerts/aa22-294a  AA22-294A   \n",
       "3  /ncas/alerts/aa22-279a  AA22-279A   \n",
       "4  /ncas/alerts/aa22-277a  AA22-277A   \n",
       "\n",
       "                                               title       date  \\\n",
       "0                   #StopRansomware: Hive Ransomware 2022-11-17   \n",
       "1  Iranian Government-Sponsored APT Actors Compro... 2022-11-16   \n",
       "2                       #StopRansomware: Daixin Team 2022-10-21   \n",
       "3  Top CVEs Actively Exploited By People’s Republ... 2022-10-06   \n",
       "4  Impacket and Exfiltration Tool Used to Steal S... 2022-10-04   \n",
       "\n",
       "                                                text  \\\n",
       "0  \\n\\nSummary\\nActions to Take Today to Mitigate...   \n",
       "1  \\n\\nSummary\\nFrom mid-June through mid-July 20...   \n",
       "2  \\n\\nSummary\\nActions to take today to mitigate...   \n",
       "3  \\n\\nSummary\\nThis joint Cybersecurity Advisory...   \n",
       "4  \\n\\nSummary\\nActions to Help Protect Against A...   \n",
       "\n",
       "                                            CVE_list  \\\n",
       "0  {CVE-2021-34523, CVE-2020-12812, CVE-2021-3447...   \n",
       "1                                   {CVE-2021-44228}   \n",
       "2                                                 {}   \n",
       "3  {CVE-2021-36260, CVE-2021-44228, CVE-2021-4201...   \n",
       "4  {CVE-2021-26857, CVE-2021-26858, CVE-2021-2685...   \n",
       "\n",
       "                                            TTP_list  \\\n",
       "0  {T1486, T1070, T1112, T1537, T1133, T1190, T15...   \n",
       "1  {T1016, T1070, T1021, T1003, T1098, T1053, T11...   \n",
       "2  {T1486, T1598, T1550, T1567, T1003, T1098, T11...   \n",
       "3                                                 {}   \n",
       "4  {T1082, T1574, T1033, T1039, T1036, T1059, T10...   \n",
       "\n",
       "                                               text2  \\\n",
       "0  Actions to Take Today to Mitigate Cyber Threat...   \n",
       "1  From mid-June through mid-July 2022, CISA cond...   \n",
       "2  Actions to take today to mitigate cyber threat...   \n",
       "3  This joint Cybersecurity Advisory (CSA) provid...   \n",
       "4  Actions to Help Protect Against APT Cyber Acti...   \n",
       "\n",
       "                                    full_path  \\\n",
       "0  https://www.cisa.gov/ncas/alerts/aa22-321a   \n",
       "1  https://www.cisa.gov/ncas/alerts/aa22-320a   \n",
       "2  https://www.cisa.gov/ncas/alerts/aa22-294a   \n",
       "3  https://www.cisa.gov/ncas/alerts/aa22-279a   \n",
       "4  https://www.cisa.gov/ncas/alerts/aa22-277a   \n",
       "\n",
       "                                                 ner  \n",
       "0  [[stopransomware.gov, ORG], [The Federal Burea...  \n",
       "1  [[CISA, ORG], [Federal Civilian Executive Bran...  \n",
       "2  [[The Federal Bureau of Investigation, ORG], [...  \n",
       "3  [[People’s Republic of China, GPE], [PRC, GPE]...  \n",
       "4  [[the Cybersecurity and Infrastructure Securit...  "
      ]
     },
     "execution_count": 32,
     "metadata": {},
     "output_type": "execute_result"
    }
   ],
   "source": [
    "df.head()"
   ]
  },
  {
   "cell_type": "code",
   "execution_count": 33,
   "id": "25db88e0-67e4-40c2-9ca6-517a71771d6d",
   "metadata": {},
   "outputs": [
    {
     "name": "stdout",
     "output_type": "stream",
     "text": [
      "        date\n",
      "0 2022-11-17\n"
     ]
    }
   ],
   "source": [
    "print(df.iloc[[0],[3]])"
   ]
  },
  {
   "cell_type": "markdown",
   "id": "165beb7a-47c0-463f-b990-e38f8ca48a0a",
   "metadata": {},
   "source": [
    "# alert to CVE edges"
   ]
  },
  {
   "cell_type": "code",
   "execution_count": 38,
   "id": "db2d7ed5-b8c7-47d1-bba4-06c204c23d67",
   "metadata": {},
   "outputs": [
    {
     "data": {
      "text/html": [
       "<div>\n",
       "<style scoped>\n",
       "    .dataframe tbody tr th:only-of-type {\n",
       "        vertical-align: middle;\n",
       "    }\n",
       "\n",
       "    .dataframe tbody tr th {\n",
       "        vertical-align: top;\n",
       "    }\n",
       "\n",
       "    .dataframe thead th {\n",
       "        text-align: right;\n",
       "    }\n",
       "</style>\n",
       "<table border=\"1\" class=\"dataframe\">\n",
       "  <thead>\n",
       "    <tr style=\"text-align: right;\">\n",
       "      <th></th>\n",
       "      <th>alert_id</th>\n",
       "      <th>CVE_list</th>\n",
       "    </tr>\n",
       "  </thead>\n",
       "  <tbody>\n",
       "    <tr>\n",
       "      <th>0</th>\n",
       "      <td>AA22-321A</td>\n",
       "      <td>CVE-2021-34523</td>\n",
       "    </tr>\n",
       "    <tr>\n",
       "      <th>1</th>\n",
       "      <td>AA22-321A</td>\n",
       "      <td>CVE-2020-12812</td>\n",
       "    </tr>\n",
       "    <tr>\n",
       "      <th>2</th>\n",
       "      <td>AA22-321A</td>\n",
       "      <td>CVE-2021-34473</td>\n",
       "    </tr>\n",
       "    <tr>\n",
       "      <th>3</th>\n",
       "      <td>AA22-321A</td>\n",
       "      <td>CVE-2021-31207</td>\n",
       "    </tr>\n",
       "    <tr>\n",
       "      <th>4</th>\n",
       "      <td>AA22-321A</td>\n",
       "      <td>CVE-2021-42321</td>\n",
       "    </tr>\n",
       "    <tr>\n",
       "      <th>...</th>\n",
       "      <td>...</td>\n",
       "      <td>...</td>\n",
       "    </tr>\n",
       "    <tr>\n",
       "      <th>391</th>\n",
       "      <td>TA09-195A</td>\n",
       "      <td>CVE-2008-0015</td>\n",
       "    </tr>\n",
       "    <tr>\n",
       "      <th>392</th>\n",
       "      <td>TA09-195A</td>\n",
       "      <td>CVE-2009-1537</td>\n",
       "    </tr>\n",
       "    <tr>\n",
       "      <th>393</th>\n",
       "      <td>TA09-133B</td>\n",
       "      <td>CVE-2009-1492</td>\n",
       "    </tr>\n",
       "    <tr>\n",
       "      <th>394</th>\n",
       "      <td>TA09-133B</td>\n",
       "      <td>CVE-2009-1493</td>\n",
       "    </tr>\n",
       "    <tr>\n",
       "      <th>395</th>\n",
       "      <td>TA09-051A</td>\n",
       "      <td>CVE-2009-0658</td>\n",
       "    </tr>\n",
       "  </tbody>\n",
       "</table>\n",
       "<p>396 rows × 2 columns</p>\n",
       "</div>"
      ],
      "text/plain": [
       "      alert_id        CVE_list\n",
       "0    AA22-321A  CVE-2021-34523\n",
       "1    AA22-321A  CVE-2020-12812\n",
       "2    AA22-321A  CVE-2021-34473\n",
       "3    AA22-321A  CVE-2021-31207\n",
       "4    AA22-321A  CVE-2021-42321\n",
       "..         ...             ...\n",
       "391  TA09-195A   CVE-2008-0015\n",
       "392  TA09-195A   CVE-2009-1537\n",
       "393  TA09-133B   CVE-2009-1492\n",
       "394  TA09-133B   CVE-2009-1493\n",
       "395  TA09-051A   CVE-2009-0658\n",
       "\n",
       "[396 rows x 2 columns]"
      ]
     },
     "execution_count": 38,
     "metadata": {},
     "output_type": "execute_result"
    }
   ],
   "source": [
    "#alert to cve edges\n",
    "alert_cve = df[['alert_id','CVE_list']].explode('CVE_list')\n",
    "alert_cve = alert_cve.drop_duplicates().dropna().reset_index(drop=True)\n",
    "alert_cve.to_csv(data_path / 'alert_cve_edge.csv', index=False)\n",
    "alert_cve"
   ]
  },
  {
   "cell_type": "markdown",
   "id": "04fc4786-891c-4447-9a1f-548ba3f0ac2c",
   "metadata": {},
   "source": [
    "# alert nodes"
   ]
  },
  {
   "cell_type": "code",
   "execution_count": 40,
   "id": "5f7ad63e-8a77-4bbd-92e2-42d0c479571b",
   "metadata": {},
   "outputs": [
    {
     "data": {
      "text/html": [
       "<div>\n",
       "<style scoped>\n",
       "    .dataframe tbody tr th:only-of-type {\n",
       "        vertical-align: middle;\n",
       "    }\n",
       "\n",
       "    .dataframe tbody tr th {\n",
       "        vertical-align: top;\n",
       "    }\n",
       "\n",
       "    .dataframe thead th {\n",
       "        text-align: right;\n",
       "    }\n",
       "</style>\n",
       "<table border=\"1\" class=\"dataframe\">\n",
       "  <thead>\n",
       "    <tr style=\"text-align: right;\">\n",
       "      <th></th>\n",
       "      <th>alert_id</th>\n",
       "      <th>full_path</th>\n",
       "      <th>title</th>\n",
       "      <th>date</th>\n",
       "    </tr>\n",
       "  </thead>\n",
       "  <tbody>\n",
       "    <tr>\n",
       "      <th>0</th>\n",
       "      <td>AA22-321A</td>\n",
       "      <td>https://www.cisa.gov/ncas/alerts/aa22-321a</td>\n",
       "      <td>#StopRansomware: Hive Ransomware</td>\n",
       "      <td>2022-11-17</td>\n",
       "    </tr>\n",
       "    <tr>\n",
       "      <th>1</th>\n",
       "      <td>AA22-320A</td>\n",
       "      <td>https://www.cisa.gov/ncas/alerts/aa22-320a</td>\n",
       "      <td>Iranian Government-Sponsored APT Actors Compro...</td>\n",
       "      <td>2022-11-16</td>\n",
       "    </tr>\n",
       "    <tr>\n",
       "      <th>2</th>\n",
       "      <td>AA22-294A</td>\n",
       "      <td>https://www.cisa.gov/ncas/alerts/aa22-294a</td>\n",
       "      <td>#StopRansomware: Daixin Team</td>\n",
       "      <td>2022-10-21</td>\n",
       "    </tr>\n",
       "    <tr>\n",
       "      <th>3</th>\n",
       "      <td>AA22-279A</td>\n",
       "      <td>https://www.cisa.gov/ncas/alerts/aa22-279a</td>\n",
       "      <td>Top CVEs Actively Exploited By People’s Republ...</td>\n",
       "      <td>2022-10-06</td>\n",
       "    </tr>\n",
       "    <tr>\n",
       "      <th>4</th>\n",
       "      <td>AA22-277A</td>\n",
       "      <td>https://www.cisa.gov/ncas/alerts/aa22-277a</td>\n",
       "      <td>Impacket and Exfiltration Tool Used to Steal S...</td>\n",
       "      <td>2022-10-04</td>\n",
       "    </tr>\n",
       "    <tr>\n",
       "      <th>...</th>\n",
       "      <td>...</td>\n",
       "      <td>...</td>\n",
       "      <td>...</td>\n",
       "      <td>...</td>\n",
       "    </tr>\n",
       "    <tr>\n",
       "      <th>281</th>\n",
       "      <td>TA08-352A</td>\n",
       "      <td>https://www.cisa.gov/ncas/alerts/TA08-352A</td>\n",
       "      <td>Microsoft Internet Explorer Data Binding Vulne...</td>\n",
       "      <td>2008-12-17</td>\n",
       "    </tr>\n",
       "    <tr>\n",
       "      <th>282</th>\n",
       "      <td>TA08-350A</td>\n",
       "      <td>https://www.cisa.gov/ncas/alerts/TA08-350A</td>\n",
       "      <td>Apple Updates for Multiple Vulnerabilities</td>\n",
       "      <td>2008-12-15</td>\n",
       "    </tr>\n",
       "    <tr>\n",
       "      <th>283</th>\n",
       "      <td>TA08-344A</td>\n",
       "      <td>https://www.cisa.gov/ncas/alerts/TA08-344A</td>\n",
       "      <td>Microsoft Updates for Multiple Vulnerabilities</td>\n",
       "      <td>2008-12-09</td>\n",
       "    </tr>\n",
       "    <tr>\n",
       "      <th>284</th>\n",
       "      <td>TA08-340A</td>\n",
       "      <td>https://www.cisa.gov/ncas/alerts/TA08-340A</td>\n",
       "      <td>Sun Java Updates for Multiple Vulnerabilities</td>\n",
       "      <td>2008-12-05</td>\n",
       "    </tr>\n",
       "    <tr>\n",
       "      <th>285</th>\n",
       "      <td>TA08-319A</td>\n",
       "      <td>https://www.cisa.gov/ncas/alerts/TA08-319A</td>\n",
       "      <td>Mozilla Updates for Multiple Vulnerabilities</td>\n",
       "      <td>2008-11-14</td>\n",
       "    </tr>\n",
       "  </tbody>\n",
       "</table>\n",
       "<p>286 rows × 4 columns</p>\n",
       "</div>"
      ],
      "text/plain": [
       "      alert_id                                   full_path  \\\n",
       "0    AA22-321A  https://www.cisa.gov/ncas/alerts/aa22-321a   \n",
       "1    AA22-320A  https://www.cisa.gov/ncas/alerts/aa22-320a   \n",
       "2    AA22-294A  https://www.cisa.gov/ncas/alerts/aa22-294a   \n",
       "3    AA22-279A  https://www.cisa.gov/ncas/alerts/aa22-279a   \n",
       "4    AA22-277A  https://www.cisa.gov/ncas/alerts/aa22-277a   \n",
       "..         ...                                         ...   \n",
       "281  TA08-352A  https://www.cisa.gov/ncas/alerts/TA08-352A   \n",
       "282  TA08-350A  https://www.cisa.gov/ncas/alerts/TA08-350A   \n",
       "283  TA08-344A  https://www.cisa.gov/ncas/alerts/TA08-344A   \n",
       "284  TA08-340A  https://www.cisa.gov/ncas/alerts/TA08-340A   \n",
       "285  TA08-319A  https://www.cisa.gov/ncas/alerts/TA08-319A   \n",
       "\n",
       "                                                 title       date  \n",
       "0                     #StopRansomware: Hive Ransomware 2022-11-17  \n",
       "1    Iranian Government-Sponsored APT Actors Compro... 2022-11-16  \n",
       "2                         #StopRansomware: Daixin Team 2022-10-21  \n",
       "3    Top CVEs Actively Exploited By People’s Republ... 2022-10-06  \n",
       "4    Impacket and Exfiltration Tool Used to Steal S... 2022-10-04  \n",
       "..                                                 ...        ...  \n",
       "281  Microsoft Internet Explorer Data Binding Vulne... 2008-12-17  \n",
       "282         Apple Updates for Multiple Vulnerabilities 2008-12-15  \n",
       "283     Microsoft Updates for Multiple Vulnerabilities 2008-12-09  \n",
       "284      Sun Java Updates for Multiple Vulnerabilities 2008-12-05  \n",
       "285       Mozilla Updates for Multiple Vulnerabilities 2008-11-14  \n",
       "\n",
       "[286 rows x 4 columns]"
      ]
     },
     "execution_count": 40,
     "metadata": {},
     "output_type": "execute_result"
    }
   ],
   "source": [
    "alerts_nodes = df[['alert_id','full_path','title','date']].drop_duplicates()\n",
    "alerts_nodes.to_csv(data_path / 'alert_nodes.csv')\n",
    "alerts_nodes"
   ]
  },
  {
   "cell_type": "markdown",
   "id": "993bf659-6d17-4fe2-888e-b76a89e505ba",
   "metadata": {},
   "source": [
    "# dedupe"
   ]
  },
  {
   "cell_type": "code",
   "execution_count": 41,
   "id": "fe71ee6a-2a72-4b6f-8d18-2619bb776ad6",
   "metadata": {},
   "outputs": [],
   "source": [
    "import os\n",
    "import csv\n",
    "import re\n",
    "import logging\n",
    "import optparse\n",
    "\n",
    "import dedupe\n",
    "from unidecode import unidecode"
   ]
  },
  {
   "cell_type": "code",
   "execution_count": 67,
   "id": "ccf0b9ca-452e-418f-b2c9-be9fd73df38b",
   "metadata": {},
   "outputs": [],
   "source": [
    "#alert to entity edges\n",
    "df_ner = df[['alert_id','ner']].explode('ner')\n",
    "df_ner[['label','type']] = pd.DataFrame(df_ner.ner.tolist(), index= df_ner.index)\n",
    "df_ner=df_ner.reset_index(level=0)\n",
    "df_ner=df_ner.drop(columns='ner')"
   ]
  },
  {
   "cell_type": "code",
   "execution_count": 46,
   "id": "96604b46-3394-45d4-8bf8-27ad060c98a3",
   "metadata": {},
   "outputs": [
    {
     "data": {
      "text/html": [
       "<div>\n",
       "<style scoped>\n",
       "    .dataframe tbody tr th:only-of-type {\n",
       "        vertical-align: middle;\n",
       "    }\n",
       "\n",
       "    .dataframe tbody tr th {\n",
       "        vertical-align: top;\n",
       "    }\n",
       "\n",
       "    .dataframe thead th {\n",
       "        text-align: right;\n",
       "    }\n",
       "</style>\n",
       "<table border=\"1\" class=\"dataframe\">\n",
       "  <thead>\n",
       "    <tr style=\"text-align: right;\">\n",
       "      <th></th>\n",
       "      <th>label</th>\n",
       "      <th>type</th>\n",
       "    </tr>\n",
       "  </thead>\n",
       "  <tbody>\n",
       "    <tr>\n",
       "      <th>0</th>\n",
       "      <td>stopransomware.gov</td>\n",
       "      <td>ORG</td>\n",
       "    </tr>\n",
       "    <tr>\n",
       "      <th>1</th>\n",
       "      <td>The Federal Bureau of Investigation</td>\n",
       "      <td>ORG</td>\n",
       "    </tr>\n",
       "    <tr>\n",
       "      <th>2</th>\n",
       "      <td>FBI</td>\n",
       "      <td>ORG</td>\n",
       "    </tr>\n",
       "    <tr>\n",
       "      <th>3</th>\n",
       "      <td>the Cybersecurity and Infrastructure Security ...</td>\n",
       "      <td>ORG</td>\n",
       "    </tr>\n",
       "    <tr>\n",
       "      <th>4</th>\n",
       "      <td>CISA</td>\n",
       "      <td>ORG</td>\n",
       "    </tr>\n",
       "    <tr>\n",
       "      <th>...</th>\n",
       "      <td>...</td>\n",
       "      <td>...</td>\n",
       "    </tr>\n",
       "    <tr>\n",
       "      <th>3632</th>\n",
       "      <td>Mozilla Foundation</td>\n",
       "      <td>ORG</td>\n",
       "    </tr>\n",
       "    <tr>\n",
       "      <th>3633</th>\n",
       "      <td>Firefox 3.0.4</td>\n",
       "      <td>PRODUCT</td>\n",
       "    </tr>\n",
       "    <tr>\n",
       "      <th>3634</th>\n",
       "      <td>Firefox 2.0.0.18</td>\n",
       "      <td>PRODUCT</td>\n",
       "    </tr>\n",
       "    <tr>\n",
       "      <th>3635</th>\n",
       "      <td>SeaMonkey 1.1.13</td>\n",
       "      <td>PRODUCT</td>\n",
       "    </tr>\n",
       "    <tr>\n",
       "      <th>3636</th>\n",
       "      <td>NoScript Firefox Extension</td>\n",
       "      <td>PRODUCT</td>\n",
       "    </tr>\n",
       "  </tbody>\n",
       "</table>\n",
       "<p>3637 rows × 2 columns</p>\n",
       "</div>"
      ],
      "text/plain": [
       "                                                  label     type\n",
       "0                                    stopransomware.gov      ORG\n",
       "1                   The Federal Bureau of Investigation      ORG\n",
       "2                                                   FBI      ORG\n",
       "3     the Cybersecurity and Infrastructure Security ...      ORG\n",
       "4                                                  CISA      ORG\n",
       "...                                                 ...      ...\n",
       "3632                                 Mozilla Foundation      ORG\n",
       "3633                                      Firefox 3.0.4  PRODUCT\n",
       "3634                                   Firefox 2.0.0.18  PRODUCT\n",
       "3635                                   SeaMonkey 1.1.13  PRODUCT\n",
       "3636                         NoScript Firefox Extension  PRODUCT\n",
       "\n",
       "[3637 rows x 2 columns]"
      ]
     },
     "execution_count": 46,
     "metadata": {},
     "output_type": "execute_result"
    }
   ],
   "source": [
    "ner_dedupe = df_ner[['label', 'type']]\n",
    "ner_dedupe = ner_dedupe.drop_duplicates()\n",
    "ner_dedupe = ner_dedupe.reset_index(drop=True)\n",
    "ner_dedupe.to_csv(data_path / 'alert_ner.csv', index=True, index_label = 'Id', columns=['label','type'])\n",
    "ner_dedupe"
   ]
  },
  {
   "cell_type": "code",
   "execution_count": 49,
   "id": "da51eac8-f78a-4023-a1d5-cbfad4946b8e",
   "metadata": {},
   "outputs": [],
   "source": [
    "#Do a little bit of data cleaning with the help of Unidecode and Regex. Things like casing, extra spaces, quotes and new lines can be ignored.\n",
    "\n",
    "def preProcess(column):\n",
    "#\n",
    "    column = unidecode(column)\n",
    "    column = re.sub('  +', ' ', column)\n",
    "    column = re.sub('\\n', ' ', column)\n",
    "    column = column.strip().strip('\"').strip(\"'\").lower().strip()\n",
    "#If data is missing, indicate that by setting the value to None\n",
    "\n",
    "    if not column:\n",
    "        column = None\n",
    "    return column\n",
    "#Read in our data from a CSV file and create a dictionary of records, where the key is a unique record ID and each value is dict\n",
    "\n",
    "def readData(filename):\n",
    "#\n",
    "    data_d = {}\n",
    "    with open(filename, encoding=\"utf8\") as f:\n",
    "        reader = csv.DictReader(f)\n",
    "        for row in reader:\n",
    "            clean_row = [(k, preProcess(v)) for (k, v) in row.items()]\n",
    "            row_id = int(row['Id'])\n",
    "            data_d[row_id] = dict(clean_row)\n",
    "\n",
    "    return data_d\n"
   ]
  },
  {
   "cell_type": "code",
   "execution_count": 54,
   "id": "120679c6-348c-4ef3-b5f1-49c7c7a2ef8e",
   "metadata": {},
   "outputs": [],
   "source": [
    "input_file = data_path / 'alert_ner.csv'\n",
    "output_file = data_path / 'ner_cluster.csv'\n",
    "training_file = data_path / 'ner_training.json'"
   ]
  },
  {
   "cell_type": "code",
   "execution_count": 50,
   "id": "28bcc3ce-f952-4766-aca4-b4929dc09c18",
   "metadata": {},
   "outputs": [],
   "source": [
    "data_d=readData(input_file)"
   ]
  },
  {
   "cell_type": "code",
   "execution_count": 52,
   "id": "b6d51297-376e-4c6f-8193-6f113dbdaf40",
   "metadata": {},
   "outputs": [],
   "source": [
    "#define dedupe\n",
    "fields = [\n",
    "            {'field': 'label', 'type': 'String'},            {'field': 'type', 'type': 'String'}\n",
    "            ]\n",
    "deduper = dedupe.Dedupe(fields)"
   ]
  },
  {
   "cell_type": "code",
   "execution_count": 53,
   "id": "55d510c6-8a3a-4842-a849-abb92a7375f9",
   "metadata": {},
   "outputs": [
    {
     "name": "stdout",
     "output_type": "stream",
     "text": [
      "preparing training...\n"
     ]
    }
   ],
   "source": [
    "print('preparing training...')\n",
    "if os.path.exists(training_file):\n",
    "    print('reading labeled examples from ', training_file)\n",
    "    with open(training_file, 'rb') as f:\n",
    "        deduper.prepare_training(data_d, f)\n",
    "else:\n",
    "    deduper.prepare_training(data_d)"
   ]
  },
  {
   "cell_type": "code",
   "execution_count": 55,
   "id": "ccbd50ad-29cb-473f-ae76-83f6ba0ab2a6",
   "metadata": {},
   "outputs": [
    {
     "name": "stderr",
     "output_type": "stream",
     "text": [
      "label : the cybersecurity and infrastructure security agency\n",
      "type : org\n",
      "\n",
      "label : the cybersecurity and infrastructure security agency's\n",
      "type : org\n",
      "\n",
      "0/10 positive, 0/10 negative\n",
      "Do these records refer to the same thing?\n",
      "(y)es / (n)o / (u)nsure / (f)inished\n"
     ]
    },
    {
     "name": "stdout",
     "output_type": "stream",
     "text": [
      "starting active labeling...\n"
     ]
    },
    {
     "name": "stdin",
     "output_type": "stream",
     "text": [
      " y\n"
     ]
    },
    {
     "name": "stderr",
     "output_type": "stream",
     "text": [
      "label : the department of the treasury\n",
      "type : org\n",
      "\n",
      "label : the department of the treasury's\n",
      "type : org\n",
      "\n",
      "1/10 positive, 0/10 negative\n",
      "Do these records refer to the same thing?\n",
      "(y)es / (n)o / (u)nsure / (f)inished / (p)revious\n"
     ]
    },
    {
     "name": "stdin",
     "output_type": "stream",
     "text": [
      " y\n"
     ]
    },
    {
     "name": "stderr",
     "output_type": "stream",
     "text": [
      "label : internet explorer\n",
      "type : product\n",
      "\n",
      "label : internet explorer 7\n",
      "type : product\n",
      "\n",
      "2/10 positive, 0/10 negative\n",
      "Do these records refer to the same thing?\n",
      "(y)es / (n)o / (u)nsure / (f)inished / (p)revious\n"
     ]
    },
    {
     "name": "stdin",
     "output_type": "stream",
     "text": [
      " y\n"
     ]
    },
    {
     "name": "stderr",
     "output_type": "stream",
     "text": [
      "label : internet explorer\n",
      "type : product\n",
      "\n",
      "label : internet explorer's\n",
      "type : product\n",
      "\n",
      "3/10 positive, 0/10 negative\n",
      "Do these records refer to the same thing?\n",
      "(y)es / (n)o / (u)nsure / (f)inished / (p)revious\n"
     ]
    },
    {
     "name": "stdin",
     "output_type": "stream",
     "text": [
      " y\n"
     ]
    },
    {
     "name": "stderr",
     "output_type": "stream",
     "text": [
      "label : the daixin team\n",
      "type : org\n",
      "\n",
      "label : the daixin team's\n",
      "type : org\n",
      "\n",
      "4/10 positive, 0/10 negative\n",
      "Do these records refer to the same thing?\n",
      "(y)es / (n)o / (u)nsure / (f)inished / (p)revious\n"
     ]
    },
    {
     "name": "stdin",
     "output_type": "stream",
     "text": [
      " y\n"
     ]
    },
    {
     "name": "stderr",
     "output_type": "stream",
     "text": [
      "label : windows server 2008 r2 sp1\n",
      "type : product\n",
      "\n",
      "label : windows server 2008\n",
      "type : product\n",
      "\n",
      "5/10 positive, 0/10 negative\n",
      "Do these records refer to the same thing?\n",
      "(y)es / (n)o / (u)nsure / (f)inished / (p)revious\n"
     ]
    },
    {
     "name": "stdin",
     "output_type": "stream",
     "text": [
      " y\n"
     ]
    },
    {
     "name": "stderr",
     "output_type": "stream",
     "text": [
      "label : the uk government\n",
      "type : org\n",
      "\n",
      "label : the uk government.[19][20\n",
      "type : org\n",
      "\n",
      "6/10 positive, 0/10 negative\n",
      "Do these records refer to the same thing?\n",
      "(y)es / (n)o / (u)nsure / (f)inished / (p)revious\n"
     ]
    },
    {
     "name": "stdin",
     "output_type": "stream",
     "text": [
      " y\n"
     ]
    },
    {
     "name": "stderr",
     "output_type": "stream",
     "text": [
      "label : volume shadow\n",
      "type : product\n",
      "\n",
      "label : volume shadow copies\n",
      "type : product\n",
      "\n",
      "7/10 positive, 0/10 negative\n",
      "Do these records refer to the same thing?\n",
      "(y)es / (n)o / (u)nsure / (f)inished / (p)revious\n"
     ]
    },
    {
     "name": "stdin",
     "output_type": "stream",
     "text": [
      " y\n"
     ]
    },
    {
     "name": "stderr",
     "output_type": "stream",
     "text": [
      "label : flash playeradobe\n",
      "type : product\n",
      "\n",
      "label : flash player\n",
      "type : product\n",
      "\n",
      "8/10 positive, 0/10 negative\n",
      "Do these records refer to the same thing?\n",
      "(y)es / (n)o / (u)nsure / (f)inished / (p)revious\n"
     ]
    },
    {
     "name": "stdin",
     "output_type": "stream",
     "text": [
      " y\n"
     ]
    },
    {
     "name": "stderr",
     "output_type": "stream",
     "text": [
      "label : photoshop cs5\n",
      "type : product\n",
      "\n",
      "label : photoshop\n",
      "type : product\n",
      "\n",
      "9/10 positive, 0/10 negative\n",
      "Do these records refer to the same thing?\n",
      "(y)es / (n)o / (u)nsure / (f)inished / (p)revious\n"
     ]
    },
    {
     "name": "stdin",
     "output_type": "stream",
     "text": [
      " y\n"
     ]
    },
    {
     "name": "stderr",
     "output_type": "stream",
     "text": [
      "label : cert nz[7\n",
      "type : org\n",
      "\n",
      "label : cert nz\n",
      "type : org\n",
      "\n",
      "10/10 positive, 0/10 negative\n",
      "Do these records refer to the same thing?\n",
      "(y)es / (n)o / (u)nsure / (f)inished / (p)revious\n"
     ]
    },
    {
     "name": "stdin",
     "output_type": "stream",
     "text": [
      " y\n"
     ]
    },
    {
     "name": "stderr",
     "output_type": "stream",
     "text": [
      "label : firefox\n",
      "type : product\n",
      "\n",
      "label : firefox 34\n",
      "type : product\n",
      "\n",
      "11/10 positive, 0/10 negative\n",
      "Do these records refer to the same thing?\n",
      "(y)es / (n)o / (u)nsure / (f)inished / (p)revious\n"
     ]
    },
    {
     "name": "stdin",
     "output_type": "stream",
     "text": [
      " y\n"
     ]
    },
    {
     "name": "stderr",
     "output_type": "stream",
     "text": [
      "label : microsoft security\n",
      "type : org\n",
      "\n",
      "label : microsoft security blog\n",
      "type : org\n",
      "\n",
      "12/10 positive, 0/10 negative\n",
      "Do these records refer to the same thing?\n",
      "(y)es / (n)o / (u)nsure / (f)inished / (p)revious\n"
     ]
    },
    {
     "name": "stdin",
     "output_type": "stream",
     "text": [
      " y\n"
     ]
    },
    {
     "name": "stderr",
     "output_type": "stream",
     "text": [
      "label : flash player 10\n",
      "type : product\n",
      "\n",
      "label : flash player 10.0.22.87\n",
      "type : product\n",
      "\n",
      "13/10 positive, 0/10 negative\n",
      "Do these records refer to the same thing?\n",
      "(y)es / (n)o / (u)nsure / (f)inished / (p)revious\n"
     ]
    },
    {
     "name": "stdin",
     "output_type": "stream",
     "text": [
      " y\n"
     ]
    },
    {
     "name": "stderr",
     "output_type": "stream",
     "text": [
      "label : windows nt 10.0\n",
      "type : product\n",
      "\n",
      "label : windows nt\n",
      "type : product\n",
      "\n",
      "14/10 positive, 0/10 negative\n",
      "Do these records refer to the same thing?\n",
      "(y)es / (n)o / (u)nsure / (f)inished / (p)revious\n"
     ]
    },
    {
     "name": "stdin",
     "output_type": "stream",
     "text": [
      " y\n"
     ]
    },
    {
     "name": "stderr",
     "output_type": "stream",
     "text": [
      "label : sysinternals autoruns\n",
      "type : product\n",
      "\n",
      "label : sysinternals\n",
      "type : product\n",
      "\n",
      "15/10 positive, 0/10 negative\n",
      "Do these records refer to the same thing?\n",
      "(y)es / (n)o / (u)nsure / (f)inished / (p)revious\n"
     ]
    },
    {
     "name": "stdin",
     "output_type": "stream",
     "text": [
      " y\n"
     ]
    },
    {
     "name": "stderr",
     "output_type": "stream",
     "text": [
      "label : onapsis\n",
      "type : org\n",
      "\n",
      "label : onapsis inc.\n",
      "type : org\n",
      "\n",
      "16/10 positive, 0/10 negative\n",
      "Do these records refer to the same thing?\n",
      "(y)es / (n)o / (u)nsure / (f)inished / (p)revious\n"
     ]
    },
    {
     "name": "stdin",
     "output_type": "stream",
     "text": [
      " y\n"
     ]
    },
    {
     "name": "stderr",
     "output_type": "stream",
     "text": [
      "label : windows server\n",
      "type : product\n",
      "\n",
      "label : windows server update services\n",
      "type : product\n",
      "\n",
      "17/10 positive, 0/10 negative\n",
      "Do these records refer to the same thing?\n",
      "(y)es / (n)o / (u)nsure / (f)inished / (p)revious\n"
     ]
    },
    {
     "name": "stdin",
     "output_type": "stream",
     "text": [
      " y\n"
     ]
    },
    {
     "name": "stderr",
     "output_type": "stream",
     "text": [
      "label : pulse secure\n",
      "type : product\n",
      "\n",
      "label : pulse secure vpn vulnerability\n",
      "type : product\n",
      "\n",
      "18/10 positive, 0/10 negative\n",
      "Do these records refer to the same thing?\n",
      "(y)es / (n)o / (u)nsure / (f)inished / (p)revious\n"
     ]
    },
    {
     "name": "stdin",
     "output_type": "stream",
     "text": [
      " y\n"
     ]
    },
    {
     "name": "stderr",
     "output_type": "stream",
     "text": [
      "label : mac os\n",
      "type : product\n",
      "\n",
      "label : mac os x.\n",
      "type : product\n",
      "\n",
      "19/10 positive, 0/10 negative\n",
      "Do these records refer to the same thing?\n",
      "(y)es / (n)o / (u)nsure / (f)inished / (p)revious\n"
     ]
    },
    {
     "name": "stdin",
     "output_type": "stream",
     "text": [
      " y\n"
     ]
    },
    {
     "name": "stderr",
     "output_type": "stream",
     "text": [
      "label : mac os x\n",
      "type : product\n",
      "\n",
      "label : mac os x v10.5.6\n",
      "type : product\n",
      "\n",
      "20/10 positive, 0/10 negative\n",
      "Do these records refer to the same thing?\n",
      "(y)es / (n)o / (u)nsure / (f)inished / (p)revious\n"
     ]
    },
    {
     "name": "stdin",
     "output_type": "stream",
     "text": [
      " y\n"
     ]
    },
    {
     "name": "stderr",
     "output_type": "stream",
     "text": [
      "label : azure ad\n",
      "type : product\n",
      "\n",
      "label : azure\n",
      "type : product\n",
      "\n",
      "21/10 positive, 0/10 negative\n",
      "Do these records refer to the same thing?\n",
      "(y)es / (n)o / (u)nsure / (f)inished / (p)revious\n"
     ]
    },
    {
     "name": "stdin",
     "output_type": "stream",
     "text": [
      " y\n"
     ]
    },
    {
     "name": "stderr",
     "output_type": "stream",
     "text": [
      "label : sharepoint\n",
      "type : product\n",
      "\n",
      "label : sharepoint server 2010 sp2\n",
      "type : product\n",
      "\n",
      "22/10 positive, 0/10 negative\n",
      "Do these records refer to the same thing?\n",
      "(y)es / (n)o / (u)nsure / (f)inished / (p)revious\n"
     ]
    },
    {
     "name": "stdin",
     "output_type": "stream",
     "text": [
      " y\n"
     ]
    },
    {
     "name": "stderr",
     "output_type": "stream",
     "text": [
      "label : exchange\n",
      "type : product\n",
      "\n",
      "label : exchange server 2013\n",
      "type : product\n",
      "\n",
      "23/10 positive, 0/10 negative\n",
      "Do these records refer to the same thing?\n",
      "(y)es / (n)o / (u)nsure / (f)inished / (p)revious\n"
     ]
    },
    {
     "name": "stdin",
     "output_type": "stream",
     "text": [
      " y\n"
     ]
    },
    {
     "name": "stderr",
     "output_type": "stream",
     "text": [
      "label : apt41\n",
      "type : product\n",
      "\n",
      "label : apt\n",
      "type : product\n",
      "\n",
      "24/10 positive, 0/10 negative\n",
      "Do these records refer to the same thing?\n",
      "(y)es / (n)o / (u)nsure / (f)inished / (p)revious\n"
     ]
    },
    {
     "name": "stdin",
     "output_type": "stream",
     "text": [
      " y\n"
     ]
    },
    {
     "name": "stderr",
     "output_type": "stream",
     "text": [
      "label : java\n",
      "type : product\n",
      "\n",
      "label : javascript\n",
      "type : product\n",
      "\n",
      "25/10 positive, 0/10 negative\n",
      "Do these records refer to the same thing?\n",
      "(y)es / (n)o / (u)nsure / (f)inished / (p)revious\n"
     ]
    },
    {
     "name": "stdin",
     "output_type": "stream",
     "text": [
      " n\n"
     ]
    },
    {
     "name": "stderr",
     "output_type": "stream",
     "text": [
      "label : macos x\n",
      "type : product\n",
      "\n",
      "label : macos x program\n",
      "type : product\n",
      "\n",
      "25/10 positive, 1/10 negative\n",
      "Do these records refer to the same thing?\n",
      "(y)es / (n)o / (u)nsure / (f)inished / (p)revious\n"
     ]
    },
    {
     "name": "stdin",
     "output_type": "stream",
     "text": [
      " y\n"
     ]
    },
    {
     "name": "stderr",
     "output_type": "stream",
     "text": [
      "label : cisco\n",
      "type : org\n",
      "\n",
      "label : cisco blogs\n",
      "type : org\n",
      "\n",
      "26/10 positive, 1/10 negative\n",
      "Do these records refer to the same thing?\n",
      "(y)es / (n)o / (u)nsure / (f)inished / (p)revious\n"
     ]
    },
    {
     "name": "stdin",
     "output_type": "stream",
     "text": [
      " y\n"
     ]
    },
    {
     "name": "stderr",
     "output_type": "stream",
     "text": [
      "label : u.s\n",
      "type : gpe\n",
      "\n",
      "label : u.s.-china\n",
      "type : gpe\n",
      "\n",
      "27/10 positive, 1/10 negative\n",
      "Do these records refer to the same thing?\n",
      "(y)es / (n)o / (u)nsure / (f)inished / (p)revious\n"
     ]
    },
    {
     "name": "stdin",
     "output_type": "stream",
     "text": [
      " n\n"
     ]
    },
    {
     "name": "stderr",
     "output_type": "stream",
     "text": [
      "label : nmap scripting engine\n",
      "type : product\n",
      "\n",
      "label : nmap\n",
      "type : product\n",
      "\n",
      "27/10 positive, 2/10 negative\n",
      "Do these records refer to the same thing?\n",
      "(y)es / (n)o / (u)nsure / (f)inished / (p)revious\n"
     ]
    },
    {
     "name": "stdin",
     "output_type": "stream",
     "text": [
      " y\n"
     ]
    },
    {
     "name": "stderr",
     "output_type": "stream",
     "text": [
      "label : win\n",
      "type : product\n",
      "\n",
      "label : windowsinternet\n",
      "type : product\n",
      "\n",
      "28/10 positive, 2/10 negative\n",
      "Do these records refer to the same thing?\n",
      "(y)es / (n)o / (u)nsure / (f)inished / (p)revious\n"
     ]
    },
    {
     "name": "stdin",
     "output_type": "stream",
     "text": [
      " n\n"
     ]
    },
    {
     "name": "stderr",
     "output_type": "stream",
     "text": [
      "label : microsoft\n",
      "type : org\n",
      "\n",
      "label : microsoftmicrosoft\n",
      "type : org\n",
      "\n",
      "28/10 positive, 3/10 negative\n",
      "Do these records refer to the same thing?\n",
      "(y)es / (n)o / (u)nsure / (f)inished / (p)revious\n"
     ]
    },
    {
     "name": "stdin",
     "output_type": "stream",
     "text": [
      " y\n"
     ]
    },
    {
     "name": "stderr",
     "output_type": "stream",
     "text": [
      "label : shockwave playerapsb11\n",
      "type : product\n",
      "\n",
      "label : shockwave\n",
      "type : product\n",
      "\n",
      "29/10 positive, 3/10 negative\n",
      "Do these records refer to the same thing?\n",
      "(y)es / (n)o / (u)nsure / (f)inished / (p)revious\n"
     ]
    },
    {
     "name": "stdin",
     "output_type": "stream",
     "text": [
      " y\n"
     ]
    },
    {
     "name": "stderr",
     "output_type": "stream",
     "text": [
      "label : windows\n",
      "type : org\n",
      "\n",
      "label : windowsmicrosoft\n",
      "type : org\n",
      "\n",
      "30/10 positive, 3/10 negative\n",
      "Do these records refer to the same thing?\n",
      "(y)es / (n)o / (u)nsure / (f)inished / (p)revious\n"
     ]
    },
    {
     "name": "stdin",
     "output_type": "stream",
     "text": [
      " y\n"
     ]
    },
    {
     "name": "stderr",
     "output_type": "stream",
     "text": [
      "label : netsupport\n",
      "type : product\n",
      "\n",
      "label : netsupport remote access tool\n",
      "type : product\n",
      "\n",
      "31/10 positive, 3/10 negative\n",
      "Do these records refer to the same thing?\n",
      "(y)es / (n)o / (u)nsure / (f)inished / (p)revious\n"
     ]
    },
    {
     "name": "stdin",
     "output_type": "stream",
     "text": [
      " y\n"
     ]
    },
    {
     "name": "stderr",
     "output_type": "stream",
     "text": [
      "label : win64\n",
      "type : product\n",
      "\n",
      "label : win\n",
      "type : product\n",
      "\n",
      "32/10 positive, 3/10 negative\n",
      "Do these records refer to the same thing?\n",
      "(y)es / (n)o / (u)nsure / (f)inished / (p)revious\n"
     ]
    },
    {
     "name": "stdin",
     "output_type": "stream",
     "text": [
      " u\n"
     ]
    },
    {
     "name": "stderr",
     "output_type": "stream",
     "text": [
      "label : mac os x\n",
      "type : product\n",
      "\n",
      "label : mac os x v10.5.8 / security update 2009-003\n",
      "type : product\n",
      "\n",
      "32/10 positive, 3/10 negative\n",
      "Do these records refer to the same thing?\n",
      "(y)es / (n)o / (u)nsure / (f)inished / (p)revious\n"
     ]
    },
    {
     "name": "stdin",
     "output_type": "stream",
     "text": [
      " y\n"
     ]
    },
    {
     "name": "stderr",
     "output_type": "stream",
     "text": [
      "label : office\n",
      "type : product\n",
      "\n",
      "label : office compatibility pack sp3\n",
      "type : product\n",
      "\n",
      "33/10 positive, 3/10 negative\n",
      "Do these records refer to the same thing?\n",
      "(y)es / (n)o / (u)nsure / (f)inished / (p)revious\n"
     ]
    },
    {
     "name": "stdin",
     "output_type": "stream",
     "text": [
      " n\n"
     ]
    },
    {
     "name": "stderr",
     "output_type": "stream",
     "text": [
      "label : mac os\n",
      "type : product\n",
      "\n",
      "label : mac os x\"/applications/adobe reader 9\n",
      "type : product\n",
      "\n",
      "33/10 positive, 4/10 negative\n",
      "Do these records refer to the same thing?\n",
      "(y)es / (n)o / (u)nsure / (f)inished / (p)revious\n"
     ]
    },
    {
     "name": "stdin",
     "output_type": "stream",
     "text": [
      " n\n"
     ]
    },
    {
     "name": "stderr",
     "output_type": "stream",
     "text": [
      "label : uk\n",
      "type : org\n",
      "\n",
      "label : ukgov\n",
      "type : org\n",
      "\n",
      "33/10 positive, 5/10 negative\n",
      "Do these records refer to the same thing?\n",
      "(y)es / (n)o / (u)nsure / (f)inished / (p)revious\n"
     ]
    },
    {
     "name": "stdin",
     "output_type": "stream",
     "text": [
      " y\n"
     ]
    },
    {
     "name": "stderr",
     "output_type": "stream",
     "text": [
      "label : atlassian jira data center\n",
      "type : org\n",
      "\n",
      "label : atl\n",
      "type : org\n",
      "\n",
      "34/10 positive, 5/10 negative\n",
      "Do these records refer to the same thing?\n",
      "(y)es / (n)o / (u)nsure / (f)inished / (p)revious\n"
     ]
    },
    {
     "name": "stdin",
     "output_type": "stream",
     "text": [
      " n\n"
     ]
    },
    {
     "name": "stderr",
     "output_type": "stream",
     "text": [
      "label : windows server 2003\n",
      "type : product\n",
      "\n",
      "label : 7windows server 2003windows\n",
      "type : product\n",
      "\n",
      "34/10 positive, 6/10 negative\n",
      "Do these records refer to the same thing?\n",
      "(y)es / (n)o / (u)nsure / (f)inished / (p)revious\n"
     ]
    },
    {
     "name": "stdin",
     "output_type": "stream",
     "text": [
      " y\n"
     ]
    },
    {
     "name": "stderr",
     "output_type": "stream",
     "text": [
      "label : java 7\n",
      "type : product\n",
      "\n",
      "label : java se critical patch update advisory update\n",
      "type : product\n",
      "\n",
      "35/10 positive, 6/10 negative\n",
      "Do these records refer to the same thing?\n",
      "(y)es / (n)o / (u)nsure / (f)inished / (p)revious\n"
     ]
    },
    {
     "name": "stdin",
     "output_type": "stream",
     "text": [
      " n\n"
     ]
    },
    {
     "name": "stderr",
     "output_type": "stream",
     "text": [
      "label : e5\n",
      "type : product\n",
      "\n",
      "label : windows xp service pack 3windows xp professional x64 edition service pack 2windows server 2003\n",
      "type : product\n",
      "\n",
      "35/10 positive, 7/10 negative\n",
      "Do these records refer to the same thing?\n",
      "(y)es / (n)o / (u)nsure / (f)inished / (p)revious\n"
     ]
    },
    {
     "name": "stdin",
     "output_type": "stream",
     "text": [
      " n\n"
     ]
    },
    {
     "name": "stderr",
     "output_type": "stream",
     "text": [
      "label : exchange server vulnerabilities mitigations\n",
      "type : product\n",
      "\n",
      "label : 9\n",
      "type : product\n",
      "\n",
      "35/10 positive, 8/10 negative\n",
      "Do these records refer to the same thing?\n",
      "(y)es / (n)o / (u)nsure / (f)inished / (p)revious\n"
     ]
    },
    {
     "name": "stdin",
     "output_type": "stream",
     "text": [
      " n\n"
     ]
    },
    {
     "name": "stderr",
     "output_type": "stream",
     "text": [
      "label : the microsoft enhanced mitigation experience toolkit (emet)emet can be used to help prevent exploitation of the flash vulnerabilities\n",
      "type : product\n",
      "\n",
      "label : tiger\n",
      "type : product\n",
      "\n",
      "35/10 positive, 9/10 negative\n",
      "Do these records refer to the same thing?\n",
      "(y)es / (n)o / (u)nsure / (f)inished / (p)revious\n"
     ]
    },
    {
     "name": "stdin",
     "output_type": "stream",
     "text": [
      " n\n"
     ]
    },
    {
     "name": "stderr",
     "output_type": "stream",
     "text": [
      "label : microsoft exchange on-premises mitigation tool\n",
      "type : org\n",
      "\n",
      "label : microsift\n",
      "type : product\n",
      "\n",
      "35/10 positive, 10/10 negative\n",
      "Do these records refer to the same thing?\n",
      "(y)es / (n)o / (u)nsure / (f)inished / (p)revious\n"
     ]
    },
    {
     "name": "stdin",
     "output_type": "stream",
     "text": [
      " n\n"
     ]
    },
    {
     "name": "stderr",
     "output_type": "stream",
     "text": [
      "label : u.s\n",
      "type : gpe\n",
      "\n",
      "label : u.s. environmental protection agency\n",
      "type : org\n",
      "\n",
      "35/10 positive, 11/10 negative\n",
      "Do these records refer to the same thing?\n",
      "(y)es / (n)o / (u)nsure / (f)inished / (p)revious\n"
     ]
    },
    {
     "name": "stdin",
     "output_type": "stream",
     "text": [
      " n\n"
     ]
    },
    {
     "name": "stderr",
     "output_type": "stream",
     "text": [
      "label : me\n",
      "type : product\n",
      "\n",
      "label : mac os x\"/applications/adobe reader 9\n",
      "type : product\n",
      "\n",
      "35/10 positive, 12/10 negative\n",
      "Do these records refer to the same thing?\n",
      "(y)es / (n)o / (u)nsure / (f)inished / (p)revious\n"
     ]
    },
    {
     "name": "stdin",
     "output_type": "stream",
     "text": [
      " n\n"
     ]
    },
    {
     "name": "stderr",
     "output_type": "stream",
     "text": [
      "label : 6\n",
      "type : product\n",
      "\n",
      "label : forefront unified access gatewaymicrosoft\n",
      "type : product\n",
      "\n",
      "35/10 positive, 13/10 negative\n",
      "Do these records refer to the same thing?\n",
      "(y)es / (n)o / (u)nsure / (f)inished / (p)revious\n"
     ]
    },
    {
     "name": "stdin",
     "output_type": "stream",
     "text": [
      " n\n"
     ]
    },
    {
     "name": "stderr",
     "output_type": "stream",
     "text": [
      "label : win.bat\n",
      "type : product\n",
      "\n",
      "label : windows registry editor version 5.00[hkey_classes_root\\acroexch.document.7]\"editflags\"=hex:00,00,00,00disable the display of pdf files\n",
      "type : product\n",
      "\n",
      "35/10 positive, 14/10 negative\n",
      "Do these records refer to the same thing?\n",
      "(y)es / (n)o / (u)nsure / (f)inished / (p)revious\n"
     ]
    },
    {
     "name": "stdin",
     "output_type": "stream",
     "text": [
      " n\n"
     ]
    },
    {
     "name": "stderr",
     "output_type": "stream",
     "text": [
      "label : 3a\n",
      "type : product\n",
      "\n",
      "label : adobe reader.app/contents/frameworks/adobe3d.framework\"gnu/linux\n",
      "type : product\n",
      "\n",
      "35/10 positive, 15/10 negative\n",
      "Do these records refer to the same thing?\n",
      "(y)es / (n)o / (u)nsure / (f)inished / (p)revious\n"
     ]
    },
    {
     "name": "stdin",
     "output_type": "stream",
     "text": [
      " n\n"
     ]
    },
    {
     "name": "stderr",
     "output_type": "stream",
     "text": [
      "label : cisa 24/7 operations center\n",
      "type : org\n",
      "\n",
      "label : cig\n",
      "type : org\n",
      "\n",
      "35/10 positive, 16/10 negative\n",
      "Do these records refer to the same thing?\n",
      "(y)es / (n)o / (u)nsure / (f)inished / (p)revious\n"
     ]
    },
    {
     "name": "stdin",
     "output_type": "stream",
     "text": [
      " n\n"
     ]
    },
    {
     "name": "stderr",
     "output_type": "stream",
     "text": [
      "label : mac os x 10.5\n",
      "type : product\n",
      "\n",
      "label : mac os x v10.5.7\n",
      "type : product\n",
      "\n",
      "35/10 positive, 17/10 negative\n",
      "Do these records refer to the same thing?\n",
      "(y)es / (n)o / (u)nsure / (f)inished / (p)revious\n"
     ]
    },
    {
     "name": "stdin",
     "output_type": "stream",
     "text": [
      " y\n"
     ]
    },
    {
     "name": "stderr",
     "output_type": "stream",
     "text": [
      "label : sharepoint services\n",
      "type : product\n",
      "\n",
      "label : sharepoint server\n",
      "type : product\n",
      "\n",
      "36/10 positive, 17/10 negative\n",
      "Do these records refer to the same thing?\n",
      "(y)es / (n)o / (u)nsure / (f)inished / (p)revious\n"
     ]
    },
    {
     "name": "stdin",
     "output_type": "stream",
     "text": [
      " n\n"
     ]
    },
    {
     "name": "stderr",
     "output_type": "stream",
     "text": [
      "label : china chopper web shell\n",
      "type : product\n",
      "\n",
      "label : china chopper's\n",
      "type : product\n",
      "\n",
      "36/10 positive, 18/10 negative\n",
      "Do these records refer to the same thing?\n",
      "(y)es / (n)o / (u)nsure / (f)inished / (p)revious\n"
     ]
    },
    {
     "name": "stdin",
     "output_type": "stream",
     "text": [
      " y\n"
     ]
    },
    {
     "name": "stderr",
     "output_type": "stream",
     "text": [
      "label : windows 10\n",
      "type : product\n",
      "\n",
      "label : windows 8\n",
      "type : product\n",
      "\n",
      "37/10 positive, 18/10 negative\n",
      "Do these records refer to the same thing?\n",
      "(y)es / (n)o / (u)nsure / (f)inished / (p)revious\n"
     ]
    },
    {
     "name": "stdin",
     "output_type": "stream",
     "text": [
      " n\n"
     ]
    },
    {
     "name": "stderr",
     "output_type": "stream",
     "text": [
      "label : flash player 10.0.32.18\n",
      "type : product\n",
      "\n",
      "label : flash player 10.0.22.87\n",
      "type : product\n",
      "\n",
      "37/10 positive, 19/10 negative\n",
      "Do these records refer to the same thing?\n",
      "(y)es / (n)o / (u)nsure / (f)inished / (p)revious\n"
     ]
    },
    {
     "name": "stdin",
     "output_type": "stream",
     "text": [
      " y\n"
     ]
    },
    {
     "name": "stderr",
     "output_type": "stream",
     "text": [
      "label : windows server\n",
      "type : product\n",
      "\n",
      "label : windows registry editor version 5.00[hkey_classes_root\\acroexch.document.7]\"editflags\"=hex:00,00,00,00disable the display of pdf files\n",
      "type : product\n",
      "\n",
      "38/10 positive, 19/10 negative\n",
      "Do these records refer to the same thing?\n",
      "(y)es / (n)o / (u)nsure / (f)inished / (p)revious\n"
     ]
    },
    {
     "name": "stdin",
     "output_type": "stream",
     "text": [
      " n\n"
     ]
    },
    {
     "name": "stderr",
     "output_type": "stream",
     "text": [
      "label : windows 10\n",
      "type : product\n",
      "\n",
      "label : windows xp)sophoshttps://www.sophos.com\n",
      "type : product\n",
      "\n",
      "38/10 positive, 20/10 negative\n",
      "Do these records refer to the same thing?\n",
      "(y)es / (n)o / (u)nsure / (f)inished / (p)revious\n"
     ]
    },
    {
     "name": "stdin",
     "output_type": "stream",
     "text": [
      " n\n"
     ]
    },
    {
     "name": "stderr",
     "output_type": "stream",
     "text": [
      "label : cobalt strike beacon\n",
      "type : product\n",
      "\n",
      "label : cobalt strike c2\n",
      "type : product\n",
      "\n",
      "38/10 positive, 21/10 negative\n",
      "Do these records refer to the same thing?\n",
      "(y)es / (n)o / (u)nsure / (f)inished / (p)revious\n"
     ]
    },
    {
     "name": "stdin",
     "output_type": "stream",
     "text": [
      " y\n"
     ]
    },
    {
     "name": "stderr",
     "output_type": "stream",
     "text": [
      "label : windows 7\n",
      "type : product\n",
      "\n",
      "label : windows mail\n",
      "type : product\n",
      "\n",
      "39/10 positive, 21/10 negative\n",
      "Do these records refer to the same thing?\n",
      "(y)es / (n)o / (u)nsure / (f)inished / (p)revious\n"
     ]
    },
    {
     "name": "stdin",
     "output_type": "stream",
     "text": [
      " n\n"
     ]
    },
    {
     "name": "stderr",
     "output_type": "stream",
     "text": [
      "label : gtsss\n",
      "type : org\n",
      "\n",
      "label : gtsss\n",
      "type : product\n",
      "\n",
      "39/10 positive, 22/10 negative\n",
      "Do these records refer to the same thing?\n",
      "(y)es / (n)o / (u)nsure / (f)inished / (p)revious\n"
     ]
    },
    {
     "name": "stdin",
     "output_type": "stream",
     "text": [
      " y\n"
     ]
    },
    {
     "name": "stderr",
     "output_type": "stream",
     "text": [
      "label : windows 8\n",
      "type : product\n",
      "\n",
      "label : windows mail\n",
      "type : product\n",
      "\n",
      "40/10 positive, 22/10 negative\n",
      "Do these records refer to the same thing?\n",
      "(y)es / (n)o / (u)nsure / (f)inished / (p)revious\n"
     ]
    },
    {
     "name": "stdin",
     "output_type": "stream",
     "text": [
      " n\n"
     ]
    },
    {
     "name": "stderr",
     "output_type": "stream",
     "text": [
      "label : exchange\n",
      "type : org\n",
      "\n",
      "label : exchange online\n",
      "type : product\n",
      "\n",
      "40/10 positive, 23/10 negative\n",
      "Do these records refer to the same thing?\n",
      "(y)es / (n)o / (u)nsure / (f)inished / (p)revious\n"
     ]
    },
    {
     "name": "stdin",
     "output_type": "stream",
     "text": [
      " n\n"
     ]
    },
    {
     "name": "stderr",
     "output_type": "stream",
     "text": [
      "label : macos\n",
      "type : org\n",
      "\n",
      "label : macos x\n",
      "type : product\n",
      "\n",
      "40/10 positive, 24/10 negative\n",
      "Do these records refer to the same thing?\n",
      "(y)es / (n)o / (u)nsure / (f)inished / (p)revious\n"
     ]
    },
    {
     "name": "stdin",
     "output_type": "stream",
     "text": [
      " y\n"
     ]
    },
    {
     "name": "stderr",
     "output_type": "stream",
     "text": [
      "label : java 6\n",
      "type : product\n",
      "\n",
      "label : java se critical patch update\n",
      "type : product\n",
      "\n",
      "41/10 positive, 24/10 negative\n",
      "Do these records refer to the same thing?\n",
      "(y)es / (n)o / (u)nsure / (f)inished / (p)revious\n"
     ]
    },
    {
     "name": "stdin",
     "output_type": "stream",
     "text": [
      " n\n"
     ]
    },
    {
     "name": "stderr",
     "output_type": "stream",
     "text": [
      "label : triconex\n",
      "type : org\n",
      "\n",
      "label : triconex tricon\n",
      "type : product\n",
      "\n",
      "41/10 positive, 25/10 negative\n",
      "Do these records refer to the same thing?\n",
      "(y)es / (n)o / (u)nsure / (f)inished / (p)revious\n"
     ]
    },
    {
     "name": "stdin",
     "output_type": "stream",
     "text": [
      " y\n"
     ]
    },
    {
     "name": "stderr",
     "output_type": "stream",
     "text": [
      "label : mouseisland\n",
      "type : product\n",
      "\n",
      "label : mouseisland\n",
      "type : gpe\n",
      "\n",
      "42/10 positive, 25/10 negative\n",
      "Do these records refer to the same thing?\n",
      "(y)es / (n)o / (u)nsure / (f)inished / (p)revious\n"
     ]
    },
    {
     "name": "stdin",
     "output_type": "stream",
     "text": [
      " y\n"
     ]
    },
    {
     "name": "stderr",
     "output_type": "stream",
     "text": [
      "label : shockwave player 11.6.8.638\n",
      "type : product\n",
      "\n",
      "label : shockwave player 11.6.0.626\n",
      "type : product\n",
      "\n",
      "43/10 positive, 25/10 negative\n",
      "Do these records refer to the same thing?\n",
      "(y)es / (n)o / (u)nsure / (f)inished / (p)revious\n"
     ]
    },
    {
     "name": "stdin",
     "output_type": "stream",
     "text": [
      " y\n"
     ]
    },
    {
     "name": "stderr",
     "output_type": "stream",
     "text": [
      "label : windows 8\n",
      "type : product\n",
      "\n",
      "label : windows installer\n",
      "type : product\n",
      "\n",
      "44/10 positive, 25/10 negative\n",
      "Do these records refer to the same thing?\n",
      "(y)es / (n)o / (u)nsure / (f)inished / (p)revious\n"
     ]
    },
    {
     "name": "stdin",
     "output_type": "stream",
     "text": [
      " n\n"
     ]
    },
    {
     "name": "stderr",
     "output_type": "stream",
     "text": [
      "label : windows command shell\n",
      "type : product\n",
      "\n",
      "label : windows\n",
      "type : gpe\n",
      "\n",
      "44/10 positive, 26/10 negative\n",
      "Do these records refer to the same thing?\n",
      "(y)es / (n)o / (u)nsure / (f)inished / (p)revious\n"
     ]
    },
    {
     "name": "stdin",
     "output_type": "stream",
     "text": [
      " n\n"
     ]
    },
    {
     "name": "stderr",
     "output_type": "stream",
     "text": [
      "label : windows nt 10.0\n",
      "type : product\n",
      "\n",
      "label : windows 7\n",
      "type : product\n",
      "\n",
      "44/10 positive, 27/10 negative\n",
      "Do these records refer to the same thing?\n",
      "(y)es / (n)o / (u)nsure / (f)inished / (p)revious\n"
     ]
    },
    {
     "name": "stdin",
     "output_type": "stream",
     "text": [
      " n\n"
     ]
    },
    {
     "name": "stderr",
     "output_type": "stream",
     "text": [
      "label : ryuk\n",
      "type : product\n",
      "\n",
      "label : ryukreadme\n",
      "type : org\n",
      "\n",
      "44/10 positive, 28/10 negative\n",
      "Do these records refer to the same thing?\n",
      "(y)es / (n)o / (u)nsure / (f)inished / (p)revious\n"
     ]
    },
    {
     "name": "stdin",
     "output_type": "stream",
     "text": [
      " y\n"
     ]
    },
    {
     "name": "stderr",
     "output_type": "stream",
     "text": [
      "label : windows 7\n",
      "type : product\n",
      "\n",
      "label : windows server 2019\n",
      "type : product\n",
      "\n",
      "45/10 positive, 28/10 negative\n",
      "Do these records refer to the same thing?\n",
      "(y)es / (n)o / (u)nsure / (f)inished / (p)revious\n"
     ]
    },
    {
     "name": "stdin",
     "output_type": "stream",
     "text": [
      " n\n"
     ]
    },
    {
     "name": "stderr",
     "output_type": "stream",
     "text": [
      "label : active directory--\n",
      "type : product\n",
      "\n",
      "label : active directory user accounts\n",
      "type : product\n",
      "\n",
      "45/10 positive, 29/10 negative\n",
      "Do these records refer to the same thing?\n",
      "(y)es / (n)o / (u)nsure / (f)inished / (p)revious\n"
     ]
    },
    {
     "name": "stdin",
     "output_type": "stream",
     "text": [
      " n\n"
     ]
    },
    {
     "name": "stderr",
     "output_type": "stream",
     "text": [
      "label : java 7\n",
      "type : product\n",
      "\n",
      "label : java se critical patch update advisory -\n",
      "type : product\n",
      "\n",
      "45/10 positive, 30/10 negative\n",
      "Do these records refer to the same thing?\n",
      "(y)es / (n)o / (u)nsure / (f)inished / (p)revious\n"
     ]
    },
    {
     "name": "stdin",
     "output_type": "stream",
     "text": [
      " n\n"
     ]
    },
    {
     "name": "stderr",
     "output_type": "stream",
     "text": [
      "label : shodan\n",
      "type : product\n",
      "\n",
      "label : shodan limited liability company\n",
      "type : org\n",
      "\n",
      "45/10 positive, 31/10 negative\n",
      "Do these records refer to the same thing?\n",
      "(y)es / (n)o / (u)nsure / (f)inished / (p)revious\n"
     ]
    },
    {
     "name": "stdin",
     "output_type": "stream",
     "text": [
      " y\n"
     ]
    },
    {
     "name": "stderr",
     "output_type": "stream",
     "text": [
      "label : chinese ministry of state security\n",
      "type : org\n",
      "\n",
      "label : the chinese ministry of state security\n",
      "type : org\n",
      "\n",
      "46/10 positive, 31/10 negative\n",
      "Do these records refer to the same thing?\n",
      "(y)es / (n)o / (u)nsure / (f)inished / (p)revious\n"
     ]
    },
    {
     "name": "stdin",
     "output_type": "stream",
     "text": [
      " y\n"
     ]
    },
    {
     "name": "stderr",
     "output_type": "stream",
     "text": [
      "label : acrobat x\n",
      "type : product\n",
      "\n",
      "label : acrobat javascript).prevent\n",
      "type : product\n",
      "\n",
      "47/10 positive, 31/10 negative\n",
      "Do these records refer to the same thing?\n",
      "(y)es / (n)o / (u)nsure / (f)inished / (p)revious\n"
     ]
    },
    {
     "name": "stdin",
     "output_type": "stream",
     "text": [
      " n\n"
     ]
    },
    {
     "name": "stderr",
     "output_type": "stream",
     "text": [
      "label : windows 7\n",
      "type : product\n",
      "\n",
      "label : windows operating system\n",
      "type : product\n",
      "\n",
      "47/10 positive, 32/10 negative\n",
      "Do these records refer to the same thing?\n",
      "(y)es / (n)o / (u)nsure / (f)inished / (p)revious\n"
     ]
    },
    {
     "name": "stdin",
     "output_type": "stream",
     "text": [
      " n\n"
     ]
    },
    {
     "name": "stderr",
     "output_type": "stream",
     "text": [
      "label : windows 7\n",
      "type : product\n",
      "\n",
      "label : windows live mailmicrosoft\n",
      "type : product\n",
      "\n",
      "47/10 positive, 33/10 negative\n",
      "Do these records refer to the same thing?\n",
      "(y)es / (n)o / (u)nsure / (f)inished / (p)revious\n"
     ]
    },
    {
     "name": "stdin",
     "output_type": "stream",
     "text": [
      " n\n"
     ]
    },
    {
     "name": "stderr",
     "output_type": "stream",
     "text": [
      "label : windows operating systems (oss\n",
      "type : product\n",
      "\n",
      "label : windows 7\n",
      "type : product\n",
      "\n",
      "47/10 positive, 34/10 negative\n",
      "Do these records refer to the same thing?\n",
      "(y)es / (n)o / (u)nsure / (f)inished / (p)revious\n"
     ]
    },
    {
     "name": "stdin",
     "output_type": "stream",
     "text": [
      " n\n"
     ]
    },
    {
     "name": "stderr",
     "output_type": "stream",
     "text": [
      "label : windows server 2008 r2\n",
      "type : product\n",
      "\n",
      "label : windows server 2008 sp2\n",
      "type : product\n",
      "\n",
      "47/10 positive, 35/10 negative\n",
      "Do these records refer to the same thing?\n",
      "(y)es / (n)o / (u)nsure / (f)inished / (p)revious\n"
     ]
    },
    {
     "name": "stdin",
     "output_type": "stream",
     "text": [
      " y\n"
     ]
    },
    {
     "name": "stderr",
     "output_type": "stream",
     "text": [
      "label : windows operating systems (oss\n",
      "type : product\n",
      "\n",
      "label : windows xp\n",
      "type : product\n",
      "\n",
      "48/10 positive, 35/10 negative\n",
      "Do these records refer to the same thing?\n",
      "(y)es / (n)o / (u)nsure / (f)inished / (p)revious\n"
     ]
    },
    {
     "name": "stdin",
     "output_type": "stream",
     "text": [
      " n\n"
     ]
    },
    {
     "name": "stderr",
     "output_type": "stream",
     "text": [
      "label : windows 8\n",
      "type : product\n",
      "\n",
      "label : windows server semi-annual branch\n",
      "type : product\n",
      "\n",
      "48/10 positive, 36/10 negative\n",
      "Do these records refer to the same thing?\n",
      "(y)es / (n)o / (u)nsure / (f)inished / (p)revious\n"
     ]
    },
    {
     "name": "stdin",
     "output_type": "stream",
     "text": [
      " n\n"
     ]
    },
    {
     "name": "stderr",
     "output_type": "stream",
     "text": [
      "label : the united states\n",
      "type : gpe\n",
      "\n",
      "label : the united states secret service\n",
      "type : org\n",
      "\n",
      "48/10 positive, 37/10 negative\n",
      "Do these records refer to the same thing?\n",
      "(y)es / (n)o / (u)nsure / (f)inished / (p)revious\n"
     ]
    },
    {
     "name": "stdin",
     "output_type": "stream",
     "text": [
      " n\n"
     ]
    },
    {
     "name": "stderr",
     "output_type": "stream",
     "text": [
      "label : national cybersecurity and communications integration center\n",
      "type : org\n",
      "\n",
      "label : the dhs national cybersecurity and communications integration center\n",
      "type : org\n",
      "\n",
      "48/10 positive, 38/10 negative\n",
      "Do these records refer to the same thing?\n",
      "(y)es / (n)o / (u)nsure / (f)inished / (p)revious\n"
     ]
    },
    {
     "name": "stdin",
     "output_type": "stream",
     "text": [
      " y\n"
     ]
    },
    {
     "name": "stderr",
     "output_type": "stream",
     "text": [
      "label : windows netlogon remote protocol\n",
      "type : product\n",
      "\n",
      "label : windows 7\n",
      "type : product\n",
      "\n",
      "49/10 positive, 38/10 negative\n",
      "Do these records refer to the same thing?\n",
      "(y)es / (n)o / (u)nsure / (f)inished / (p)revious\n"
     ]
    },
    {
     "name": "stdin",
     "output_type": "stream",
     "text": [
      " n\n"
     ]
    },
    {
     "name": "stderr",
     "output_type": "stream",
     "text": [
      "label : windows 7\n",
      "type : product\n",
      "\n",
      "label : windows embedded open type (eot)\n",
      "type : product\n",
      "\n",
      "49/10 positive, 39/10 negative\n",
      "Do these records refer to the same thing?\n",
      "(y)es / (n)o / (u)nsure / (f)inished / (p)revious\n"
     ]
    },
    {
     "name": "stdin",
     "output_type": "stream",
     "text": [
      " n\n"
     ]
    },
    {
     "name": "stderr",
     "output_type": "stream",
     "text": [
      "label : vnc\n",
      "type : product\n",
      "\n",
      "label : vnclogs\n",
      "type : org\n",
      "\n",
      "49/10 positive, 40/10 negative\n",
      "Do these records refer to the same thing?\n",
      "(y)es / (n)o / (u)nsure / (f)inished / (p)revious\n"
     ]
    },
    {
     "name": "stdin",
     "output_type": "stream",
     "text": [
      " n\n"
     ]
    },
    {
     "name": "stderr",
     "output_type": "stream",
     "text": [
      "label : office 2013\n",
      "type : product\n",
      "\n",
      "label : office 2003\n",
      "type : product\n",
      "\n",
      "49/10 positive, 41/10 negative\n",
      "Do these records refer to the same thing?\n",
      "(y)es / (n)o / (u)nsure / (f)inished / (p)revious\n"
     ]
    },
    {
     "name": "stdin",
     "output_type": "stream",
     "text": [
      " n\n"
     ]
    },
    {
     "name": "stderr",
     "output_type": "stream",
     "text": [
      "label : windows\n",
      "type : org\n",
      "\n",
      "label : windows backup manager\n",
      "type : product\n",
      "\n",
      "49/10 positive, 42/10 negative\n",
      "Do these records refer to the same thing?\n",
      "(y)es / (n)o / (u)nsure / (f)inished / (p)revious\n"
     ]
    },
    {
     "name": "stdin",
     "output_type": "stream",
     "text": [
      " n\n"
     ]
    },
    {
     "name": "stderr",
     "output_type": "stream",
     "text": [
      "label : office 2013\n",
      "type : product\n",
      "\n",
      "label : office 2003 web components sp3\n",
      "type : product\n",
      "\n",
      "49/10 positive, 43/10 negative\n",
      "Do these records refer to the same thing?\n",
      "(y)es / (n)o / (u)nsure / (f)inished / (p)revious\n"
     ]
    },
    {
     "name": "stdin",
     "output_type": "stream",
     "text": [
      " n\n"
     ]
    },
    {
     "name": "stderr",
     "output_type": "stream",
     "text": [
      "label : adobe security bulletin apsb13-\n",
      "type : product\n",
      "\n",
      "label : adobe security bulletin apsb10-22\n",
      "type : org\n",
      "\n",
      "49/10 positive, 44/10 negative\n",
      "Do these records refer to the same thing?\n",
      "(y)es / (n)o / (u)nsure / (f)inished / (p)revious\n"
     ]
    },
    {
     "name": "stdin",
     "output_type": "stream",
     "text": [
      " y\n"
     ]
    },
    {
     "name": "stderr",
     "output_type": "stream",
     "text": [
      "label : samsam\n",
      "type : product\n",
      "\n",
      "label : samsam\n",
      "type : person\n",
      "\n",
      "50/10 positive, 44/10 negative\n",
      "Do these records refer to the same thing?\n",
      "(y)es / (n)o / (u)nsure / (f)inished / (p)revious\n"
     ]
    },
    {
     "name": "stdin",
     "output_type": "stream",
     "text": [
      " y\n"
     ]
    },
    {
     "name": "stderr",
     "output_type": "stream",
     "text": [
      "label : windows\n",
      "type : gpe\n",
      "\n",
      "label : windows rt\n",
      "type : product\n",
      "\n",
      "51/10 positive, 44/10 negative\n",
      "Do these records refer to the same thing?\n",
      "(y)es / (n)o / (u)nsure / (f)inished / (p)revious\n"
     ]
    },
    {
     "name": "stdin",
     "output_type": "stream",
     "text": [
      " y\n"
     ]
    },
    {
     "name": "stderr",
     "output_type": "stream",
     "text": [
      "label : windows\n",
      "type : gpe\n",
      "\n",
      "label : windows nt 5.1\n",
      "type : product\n",
      "\n",
      "52/10 positive, 44/10 negative\n",
      "Do these records refer to the same thing?\n",
      "(y)es / (n)o / (u)nsure / (f)inished / (p)revious\n"
     ]
    },
    {
     "name": "stdin",
     "output_type": "stream",
     "text": [
      " y\n"
     ]
    },
    {
     "name": "stderr",
     "output_type": "stream",
     "text": [
      "label : the united states\n",
      "type : org\n",
      "\n",
      "label : the united states[1][2][3\n",
      "type : gpe\n",
      "\n",
      "53/10 positive, 44/10 negative\n",
      "Do these records refer to the same thing?\n",
      "(y)es / (n)o / (u)nsure / (f)inished / (p)revious\n"
     ]
    },
    {
     "name": "stdin",
     "output_type": "stream",
     "text": [
      " y\n"
     ]
    },
    {
     "name": "stderr",
     "output_type": "stream",
     "text": [
      "label : palo alto networks\n",
      "type : org\n",
      "\n",
      "label : palo alto\n",
      "type : gpe\n",
      "\n",
      "54/10 positive, 44/10 negative\n",
      "Do these records refer to the same thing?\n",
      "(y)es / (n)o / (u)nsure / (f)inished / (p)revious\n"
     ]
    },
    {
     "name": "stdin",
     "output_type": "stream",
     "text": [
      " y\n"
     ]
    },
    {
     "name": "stderr",
     "output_type": "stream",
     "text": [
      "label : windows 8\n",
      "type : product\n",
      "\n",
      "label : windows xp)heimdalhttp://goz.heimdalsecurity.com/ (microsoft windows xp\n",
      "type : product\n",
      "\n",
      "55/10 positive, 44/10 negative\n",
      "Do these records refer to the same thing?\n",
      "(y)es / (n)o / (u)nsure / (f)inished / (p)revious\n"
     ]
    },
    {
     "name": "stdin",
     "output_type": "stream",
     "text": [
      " n\n"
     ]
    },
    {
     "name": "stderr",
     "output_type": "stream",
     "text": [
      "label : windows 7\n",
      "type : product\n",
      "\n",
      "label : windows nt directory services\n",
      "type : product\n",
      "\n",
      "55/10 positive, 45/10 negative\n",
      "Do these records refer to the same thing?\n",
      "(y)es / (n)o / (u)nsure / (f)inished / (p)revious\n"
     ]
    },
    {
     "name": "stdin",
     "output_type": "stream",
     "text": [
      " n\n"
     ]
    },
    {
     "name": "stderr",
     "output_type": "stream",
     "text": [
      "label : macintoshadobe reader 9.5\n",
      "type : product\n",
      "\n",
      "label : macintoshadobe reader 8.2.6\n",
      "type : product\n",
      "\n",
      "55/10 positive, 46/10 negative\n",
      "Do these records refer to the same thing?\n",
      "(y)es / (n)o / (u)nsure / (f)inished / (p)revious\n"
     ]
    },
    {
     "name": "stdin",
     "output_type": "stream",
     "text": [
      " y\n"
     ]
    },
    {
     "name": "stderr",
     "output_type": "stream",
     "text": [
      "label : win7elevate\n",
      "type : product\n",
      "\n",
      "label : win7elevatve\n",
      "type : product\n",
      "\n",
      "56/10 positive, 46/10 negative\n",
      "Do these records refer to the same thing?\n",
      "(y)es / (n)o / (u)nsure / (f)inished / (p)revious\n"
     ]
    },
    {
     "name": "stdin",
     "output_type": "stream",
     "text": [
      " y\n"
     ]
    },
    {
     "name": "stderr",
     "output_type": "stream",
     "text": [
      "label : windows 7\n",
      "type : product\n",
      "\n",
      "label : windows server 2003.[3\n",
      "type : product\n",
      "\n",
      "57/10 positive, 46/10 negative\n",
      "Do these records refer to the same thing?\n",
      "(y)es / (n)o / (u)nsure / (f)inished / (p)revious\n"
     ]
    },
    {
     "name": "stdin",
     "output_type": "stream",
     "text": [
      " n\n"
     ]
    },
    {
     "name": "stderr",
     "output_type": "stream",
     "text": [
      "label : the united states.[4][5\n",
      "type : gpe\n",
      "\n",
      "label : the united states,[3\n",
      "type : gpe\n",
      "\n",
      "57/10 positive, 47/10 negative\n",
      "Do these records refer to the same thing?\n",
      "(y)es / (n)o / (u)nsure / (f)inished / (p)revious\n"
     ]
    },
    {
     "name": "stdin",
     "output_type": "stream",
     "text": [
      " y\n"
     ]
    },
    {
     "name": "stderr",
     "output_type": "stream",
     "text": [
      "label : the united kingdom's\n",
      "type : gpe\n",
      "\n",
      "label : the united kingdom[7][8\n",
      "type : gpe\n",
      "\n",
      "58/10 positive, 47/10 negative\n",
      "Do these records refer to the same thing?\n",
      "(y)es / (n)o / (u)nsure / (f)inished / (p)revious\n"
     ]
    },
    {
     "name": "stdin",
     "output_type": "stream",
     "text": [
      " y\n"
     ]
    },
    {
     "name": "stderr",
     "output_type": "stream",
     "text": [
      "label : windows command shell\n",
      "type : product\n",
      "\n",
      "label : windows 7\n",
      "type : product\n",
      "\n",
      "59/10 positive, 47/10 negative\n",
      "Do these records refer to the same thing?\n",
      "(y)es / (n)o / (u)nsure / (f)inished / (p)revious\n"
     ]
    },
    {
     "name": "stdin",
     "output_type": "stream",
     "text": [
      " n\n"
     ]
    },
    {
     "name": "stderr",
     "output_type": "stream",
     "text": [
      "label : windows server 2016\n",
      "type : product\n",
      "\n",
      "label : windows server 2008\n",
      "type : product\n",
      "\n",
      "59/10 positive, 48/10 negative\n",
      "Do these records refer to the same thing?\n",
      "(y)es / (n)o / (u)nsure / (f)inished / (p)revious\n"
     ]
    },
    {
     "name": "stdin",
     "output_type": "stream",
     "text": [
      " n\n"
     ]
    },
    {
     "name": "stderr",
     "output_type": "stream",
     "text": [
      "label : the united kingdom[5\n",
      "type : gpe\n",
      "\n",
      "label : the united kingdom,[4\n",
      "type : gpe\n",
      "\n",
      "59/10 positive, 49/10 negative\n",
      "Do these records refer to the same thing?\n",
      "(y)es / (n)o / (u)nsure / (f)inished / (p)revious\n"
     ]
    },
    {
     "name": "stdin",
     "output_type": "stream",
     "text": [
      " y\n"
     ]
    },
    {
     "name": "stderr",
     "output_type": "stream",
     "text": [
      "label : the united kingdom's\n",
      "type : gpe\n",
      "\n",
      "label : the united kingdom,[4\n",
      "type : gpe\n",
      "\n",
      "60/10 positive, 49/10 negative\n",
      "Do these records refer to the same thing?\n",
      "(y)es / (n)o / (u)nsure / (f)inished / (p)revious\n"
     ]
    },
    {
     "name": "stdin",
     "output_type": "stream",
     "text": [
      " y\n"
     ]
    },
    {
     "name": "stderr",
     "output_type": "stream",
     "text": [
      "label : the cybersecurity and infrastructure security agency\n",
      "type : org\n",
      "\n",
      "label : the cybersecurity and infrastructure agency\n",
      "type : org\n",
      "\n",
      "61/10 positive, 49/10 negative\n",
      "Do these records refer to the same thing?\n",
      "(y)es / (n)o / (u)nsure / (f)inished / (p)revious\n"
     ]
    },
    {
     "name": "stdin",
     "output_type": "stream",
     "text": [
      " y\n"
     ]
    },
    {
     "name": "stderr",
     "output_type": "stream",
     "text": [
      "label : internetexplorer\n",
      "type : product\n",
      "\n",
      "label : internet explorer's\n",
      "type : product\n",
      "\n",
      "62/10 positive, 49/10 negative\n",
      "Do these records refer to the same thing?\n",
      "(y)es / (n)o / (u)nsure / (f)inished / (p)revious\n"
     ]
    },
    {
     "name": "stdin",
     "output_type": "stream",
     "text": [
      " y\n"
     ]
    },
    {
     "name": "stderr",
     "output_type": "stream",
     "text": [
      "label : windows 8\n",
      "type : product\n",
      "\n",
      "label : windows event logs\n",
      "type : product\n",
      "\n",
      "63/10 positive, 49/10 negative\n",
      "Do these records refer to the same thing?\n",
      "(y)es / (n)o / (u)nsure / (f)inished / (p)revious\n"
     ]
    },
    {
     "name": "stdin",
     "output_type": "stream",
     "text": [
      " n\n"
     ]
    },
    {
     "name": "stderr",
     "output_type": "stream",
     "text": [
      "label : windows 8\n",
      "type : product\n",
      "\n",
      "label : windows 10.disable\n",
      "type : product\n",
      "\n",
      "63/10 positive, 50/10 negative\n",
      "Do these records refer to the same thing?\n",
      "(y)es / (n)o / (u)nsure / (f)inished / (p)revious\n"
     ]
    },
    {
     "name": "stdin",
     "output_type": "stream",
     "text": [
      " n\n"
     ]
    },
    {
     "name": "stderr",
     "output_type": "stream",
     "text": [
      "label : windows 11\n",
      "type : product\n",
      "\n",
      "label : windows xp)heimdalhttp://goz.heimdalsecurity.com/ (microsoft windows xp\n",
      "type : product\n",
      "\n",
      "63/10 positive, 51/10 negative\n",
      "Do these records refer to the same thing?\n",
      "(y)es / (n)o / (u)nsure / (f)inished / (p)revious\n"
     ]
    },
    {
     "name": "stdin",
     "output_type": "stream",
     "text": [
      " n\n"
     ]
    },
    {
     "name": "stderr",
     "output_type": "stream",
     "text": [
      "label : windows operating system\n",
      "type : org\n",
      "\n",
      "label : windows xp\n",
      "type : product\n",
      "\n",
      "63/10 positive, 52/10 negative\n",
      "Do these records refer to the same thing?\n",
      "(y)es / (n)o / (u)nsure / (f)inished / (p)revious\n"
     ]
    },
    {
     "name": "stdin",
     "output_type": "stream",
     "text": [
      " n\n"
     ]
    },
    {
     "name": "stderr",
     "output_type": "stream",
     "text": [
      "label : windows 7\n",
      "type : product\n",
      "\n",
      "label : windows server update services\n",
      "type : org\n",
      "\n",
      "63/10 positive, 53/10 negative\n",
      "Do these records refer to the same thing?\n",
      "(y)es / (n)o / (u)nsure / (f)inished / (p)revious\n"
     ]
    },
    {
     "name": "stdin",
     "output_type": "stream",
     "text": [
      " n\n"
     ]
    },
    {
     "name": "stderr",
     "output_type": "stream",
     "text": [
      "label : u.s.\n",
      "type : gpe\n",
      "\n",
      "label : u.s. government\n",
      "type : org\n",
      "\n",
      "63/10 positive, 54/10 negative\n",
      "Do these records refer to the same thing?\n",
      "(y)es / (n)o / (u)nsure / (f)inished / (p)revious\n"
     ]
    },
    {
     "name": "stdin",
     "output_type": "stream",
     "text": [
      " y\n"
     ]
    },
    {
     "name": "stderr",
     "output_type": "stream",
     "text": [
      "label : exchange servers\n",
      "type : org\n",
      "\n",
      "label : exchange server 2013\n",
      "type : product\n",
      "\n",
      "64/10 positive, 54/10 negative\n",
      "Do these records refer to the same thing?\n",
      "(y)es / (n)o / (u)nsure / (f)inished / (p)revious\n"
     ]
    },
    {
     "name": "stdin",
     "output_type": "stream",
     "text": [
      " y\n"
     ]
    },
    {
     "name": "stderr",
     "output_type": "stream",
     "text": [
      "label : windows operating system\n",
      "type : org\n",
      "\n",
      "label : windows 7\n",
      "type : product\n",
      "\n",
      "65/10 positive, 54/10 negative\n",
      "Do these records refer to the same thing?\n",
      "(y)es / (n)o / (u)nsure / (f)inished / (p)revious\n"
     ]
    },
    {
     "name": "stdin",
     "output_type": "stream",
     "text": [
      " n\n"
     ]
    },
    {
     "name": "stderr",
     "output_type": "stream",
     "text": [
      "label : the united kingdom's\n",
      "type : gpe\n",
      "\n",
      "label : the united kingdom national cyber security centre\n",
      "type : org\n",
      "\n",
      "65/10 positive, 55/10 negative\n",
      "Do these records refer to the same thing?\n",
      "(y)es / (n)o / (u)nsure / (f)inished / (p)revious\n"
     ]
    },
    {
     "name": "stdin",
     "output_type": "stream",
     "text": [
      " n\n"
     ]
    },
    {
     "name": "stderr",
     "output_type": "stream",
     "text": [
      "label : windows 7\n",
      "type : product\n",
      "\n",
      "label : windows nt 6.1\n",
      "type : product\n",
      "\n",
      "65/10 positive, 56/10 negative\n",
      "Do these records refer to the same thing?\n",
      "(y)es / (n)o / (u)nsure / (f)inished / (p)revious\n"
     ]
    },
    {
     "name": "stdin",
     "output_type": "stream",
     "text": [
      " n\n"
     ]
    },
    {
     "name": "stderr",
     "output_type": "stream",
     "text": [
      "label : u.s\n",
      "type : gpe\n",
      "\n",
      "label : u.s. doj\n",
      "type : org\n",
      "\n",
      "65/10 positive, 57/10 negative\n",
      "Do these records refer to the same thing?\n",
      "(y)es / (n)o / (u)nsure / (f)inished / (p)revious\n"
     ]
    },
    {
     "name": "stdin",
     "output_type": "stream",
     "text": [
      " n\n"
     ]
    },
    {
     "name": "stderr",
     "output_type": "stream",
     "text": [
      "label : windows remote\n",
      "type : product\n",
      "\n",
      "label : windows 7\n",
      "type : product\n",
      "\n",
      "65/10 positive, 58/10 negative\n",
      "Do these records refer to the same thing?\n",
      "(y)es / (n)o / (u)nsure / (f)inished / (p)revious\n"
     ]
    },
    {
     "name": "stdin",
     "output_type": "stream",
     "text": [
      " n\n"
     ]
    },
    {
     "name": "stderr",
     "output_type": "stream",
     "text": [
      "label : adobe security bulletin apsb11-17\n",
      "type : org\n",
      "\n",
      "label : adobe security bulletin apsb09\n",
      "type : product\n",
      "\n",
      "65/10 positive, 59/10 negative\n",
      "Do these records refer to the same thing?\n",
      "(y)es / (n)o / (u)nsure / (f)inished / (p)revious\n"
     ]
    },
    {
     "name": "stdin",
     "output_type": "stream",
     "text": [
      " y\n"
     ]
    },
    {
     "name": "stderr",
     "output_type": "stream",
     "text": [
      "label : central scientific institute of chemistry and mechanics\n",
      "type : org\n",
      "\n",
      "label : central scientific research institute of chemistry and mechanics\n",
      "type : org\n",
      "\n",
      "66/10 positive, 59/10 negative\n",
      "Do these records refer to the same thing?\n",
      "(y)es / (n)o / (u)nsure / (f)inished / (p)revious\n"
     ]
    },
    {
     "name": "stdin",
     "output_type": "stream",
     "text": [
      " y\n"
     ]
    },
    {
     "name": "stderr",
     "output_type": "stream",
     "text": [
      "label : windows event\n",
      "type : product\n",
      "\n",
      "label : windows 7\n",
      "type : product\n",
      "\n",
      "67/10 positive, 59/10 negative\n",
      "Do these records refer to the same thing?\n",
      "(y)es / (n)o / (u)nsure / (f)inished / (p)revious\n"
     ]
    },
    {
     "name": "stdin",
     "output_type": "stream",
     "text": [
      " n\n"
     ]
    },
    {
     "name": "stderr",
     "output_type": "stream",
     "text": [
      "label : securityweek\n",
      "type : org\n",
      "\n",
      "label : security week\n",
      "type : org\n",
      "\n",
      "67/10 positive, 60/10 negative\n",
      "Do these records refer to the same thing?\n",
      "(y)es / (n)o / (u)nsure / (f)inished / (p)revious\n"
     ]
    },
    {
     "name": "stdin",
     "output_type": "stream",
     "text": [
      " y\n"
     ]
    },
    {
     "name": "stderr",
     "output_type": "stream",
     "text": [
      "label : crashoverride\n",
      "type : product\n",
      "\n",
      "label : crashoveride\n",
      "type : product\n",
      "\n",
      "68/10 positive, 60/10 negative\n",
      "Do these records refer to the same thing?\n",
      "(y)es / (n)o / (u)nsure / (f)inished / (p)revious\n"
     ]
    },
    {
     "name": "stdin",
     "output_type": "stream",
     "text": [
      " y\n"
     ]
    },
    {
     "name": "stderr",
     "output_type": "stream",
     "text": [
      "label : the multi-state information sharing & analysis center\n",
      "type : org\n",
      "\n",
      "label : multi-state information sharing and analysis center\n",
      "type : org\n",
      "\n",
      "69/10 positive, 60/10 negative\n",
      "Do these records refer to the same thing?\n",
      "(y)es / (n)o / (u)nsure / (f)inished / (p)revious\n"
     ]
    },
    {
     "name": "stdin",
     "output_type": "stream",
     "text": [
      " y\n"
     ]
    },
    {
     "name": "stderr",
     "output_type": "stream",
     "text": [
      "label : windows systems\n",
      "type : product\n",
      "\n",
      "label : windows registry editor version 5.00[hkey_classes_root\\acroexch.document.7]\"editflags\"=hex:00,00,00,00disable the display of pdf files\n",
      "type : product\n",
      "\n",
      "70/10 positive, 60/10 negative\n",
      "Do these records refer to the same thing?\n",
      "(y)es / (n)o / (u)nsure / (f)inished / (p)revious\n"
     ]
    },
    {
     "name": "stdin",
     "output_type": "stream",
     "text": [
      " n\n"
     ]
    },
    {
     "name": "stderr",
     "output_type": "stream",
     "text": [
      "label : the u.s. doj\n",
      "type : org\n",
      "\n",
      "label : the u.s. department of labor\n",
      "type : org\n",
      "\n",
      "70/10 positive, 61/10 negative\n",
      "Do these records refer to the same thing?\n",
      "(y)es / (n)o / (u)nsure / (f)inished / (p)revious\n"
     ]
    },
    {
     "name": "stdin",
     "output_type": "stream",
     "text": [
      " n\n"
     ]
    },
    {
     "name": "stderr",
     "output_type": "stream",
     "text": [
      "label : java 5\n",
      "type : product\n",
      "\n",
      "label : java 7 update 11\n",
      "type : product\n",
      "\n",
      "70/10 positive, 62/10 negative\n",
      "Do these records refer to the same thing?\n",
      "(y)es / (n)o / (u)nsure / (f)inished / (p)revious\n"
     ]
    },
    {
     "name": "stdin",
     "output_type": "stream",
     "text": [
      " n\n"
     ]
    },
    {
     "name": "stderr",
     "output_type": "stream",
     "text": [
      "label : us-cert's\n",
      "type : org\n",
      "\n",
      "label : us-cert technical cyber security alert\n",
      "type : org\n",
      "\n",
      "70/10 positive, 63/10 negative\n",
      "Do these records refer to the same thing?\n",
      "(y)es / (n)o / (u)nsure / (f)inished / (p)revious\n"
     ]
    },
    {
     "name": "stdin",
     "output_type": "stream",
     "text": [
      " n\n"
     ]
    },
    {
     "name": "stderr",
     "output_type": "stream",
     "text": [
      "label : windows 8.1\n",
      "type : product\n",
      "\n",
      "label : windows registry editor version 5.00[hkey_classes_root\\acroexch\n",
      "type : product\n",
      "\n",
      "70/10 positive, 64/10 negative\n",
      "Do these records refer to the same thing?\n",
      "(y)es / (n)o / (u)nsure / (f)inished / (p)revious\n"
     ]
    },
    {
     "name": "stdin",
     "output_type": "stream",
     "text": [
      " n\n"
     ]
    },
    {
     "name": "stderr",
     "output_type": "stream",
     "text": [
      "label : java 5\n",
      "type : product\n",
      "\n",
      "label : java 7 update 7\n",
      "type : product\n",
      "\n",
      "70/10 positive, 65/10 negative\n",
      "Do these records refer to the same thing?\n",
      "(y)es / (n)o / (u)nsure / (f)inished / (p)revious\n"
     ]
    },
    {
     "name": "stdin",
     "output_type": "stream",
     "text": [
      " n\n"
     ]
    },
    {
     "name": "stderr",
     "output_type": "stream",
     "text": [
      "label : windows server 2003's end of support\n",
      "type : product\n",
      "\n",
      "label : windowsgr\n",
      "type : product\n",
      "\n",
      "70/10 positive, 66/10 negative\n",
      "Do these records refer to the same thing?\n",
      "(y)es / (n)o / (u)nsure / (f)inished / (p)revious\n"
     ]
    },
    {
     "name": "stdin",
     "output_type": "stream",
     "text": [
      " n\n"
     ]
    },
    {
     "name": "stderr",
     "output_type": "stream",
     "text": [
      "label : windows server message block 1.0\n",
      "type : product\n",
      "\n",
      "label : windows 8)\n",
      "type : product\n",
      "\n",
      "70/10 positive, 67/10 negative\n",
      "Do these records refer to the same thing?\n",
      "(y)es / (n)o / (u)nsure / (f)inished / (p)revious\n"
     ]
    },
    {
     "name": "stdin",
     "output_type": "stream",
     "text": [
      " n\n"
     ]
    },
    {
     "name": "stderr",
     "output_type": "stream",
     "text": [
      "label : flash player 10.1.95.1\n",
      "type : product\n",
      "\n",
      "label : flash player 10.1.53.64\n",
      "type : product\n",
      "\n",
      "70/10 positive, 68/10 negative\n",
      "Do these records refer to the same thing?\n",
      "(y)es / (n)o / (u)nsure / (f)inished / (p)revious\n"
     ]
    },
    {
     "name": "stdin",
     "output_type": "stream",
     "text": [
      " y\n"
     ]
    },
    {
     "name": "stderr",
     "output_type": "stream",
     "text": [
      "label : national security agency\n",
      "type : org\n",
      "\n",
      "label : the national security agency's\n",
      "type : org\n",
      "\n",
      "71/10 positive, 68/10 negative\n",
      "Do these records refer to the same thing?\n",
      "(y)es / (n)o / (u)nsure / (f)inished / (p)revious\n"
     ]
    },
    {
     "name": "stdin",
     "output_type": "stream",
     "text": [
      " y\n"
     ]
    },
    {
     "name": "stderr",
     "output_type": "stream",
     "text": [
      "label : windows 11\n",
      "type : product\n",
      "\n",
      "label : windows xp)mcafeewww.mcafee.com\n",
      "type : product\n",
      "\n",
      "72/10 positive, 68/10 negative\n",
      "Do these records refer to the same thing?\n",
      "(y)es / (n)o / (u)nsure / (f)inished / (p)revious\n"
     ]
    },
    {
     "name": "stdin",
     "output_type": "stream",
     "text": [
      " n\n"
     ]
    },
    {
     "name": "stderr",
     "output_type": "stream",
     "text": [
      "label : java 7\n",
      "type : product\n",
      "\n",
      "label : java web start\n",
      "type : product\n",
      "\n",
      "72/10 positive, 69/10 negative\n",
      "Do these records refer to the same thing?\n",
      "(y)es / (n)o / (u)nsure / (f)inished / (p)revious\n"
     ]
    },
    {
     "name": "stdin",
     "output_type": "stream",
     "text": [
      " n\n"
     ]
    },
    {
     "name": "stderr",
     "output_type": "stream",
     "text": [
      "label : windows nt 5.2\n",
      "type : product\n",
      "\n",
      "label : windows nt 6.1\n",
      "type : product\n",
      "\n",
      "72/10 positive, 70/10 negative\n",
      "Do these records refer to the same thing?\n",
      "(y)es / (n)o / (u)nsure / (f)inished / (p)revious\n"
     ]
    },
    {
     "name": "stdin",
     "output_type": "stream",
     "text": [
      " y\n"
     ]
    },
    {
     "name": "stderr",
     "output_type": "stream",
     "text": [
      "label : windows 11\n",
      "type : product\n",
      "\n",
      "label : windows defender exploit guard\n",
      "type : product\n",
      "\n",
      "73/10 positive, 70/10 negative\n",
      "Do these records refer to the same thing?\n",
      "(y)es / (n)o / (u)nsure / (f)inished / (p)revious\n"
     ]
    },
    {
     "name": "stdin",
     "output_type": "stream",
     "text": [
      " n\n"
     ]
    },
    {
     "name": "stderr",
     "output_type": "stream",
     "text": [
      "label : windows 95\n",
      "type : product\n",
      "\n",
      "label : windows server update services\n",
      "type : product\n",
      "\n",
      "73/10 positive, 71/10 negative\n",
      "Do these records refer to the same thing?\n",
      "(y)es / (n)o / (u)nsure / (f)inished / (p)revious\n"
     ]
    },
    {
     "name": "stdin",
     "output_type": "stream",
     "text": [
      " n\n"
     ]
    },
    {
     "name": "stderr",
     "output_type": "stream",
     "text": [
      "label : windows xp)heimdalhttp://goz.heimdalsecurity.com/ (microsoft windows xp\n",
      "type : product\n",
      "\n",
      "label : windows mail\n",
      "type : product\n",
      "\n",
      "73/10 positive, 72/10 negative\n",
      "Do these records refer to the same thing?\n",
      "(y)es / (n)o / (u)nsure / (f)inished / (p)revious\n"
     ]
    },
    {
     "name": "stdin",
     "output_type": "stream",
     "text": [
      " n\n"
     ]
    },
    {
     "name": "stderr",
     "output_type": "stream",
     "text": [
      "label : windows hardware compatibility program\n",
      "type : org\n",
      "\n",
      "label : windows nt\n",
      "type : product\n",
      "\n",
      "73/10 positive, 73/10 negative\n",
      "Do these records refer to the same thing?\n",
      "(y)es / (n)o / (u)nsure / (f)inished / (p)revious\n"
     ]
    },
    {
     "name": "stdin",
     "output_type": "stream",
     "text": [
      " n\n"
     ]
    },
    {
     "name": "stderr",
     "output_type": "stream",
     "text": [
      "label : nvidia corporation\n",
      "type : org\n",
      "\n",
      "label : cn=nvidia corporation\n",
      "type : org\n",
      "\n",
      "73/10 positive, 74/10 negative\n",
      "Do these records refer to the same thing?\n",
      "(y)es / (n)o / (u)nsure / (f)inished / (p)revious\n"
     ]
    },
    {
     "name": "stdin",
     "output_type": "stream",
     "text": [
      " y\n"
     ]
    },
    {
     "name": "stderr",
     "output_type": "stream",
     "text": [
      "label : the department of the treasury\n",
      "type : org\n",
      "\n",
      "label : u.s. department of the treasury\n",
      "type : org\n",
      "\n",
      "74/10 positive, 74/10 negative\n",
      "Do these records refer to the same thing?\n",
      "(y)es / (n)o / (u)nsure / (f)inished / (p)revious\n"
     ]
    },
    {
     "name": "stdin",
     "output_type": "stream",
     "text": [
      " y\n"
     ]
    },
    {
     "name": "stderr",
     "output_type": "stream",
     "text": [
      "label : mitre att&ck(r)\n",
      "type : product\n",
      "\n",
      "label : mitre att&ck version 11: software -\n",
      "type : product\n",
      "\n",
      "75/10 positive, 74/10 negative\n",
      "Do these records refer to the same thing?\n",
      "(y)es / (n)o / (u)nsure / (f)inished / (p)revious\n"
     ]
    },
    {
     "name": "stdin",
     "output_type": "stream",
     "text": [
      " y\n"
     ]
    },
    {
     "name": "stderr",
     "output_type": "stream",
     "text": [
      "label : windows 10\n",
      "type : product\n",
      "\n",
      "label : windows active directory\n",
      "type : product\n",
      "\n",
      "76/10 positive, 74/10 negative\n",
      "Do these records refer to the same thing?\n",
      "(y)es / (n)o / (u)nsure / (f)inished / (p)revious\n"
     ]
    },
    {
     "name": "stdin",
     "output_type": "stream",
     "text": [
      " n\n"
     ]
    },
    {
     "name": "stderr",
     "output_type": "stream",
     "text": [
      "label : virus total\n",
      "type : product\n",
      "\n",
      "label : virustotal\n",
      "type : product\n",
      "\n",
      "76/10 positive, 75/10 negative\n",
      "Do these records refer to the same thing?\n",
      "(y)es / (n)o / (u)nsure / (f)inished / (p)revious\n"
     ]
    },
    {
     "name": "stdin",
     "output_type": "stream",
     "text": [
      " y\n"
     ]
    },
    {
     "name": "stderr",
     "output_type": "stream",
     "text": [
      "label : windows management instrumentation\n",
      "type : org\n",
      "\n",
      "label : windows 95\n",
      "type : product\n",
      "\n",
      "77/10 positive, 75/10 negative\n",
      "Do these records refer to the same thing?\n",
      "(y)es / (n)o / (u)nsure / (f)inished / (p)revious\n"
     ]
    },
    {
     "name": "stdin",
     "output_type": "stream",
     "text": [
      " n\n"
     ]
    },
    {
     "name": "stderr",
     "output_type": "stream",
     "text": [
      "label : microsoft security response center\n",
      "type : org\n",
      "\n",
      "label : microsoft security blog\n",
      "type : org\n",
      "\n",
      "77/10 positive, 76/10 negative\n",
      "Do these records refer to the same thing?\n",
      "(y)es / (n)o / (u)nsure / (f)inished / (p)revious\n"
     ]
    },
    {
     "name": "stdin",
     "output_type": "stream",
     "text": [
      " n\n"
     ]
    },
    {
     "name": "stderr",
     "output_type": "stream",
     "text": [
      "label : windows server 2003\n",
      "type : product\n",
      "\n",
      "label : windows xp service pack 3windows xp professional x64 edition service pack 2windows server 2003\n",
      "type : product\n",
      "\n",
      "77/10 positive, 77/10 negative\n",
      "Do these records refer to the same thing?\n",
      "(y)es / (n)o / (u)nsure / (f)inished / (p)revious\n"
     ]
    },
    {
     "name": "stdin",
     "output_type": "stream",
     "text": [
      " n\n"
     ]
    },
    {
     "name": "stderr",
     "output_type": "stream",
     "text": [
      "label : java 5\n",
      "type : product\n",
      "\n",
      "label : java 6.use\n",
      "type : product\n",
      "\n",
      "77/10 positive, 78/10 negative\n",
      "Do these records refer to the same thing?\n",
      "(y)es / (n)o / (u)nsure / (f)inished / (p)revious\n"
     ]
    },
    {
     "name": "stdin",
     "output_type": "stream",
     "text": [
      " y\n"
     ]
    },
    {
     "name": "stderr",
     "output_type": "stream",
     "text": [
      "label : windows server 2012 r2\n",
      "type : product\n",
      "\n",
      "label : windows 8)\n",
      "type : product\n",
      "\n",
      "78/10 positive, 78/10 negative\n",
      "Do these records refer to the same thing?\n",
      "(y)es / (n)o / (u)nsure / (f)inished / (p)revious\n"
     ]
    },
    {
     "name": "stdin",
     "output_type": "stream",
     "text": [
      " n\n"
     ]
    },
    {
     "name": "stderr",
     "output_type": "stream",
     "text": [
      "label : 8\n",
      "type : product\n",
      "\n",
      "label : versionsadobe air 1.5.2\n",
      "type : product\n",
      "\n",
      "78/10 positive, 79/10 negative\n",
      "Do these records refer to the same thing?\n",
      "(y)es / (n)o / (u)nsure / (f)inished / (p)revious\n"
     ]
    },
    {
     "name": "stdin",
     "output_type": "stream",
     "text": [
      " n\n"
     ]
    },
    {
     "name": "stderr",
     "output_type": "stream",
     "text": [
      "label : windows print spooler\n",
      "type : product\n",
      "\n",
      "label : windows 95\n",
      "type : product\n",
      "\n",
      "78/10 positive, 80/10 negative\n",
      "Do these records refer to the same thing?\n",
      "(y)es / (n)o / (u)nsure / (f)inished / (p)revious\n"
     ]
    },
    {
     "name": "stdin",
     "output_type": "stream",
     "text": [
      " n\n"
     ]
    },
    {
     "name": "stderr",
     "output_type": "stream",
     "text": [
      "label : windows print spooler\n",
      "type : product\n",
      "\n",
      "label : windows 95\n",
      "type : product\n",
      "\n",
      "78/10 positive, 81/10 negative\n",
      "Do these records refer to the same thing?\n",
      "(y)es / (n)o / (u)nsure / (f)inished / (p)revious\n"
     ]
    },
    {
     "name": "stdin",
     "output_type": "stream",
     "text": [
      " n\n"
     ]
    },
    {
     "name": "stderr",
     "output_type": "stream",
     "text": [
      "label : windows print spooler\n",
      "type : product\n",
      "\n",
      "label : windows nt\n",
      "type : product\n",
      "\n",
      "78/10 positive, 82/10 negative\n",
      "Do these records refer to the same thing?\n",
      "(y)es / (n)o / (u)nsure / (f)inished / (p)revious\n"
     ]
    },
    {
     "name": "stdin",
     "output_type": "stream",
     "text": [
      " n\n"
     ]
    },
    {
     "name": "stderr",
     "output_type": "stream",
     "text": [
      "label : flash player 10.3.185.25\n",
      "type : product\n",
      "\n",
      "label : flash player 10.0.45.2\n",
      "type : product\n",
      "\n",
      "78/10 positive, 83/10 negative\n",
      "Do these records refer to the same thing?\n",
      "(y)es / (n)o / (u)nsure / (f)inished / (p)revious\n"
     ]
    },
    {
     "name": "stdin",
     "output_type": "stream",
     "text": [
      " y\n"
     ]
    },
    {
     "name": "stderr",
     "output_type": "stream",
     "text": [
      "label : windows defenderthe\n",
      "type : product\n",
      "\n",
      "label : windows registry editor version 5.00[hkey_classes_root\\acroexch.document.7]\"editflags\"=hex:00,00,00,00disable the display of pdf files\n",
      "type : product\n",
      "\n",
      "79/10 positive, 83/10 negative\n",
      "Do these records refer to the same thing?\n",
      "(y)es / (n)o / (u)nsure / (f)inished / (p)revious\n"
     ]
    },
    {
     "name": "stdin",
     "output_type": "stream",
     "text": [
      " n\n"
     ]
    },
    {
     "name": "stderr",
     "output_type": "stream",
     "text": [
      "label : the united kingdom.[8\n",
      "type : gpe\n",
      "\n",
      "label : the united kingdom national cyber security centre\n",
      "type : org\n",
      "\n",
      "79/10 positive, 84/10 negative\n",
      "Do these records refer to the same thing?\n",
      "(y)es / (n)o / (u)nsure / (f)inished / (p)revious\n"
     ]
    },
    {
     "name": "stdin",
     "output_type": "stream",
     "text": [
      " n\n"
     ]
    },
    {
     "name": "stderr",
     "output_type": "stream",
     "text": [
      "label : windows server 2016\n",
      "type : product\n",
      "\n",
      "label : windows 8)\n",
      "type : product\n",
      "\n",
      "79/10 positive, 85/10 negative\n",
      "Do these records refer to the same thing?\n",
      "(y)es / (n)o / (u)nsure / (f)inished / (p)revious\n"
     ]
    },
    {
     "name": "stdin",
     "output_type": "stream",
     "text": [
      " n\n"
     ]
    },
    {
     "name": "stderr",
     "output_type": "stream",
     "text": [
      "label : windows defenderthe\n",
      "type : product\n",
      "\n",
      "label : windows 95\n",
      "type : product\n",
      "\n",
      "79/10 positive, 86/10 negative\n",
      "Do these records refer to the same thing?\n",
      "(y)es / (n)o / (u)nsure / (f)inished / (p)revious\n"
     ]
    },
    {
     "name": "stdin",
     "output_type": "stream",
     "text": [
      " n\n"
     ]
    },
    {
     "name": "stderr",
     "output_type": "stream",
     "text": [
      "label : windows 2000windows\n",
      "type : product\n",
      "\n",
      "label : windows 95\n",
      "type : product\n",
      "\n",
      "79/10 positive, 87/10 negative\n",
      "Do these records refer to the same thing?\n",
      "(y)es / (n)o / (u)nsure / (f)inished / (p)revious\n"
     ]
    },
    {
     "name": "stdin",
     "output_type": "stream",
     "text": [
      " n\n"
     ]
    },
    {
     "name": "stderr",
     "output_type": "stream",
     "text": [
      "label : enhanced mitigation experience toolkit 5.2\n",
      "type : product\n",
      "\n",
      "label : the enhanced mitigation experience toolkit\n",
      "type : product\n",
      "\n",
      "79/10 positive, 88/10 negative\n",
      "Do these records refer to the same thing?\n",
      "(y)es / (n)o / (u)nsure / (f)inished / (p)revious\n"
     ]
    },
    {
     "name": "stdin",
     "output_type": "stream",
     "text": [
      " y\n"
     ]
    },
    {
     "name": "stderr",
     "output_type": "stream",
     "text": [
      "label : windows rt\n",
      "type : product\n",
      "\n",
      "label : windows 10.disable\n",
      "type : product\n",
      "\n",
      "80/10 positive, 88/10 negative\n",
      "Do these records refer to the same thing?\n",
      "(y)es / (n)o / (u)nsure / (f)inished / (p)revious\n"
     ]
    },
    {
     "name": "stdin",
     "output_type": "stream",
     "text": [
      " n\n"
     ]
    },
    {
     "name": "stderr",
     "output_type": "stream",
     "text": [
      "label : dragonflybsd\n",
      "type : org\n",
      "\n",
      "label : dragos\n",
      "type : product\n",
      "\n",
      "80/10 positive, 89/10 negative\n",
      "Do these records refer to the same thing?\n",
      "(y)es / (n)o / (u)nsure / (f)inished / (p)revious\n"
     ]
    },
    {
     "name": "stdin",
     "output_type": "stream",
     "text": [
      " n\n"
     ]
    },
    {
     "name": "stderr",
     "output_type": "stream",
     "text": [
      "label : windows server 2003\n",
      "type : product\n",
      "\n",
      "label : windowsgr\n",
      "type : product\n",
      "\n",
      "80/10 positive, 90/10 negative\n",
      "Do these records refer to the same thing?\n",
      "(y)es / (n)o / (u)nsure / (f)inished / (p)revious\n"
     ]
    },
    {
     "name": "stdin",
     "output_type": "stream",
     "text": [
      " n\n"
     ]
    },
    {
     "name": "stderr",
     "output_type": "stream",
     "text": [
      "label : windows server 2016\n",
      "type : product\n",
      "\n",
      "label : windows server semi-annual branch\n",
      "type : product\n",
      "\n",
      "80/10 positive, 91/10 negative\n",
      "Do these records refer to the same thing?\n",
      "(y)es / (n)o / (u)nsure / (f)inished / (p)revious\n"
     ]
    },
    {
     "name": "stdin",
     "output_type": "stream",
     "text": [
      " n\n"
     ]
    },
    {
     "name": "stderr",
     "output_type": "stream",
     "text": [
      "label : java se\n",
      "type : product\n",
      "\n",
      "label : java 5\n",
      "type : product\n",
      "\n",
      "80/10 positive, 92/10 negative\n",
      "Do these records refer to the same thing?\n",
      "(y)es / (n)o / (u)nsure / (f)inished / (p)revious\n"
     ]
    },
    {
     "name": "stdin",
     "output_type": "stream",
     "text": [
      " y\n"
     ]
    },
    {
     "name": "stderr",
     "output_type": "stream",
     "text": [
      "label : windows defender(r) exploit guard\n",
      "type : product\n",
      "\n",
      "label : windows 8.1\n",
      "type : product\n",
      "\n",
      "81/10 positive, 92/10 negative\n",
      "Do these records refer to the same thing?\n",
      "(y)es / (n)o / (u)nsure / (f)inished / (p)revious\n"
     ]
    },
    {
     "name": "stdin",
     "output_type": "stream",
     "text": [
      " n\n"
     ]
    },
    {
     "name": "stderr",
     "output_type": "stream",
     "text": [
      "label : security bulletin ms13\n",
      "type : product\n",
      "\n",
      "label : security bulletin apsb10-\n",
      "type : product\n",
      "\n",
      "81/10 positive, 93/10 negative\n",
      "Do these records refer to the same thing?\n",
      "(y)es / (n)o / (u)nsure / (f)inished / (p)revious\n"
     ]
    },
    {
     "name": "stdin",
     "output_type": "stream",
     "text": [
      " n\n"
     ]
    },
    {
     "name": "stderr",
     "output_type": "stream",
     "text": [
      "label : firefox 34\n",
      "type : product\n",
      "\n",
      "label : firefox 2.0.0.18\n",
      "type : product\n",
      "\n",
      "81/10 positive, 94/10 negative\n",
      "Do these records refer to the same thing?\n",
      "(y)es / (n)o / (u)nsure / (f)inished / (p)revious\n"
     ]
    },
    {
     "name": "stdin",
     "output_type": "stream",
     "text": [
      " y\n"
     ]
    },
    {
     "name": "stderr",
     "output_type": "stream",
     "text": [
      "label : windows defender\n",
      "type : product\n",
      "\n",
      "label : windows rt\n",
      "type : product\n",
      "\n",
      "82/10 positive, 94/10 negative\n",
      "Do these records refer to the same thing?\n",
      "(y)es / (n)o / (u)nsure / (f)inished / (p)revious\n"
     ]
    },
    {
     "name": "stdin",
     "output_type": "stream",
     "text": [
      " n\n"
     ]
    },
    {
     "name": "stderr",
     "output_type": "stream",
     "text": [
      "label : windows defender\n",
      "type : product\n",
      "\n",
      "label : windows 95\n",
      "type : product\n",
      "\n",
      "82/10 positive, 95/10 negative\n",
      "Do these records refer to the same thing?\n",
      "(y)es / (n)o / (u)nsure / (f)inished / (p)revious\n"
     ]
    },
    {
     "name": "stdin",
     "output_type": "stream",
     "text": [
      " n\n"
     ]
    },
    {
     "name": "stderr",
     "output_type": "stream",
     "text": [
      "label : atlassian data center\n",
      "type : org\n",
      "\n",
      "label : atlassian jira data center\n",
      "type : org\n",
      "\n",
      "82/10 positive, 96/10 negative\n",
      "Do these records refer to the same thing?\n",
      "(y)es / (n)o / (u)nsure / (f)inished / (p)revious\n"
     ]
    },
    {
     "name": "stdin",
     "output_type": "stream",
     "text": [
      " y\n"
     ]
    },
    {
     "name": "stderr",
     "output_type": "stream",
     "text": [
      "label : confluencelogs\n",
      "type : org\n",
      "\n",
      "label : cnn\n",
      "type : org\n",
      "\n",
      "83/10 positive, 96/10 negative\n",
      "Do these records refer to the same thing?\n",
      "(y)es / (n)o / (u)nsure / (f)inished / (p)revious\n"
     ]
    },
    {
     "name": "stdin",
     "output_type": "stream",
     "text": [
      " n\n"
     ]
    },
    {
     "name": "stderr",
     "output_type": "stream",
     "text": [
      "label : server 2008\n",
      "type : product\n",
      "\n",
      "label : server 2012\n",
      "type : product\n",
      "\n",
      "83/10 positive, 97/10 negative\n",
      "Do these records refer to the same thing?\n",
      "(y)es / (n)o / (u)nsure / (f)inished / (p)revious\n"
     ]
    },
    {
     "name": "stdin",
     "output_type": "stream",
     "text": [
      " n\n"
     ]
    },
    {
     "name": "stderr",
     "output_type": "stream",
     "text": [
      "label : u.s. department of justice\n",
      "type : org\n",
      "\n",
      "label : the department of justice\n",
      "type : org\n",
      "\n",
      "83/10 positive, 98/10 negative\n",
      "Do these records refer to the same thing?\n",
      "(y)es / (n)o / (u)nsure / (f)inished / (p)revious\n"
     ]
    },
    {
     "name": "stdin",
     "output_type": "stream",
     "text": [
      " y\n"
     ]
    },
    {
     "name": "stderr",
     "output_type": "stream",
     "text": [
      "label : arkansas\n",
      "type : gpe\n",
      "\n",
      "label : argentinabelgiumbrazilcambodiachinacolombiaegyptindiairanjordanpakistansaudi\n",
      "type : gpe\n",
      "\n",
      "84/10 positive, 98/10 negative\n",
      "Do these records refer to the same thing?\n",
      "(y)es / (n)o / (u)nsure / (f)inished / (p)revious\n"
     ]
    },
    {
     "name": "stdin",
     "output_type": "stream",
     "text": [
      " f\n"
     ]
    },
    {
     "name": "stderr",
     "output_type": "stream",
     "text": [
      "Finished labeling\n"
     ]
    }
   ],
   "source": [
    "print('starting active labeling...')\n",
    "dedupe.console_label(deduper)"
   ]
  },
  {
   "cell_type": "code",
   "execution_count": 56,
   "id": "fd210d16-4056-46d5-9ae9-9c547763a819",
   "metadata": {},
   "outputs": [
    {
     "name": "stdout",
     "output_type": "stream",
     "text": [
      "huggingface/tokenizers: The current process just got forked, after parallelism has already been used. Disabling parallelism to avoid deadlocks...\n",
      "To disable this warning, you can either:\n",
      "\t- Avoid using `tokenizers` before the fork if possible\n",
      "\t- Explicitly set the environment variable TOKENIZERS_PARALLELISM=(true | false)\n",
      "huggingface/tokenizers: The current process just got forked, after parallelism has already been used. Disabling parallelism to avoid deadlocks...\n",
      "To disable this warning, you can either:\n",
      "\t- Avoid using `tokenizers` before the fork if possible\n",
      "\t- Explicitly set the environment variable TOKENIZERS_PARALLELISM=(true | false)\n",
      "huggingface/tokenizers: The current process just got forked, after parallelism has already been used. Disabling parallelism to avoid deadlocks...\n",
      "To disable this warning, you can either:\n",
      "\t- Avoid using `tokenizers` before the fork if possible\n",
      "\t- Explicitly set the environment variable TOKENIZERS_PARALLELISM=(true | false)\n",
      "huggingface/tokenizers: The current process just got forked, after parallelism has already been used. Disabling parallelism to avoid deadlocks...\n",
      "To disable this warning, you can either:\n",
      "\t- Avoid using `tokenizers` before the fork if possible\n",
      "\t- Explicitly set the environment variable TOKENIZERS_PARALLELISM=(true | false)\n",
      "huggingface/tokenizers: The current process just got forked, after parallelism has already been used. Disabling parallelism to avoid deadlocks...\n",
      "To disable this warning, you can either:\n",
      "\t- Avoid using `tokenizers` before the fork if possible\n",
      "\t- Explicitly set the environment variable TOKENIZERS_PARALLELISM=(true | false)\n",
      "huggingface/tokenizers: The current process just got forked, after parallelism has already been used. Disabling parallelism to avoid deadlocks...\n",
      "To disable this warning, you can either:\n",
      "\t- Avoid using `tokenizers` before the fork if possible\n",
      "\t- Explicitly set the environment variable TOKENIZERS_PARALLELISM=(true | false)\n",
      "huggingface/tokenizers: The current process just got forked, after parallelism has already been used. Disabling parallelism to avoid deadlocks...\n",
      "To disable this warning, you can either:\n",
      "\t- Avoid using `tokenizers` before the fork if possible\n",
      "\t- Explicitly set the environment variable TOKENIZERS_PARALLELISM=(true | false)\n",
      "huggingface/tokenizers: The current process just got forked, after parallelism has already been used. Disabling parallelism to avoid deadlocks...\n",
      "To disable this warning, you can either:\n",
      "\t- Avoid using `tokenizers` before the fork if possible\n",
      "\t- Explicitly set the environment variable TOKENIZERS_PARALLELISM=(true | false)\n",
      "huggingface/tokenizers: The current process just got forked, after parallelism has already been used. Disabling parallelism to avoid deadlocks...\n",
      "To disable this warning, you can either:\n",
      "\t- Avoid using `tokenizers` before the fork if possible\n",
      "\t- Explicitly set the environment variable TOKENIZERS_PARALLELISM=(true | false)\n",
      "huggingface/tokenizers: The current process just got forked, after parallelism has already been used. Disabling parallelism to avoid deadlocks...\n",
      "To disable this warning, you can either:\n",
      "\t- Avoid using `tokenizers` before the fork if possible\n",
      "\t- Explicitly set the environment variable TOKENIZERS_PARALLELISM=(true | false)\n",
      "huggingface/tokenizers: The current process just got forked, after parallelism has already been used. Disabling parallelism to avoid deadlocks...\n",
      "To disable this warning, you can either:\n",
      "\t- Avoid using `tokenizers` before the fork if possible\n",
      "\t- Explicitly set the environment variable TOKENIZERS_PARALLELISM=(true | false)\n",
      "huggingface/tokenizers: The current process just got forked, after parallelism has already been used. Disabling parallelism to avoid deadlocks...\n",
      "To disable this warning, you can either:\n",
      "\t- Avoid using `tokenizers` before the fork if possible\n",
      "\t- Explicitly set the environment variable TOKENIZERS_PARALLELISM=(true | false)\n",
      "huggingface/tokenizers: The current process just got forked, after parallelism has already been used. Disabling parallelism to avoid deadlocks...\n",
      "To disable this warning, you can either:\n",
      "\t- Avoid using `tokenizers` before the fork if possible\n",
      "\t- Explicitly set the environment variable TOKENIZERS_PARALLELISM=(true | false)\n",
      "huggingface/tokenizers: The current process just got forked, after parallelism has already been used. Disabling parallelism to avoid deadlocks...\n",
      "To disable this warning, you can either:\n",
      "\t- Avoid using `tokenizers` before the fork if possible\n",
      "\t- Explicitly set the environment variable TOKENIZERS_PARALLELISM=(true | false)\n"
     ]
    }
   ],
   "source": [
    "deduper.train()\n",
    "\n",
    "with open(training_file, 'w') as tf:\n",
    "        deduper.write_training(tf)"
   ]
  },
  {
   "cell_type": "code",
   "execution_count": 57,
   "id": "ba15e2e9-f7d6-412b-bd56-df97da71aa7f",
   "metadata": {},
   "outputs": [
    {
     "name": "stdout",
     "output_type": "stream",
     "text": [
      "clustering...\n",
      "huggingface/tokenizers: The current process just got forked, after parallelism has already been used. Disabling parallelism to avoid deadlocks...\n",
      "To disable this warning, you can either:\n",
      "\t- Avoid using `tokenizers` before the fork if possible\n",
      "\t- Explicitly set the environment variable TOKENIZERS_PARALLELISM=(true | false)\n",
      "huggingface/tokenizers: The current process just got forked, after parallelism has already been used. Disabling parallelism to avoid deadlocks...\n",
      "To disable this warning, you can either:\n",
      "\t- Avoid using `tokenizers` before the fork if possible\n",
      "\t- Explicitly set the environment variable TOKENIZERS_PARALLELISM=(true | false)\n",
      "huggingface/tokenizers: The current process just got forked, after parallelism has already been used. Disabling parallelism to avoid deadlocks...\n",
      "To disable this warning, you can either:\n",
      "\t- Avoid using `tokenizers` before the fork if possible\n",
      "\t- Explicitly set the environment variable TOKENIZERS_PARALLELISM=(true | false)\n",
      "huggingface/tokenizers: The current process just got forked, after parallelism has already been used. Disabling parallelism to avoid deadlocks...\n",
      "To disable this warning, you can either:\n",
      "\t- Avoid using `tokenizers` before the fork if possible\n",
      "\t- Explicitly set the environment variable TOKENIZERS_PARALLELISM=(true | false)\n",
      "huggingface/tokenizers: The current process just got forked, after parallelism has already been used. Disabling parallelism to avoid deadlocks...\n",
      "To disable this warning, you can either:\n",
      "\t- Avoid using `tokenizers` before the fork if possible\n",
      "\t- Explicitly set the environment variable TOKENIZERS_PARALLELISM=(true | false)\n",
      "huggingface/tokenizers: The current process just got forked, after parallelism has already been used. Disabling parallelism to avoid deadlocks...\n",
      "To disable this warning, you can either:\n",
      "\t- Avoid using `tokenizers` before the fork if possible\n",
      "\t- Explicitly set the environment variable TOKENIZERS_PARALLELISM=(true | false)\n",
      "huggingface/tokenizers: The current process just got forked, after parallelism has already been used. Disabling parallelism to avoid deadlocks...\n",
      "To disable this warning, you can either:\n",
      "\t- Avoid using `tokenizers` before the fork if possible\n",
      "\t- Explicitly set the environment variable TOKENIZERS_PARALLELISM=(true | false)\n",
      "huggingface/tokenizers: The current process just got forked, after parallelism has already been used. Disabling parallelism to avoid deadlocks...\n",
      "To disable this warning, you can either:\n",
      "\t- Avoid using `tokenizers` before the fork if possible\n",
      "\t- Explicitly set the environment variable TOKENIZERS_PARALLELISM=(true | false)\n",
      "huggingface/tokenizers: The current process just got forked, after parallelism has already been used. Disabling parallelism to avoid deadlocks...\n",
      "To disable this warning, you can either:\n",
      "\t- Avoid using `tokenizers` before the fork if possible\n",
      "\t- Explicitly set the environment variable TOKENIZERS_PARALLELISM=(true | false)\n",
      "huggingface/tokenizers: The current process just got forked, after parallelism has already been used. Disabling parallelism to avoid deadlocks...\n",
      "To disable this warning, you can either:\n",
      "\t- Avoid using `tokenizers` before the fork if possible\n",
      "\t- Explicitly set the environment variable TOKENIZERS_PARALLELISM=(true | false)\n",
      "huggingface/tokenizers: The current process just got forked, after parallelism has already been used. Disabling parallelism to avoid deadlocks...\n",
      "To disable this warning, you can either:\n",
      "\t- Avoid using `tokenizers` before the fork if possible\n",
      "\t- Explicitly set the environment variable TOKENIZERS_PARALLELISM=(true | false)\n",
      "huggingface/tokenizers: The current process just got forked, after parallelism has already been used. Disabling parallelism to avoid deadlocks...\n",
      "To disable this warning, you can either:\n",
      "\t- Avoid using `tokenizers` before the fork if possible\n",
      "\t- Explicitly set the environment variable TOKENIZERS_PARALLELISM=(true | false)\n",
      "# duplicate sets 2516\n"
     ]
    }
   ],
   "source": [
    "print('clustering...')\n",
    "clustered_dupes = deduper.partition(data_d, 0.5)\n",
    "\n",
    "print('# duplicate sets', len(clustered_dupes))"
   ]
  },
  {
   "cell_type": "code",
   "execution_count": 58,
   "id": "8bba233d-a76c-4552-81e3-4a140237d64e",
   "metadata": {},
   "outputs": [],
   "source": [
    "cluster_membership = {}\n",
    "for cluster_id, (records, scores) in enumerate(clustered_dupes):\n",
    "    for record_id, score in zip(records, scores):\n",
    "        cluster_membership[record_id] = {\n",
    "            \"Cluster ID\": cluster_id,\n",
    "            \"confidence_score\": score\n",
    "        }\n",
    "\n",
    "with open(output_file, 'w') as f_output, open(input_file, encoding=\"utf8\") as f_input:\n",
    "\n",
    "    reader = csv.DictReader(f_input)\n",
    "    fieldnames = ['Cluster ID', 'confidence_score'] + reader.fieldnames\n",
    "\n",
    "    writer = csv.DictWriter(f_output, fieldnames=fieldnames)\n",
    "    writer.writeheader()\n",
    "\n",
    "    for row in reader:\n",
    "        row_id = int(row['Id'])\n",
    "        row.update(cluster_membership[row_id])\n",
    "        writer.writerow(row)"
   ]
  },
  {
   "cell_type": "markdown",
   "id": "8901e1af-895c-4e47-a0b0-4ef5785c37a2",
   "metadata": {
    "tags": []
   },
   "source": [
    "# alert to ner edge"
   ]
  },
  {
   "cell_type": "code",
   "execution_count": 66,
   "id": "1ca18ce6-7ec3-4d74-bc2a-7f3505ab13f4",
   "metadata": {},
   "outputs": [],
   "source": [
    "df_clusters = pd.read_csv(data_path / 'ner_cluster.csv')"
   ]
  },
  {
   "cell_type": "markdown",
   "id": "2cc2dd9c-799d-4f5a-9562-2a8caadc2cf2",
   "metadata": {},
   "source": [
    "** TODO **\n",
    "1. Remove punctuation from labels\n",
    "2. Remove any labels that have only < 2 characters once punctuation is removed\n",
    "3. Plot the confidence scores and check accuracy around the chosen threshold\n",
    "4. Figure out why so many matches are not correct. \"stopransomware\" matching with CISA, FBI doesn't make sense, same with \"MS Windows and Firefox, Thunderbird, SeaMonkey.\n",
    "**5. Match \"PRODUCT\" type entities to CPE list**\n",
    "\n"
   ]
  },
  {
   "cell_type": "code",
   "execution_count": 68,
   "id": "27156e56-4ab2-453c-a066-9ff7657a231a",
   "metadata": {},
   "outputs": [
    {
     "data": {
      "text/html": [
       "<div>\n",
       "<style scoped>\n",
       "    .dataframe tbody tr th:only-of-type {\n",
       "        vertical-align: middle;\n",
       "    }\n",
       "\n",
       "    .dataframe tbody tr th {\n",
       "        vertical-align: top;\n",
       "    }\n",
       "\n",
       "    .dataframe thead th {\n",
       "        text-align: right;\n",
       "    }\n",
       "</style>\n",
       "<table border=\"1\" class=\"dataframe\">\n",
       "  <thead>\n",
       "    <tr style=\"text-align: right;\">\n",
       "      <th></th>\n",
       "      <th>alert_id</th>\n",
       "      <th>label_x</th>\n",
       "      <th>type_x</th>\n",
       "      <th>Cluster ID</th>\n",
       "      <th>confidence_score</th>\n",
       "      <th>Id</th>\n",
       "      <th>label_y</th>\n",
       "      <th>type_y</th>\n",
       "    </tr>\n",
       "  </thead>\n",
       "  <tbody>\n",
       "    <tr>\n",
       "      <th>0</th>\n",
       "      <td>AA22-321A</td>\n",
       "      <td>stopransomware.gov</td>\n",
       "      <td>ORG</td>\n",
       "      <td>1</td>\n",
       "      <td>0.800972</td>\n",
       "      <td>0</td>\n",
       "      <td>stopransomware.gov</td>\n",
       "      <td>ORG</td>\n",
       "    </tr>\n",
       "    <tr>\n",
       "      <th>1</th>\n",
       "      <td>AA22-321A</td>\n",
       "      <td>The Federal Bureau of Investigation</td>\n",
       "      <td>ORG</td>\n",
       "      <td>1</td>\n",
       "      <td>0.800972</td>\n",
       "      <td>0</td>\n",
       "      <td>stopransomware.gov</td>\n",
       "      <td>ORG</td>\n",
       "    </tr>\n",
       "    <tr>\n",
       "      <th>2</th>\n",
       "      <td>AA22-321A</td>\n",
       "      <td>FBI</td>\n",
       "      <td>ORG</td>\n",
       "      <td>1</td>\n",
       "      <td>0.800972</td>\n",
       "      <td>0</td>\n",
       "      <td>stopransomware.gov</td>\n",
       "      <td>ORG</td>\n",
       "    </tr>\n",
       "    <tr>\n",
       "      <th>3</th>\n",
       "      <td>AA22-321A</td>\n",
       "      <td>the Cybersecurity and Infrastructure Security ...</td>\n",
       "      <td>ORG</td>\n",
       "      <td>1</td>\n",
       "      <td>0.800972</td>\n",
       "      <td>0</td>\n",
       "      <td>stopransomware.gov</td>\n",
       "      <td>ORG</td>\n",
       "    </tr>\n",
       "    <tr>\n",
       "      <th>4</th>\n",
       "      <td>AA22-321A</td>\n",
       "      <td>CISA</td>\n",
       "      <td>ORG</td>\n",
       "      <td>1</td>\n",
       "      <td>0.800972</td>\n",
       "      <td>0</td>\n",
       "      <td>stopransomware.gov</td>\n",
       "      <td>ORG</td>\n",
       "    </tr>\n",
       "    <tr>\n",
       "      <th>...</th>\n",
       "      <td>...</td>\n",
       "      <td>...</td>\n",
       "      <td>...</td>\n",
       "      <td>...</td>\n",
       "      <td>...</td>\n",
       "      <td>...</td>\n",
       "      <td>...</td>\n",
       "      <td>...</td>\n",
       "    </tr>\n",
       "    <tr>\n",
       "      <th>18405</th>\n",
       "      <td>TA08-319A</td>\n",
       "      <td>Thunderbird</td>\n",
       "      <td>PRODUCT</td>\n",
       "      <td>794</td>\n",
       "      <td>1.000000</td>\n",
       "      <td>285</td>\n",
       "      <td>MS Windows</td>\n",
       "      <td>PRODUCT</td>\n",
       "    </tr>\n",
       "    <tr>\n",
       "      <th>18406</th>\n",
       "      <td>TA08-319A</td>\n",
       "      <td>SeaMonkey 1.1.13</td>\n",
       "      <td>PRODUCT</td>\n",
       "      <td>794</td>\n",
       "      <td>1.000000</td>\n",
       "      <td>285</td>\n",
       "      <td>MS Windows</td>\n",
       "      <td>PRODUCT</td>\n",
       "    </tr>\n",
       "    <tr>\n",
       "      <th>18407</th>\n",
       "      <td>TA08-319A</td>\n",
       "      <td>Mozilla Foundation</td>\n",
       "      <td>ORG</td>\n",
       "      <td>794</td>\n",
       "      <td>1.000000</td>\n",
       "      <td>285</td>\n",
       "      <td>MS Windows</td>\n",
       "      <td>PRODUCT</td>\n",
       "    </tr>\n",
       "    <tr>\n",
       "      <th>18408</th>\n",
       "      <td>TA08-319A</td>\n",
       "      <td>Mozilla</td>\n",
       "      <td>ORG</td>\n",
       "      <td>794</td>\n",
       "      <td>1.000000</td>\n",
       "      <td>285</td>\n",
       "      <td>MS Windows</td>\n",
       "      <td>PRODUCT</td>\n",
       "    </tr>\n",
       "    <tr>\n",
       "      <th>18409</th>\n",
       "      <td>TA08-319A</td>\n",
       "      <td>NoScript Firefox Extension</td>\n",
       "      <td>PRODUCT</td>\n",
       "      <td>794</td>\n",
       "      <td>1.000000</td>\n",
       "      <td>285</td>\n",
       "      <td>MS Windows</td>\n",
       "      <td>PRODUCT</td>\n",
       "    </tr>\n",
       "  </tbody>\n",
       "</table>\n",
       "<p>18410 rows × 8 columns</p>\n",
       "</div>"
      ],
      "text/plain": [
       "        alert_id                                            label_x   type_x  \\\n",
       "0      AA22-321A                                 stopransomware.gov      ORG   \n",
       "1      AA22-321A                The Federal Bureau of Investigation      ORG   \n",
       "2      AA22-321A                                                FBI      ORG   \n",
       "3      AA22-321A  the Cybersecurity and Infrastructure Security ...      ORG   \n",
       "4      AA22-321A                                               CISA      ORG   \n",
       "...          ...                                                ...      ...   \n",
       "18405  TA08-319A                                        Thunderbird  PRODUCT   \n",
       "18406  TA08-319A                                   SeaMonkey 1.1.13  PRODUCT   \n",
       "18407  TA08-319A                                 Mozilla Foundation      ORG   \n",
       "18408  TA08-319A                                            Mozilla      ORG   \n",
       "18409  TA08-319A                         NoScript Firefox Extension  PRODUCT   \n",
       "\n",
       "       Cluster ID  confidence_score   Id             label_y   type_y  \n",
       "0               1          0.800972    0  stopransomware.gov      ORG  \n",
       "1               1          0.800972    0  stopransomware.gov      ORG  \n",
       "2               1          0.800972    0  stopransomware.gov      ORG  \n",
       "3               1          0.800972    0  stopransomware.gov      ORG  \n",
       "4               1          0.800972    0  stopransomware.gov      ORG  \n",
       "...           ...               ...  ...                 ...      ...  \n",
       "18405         794          1.000000  285          MS Windows  PRODUCT  \n",
       "18406         794          1.000000  285          MS Windows  PRODUCT  \n",
       "18407         794          1.000000  285          MS Windows  PRODUCT  \n",
       "18408         794          1.000000  285          MS Windows  PRODUCT  \n",
       "18409         794          1.000000  285          MS Windows  PRODUCT  \n",
       "\n",
       "[18410 rows x 8 columns]"
      ]
     },
     "execution_count": 68,
     "metadata": {},
     "output_type": "execute_result"
    }
   ],
   "source": [
    "df_ner_clusters = df_ner.merge(df_clusters, left_on='index', right_on='Id', suffixes=[\"_x\",\"_y\"]).drop(columns=\"index\")\n",
    "df_ner_clusters"
   ]
  },
  {
   "cell_type": "code",
   "execution_count": 76,
   "id": "0acbf9bb-861c-440d-b2c5-d66bb0da03fc",
   "metadata": {},
   "outputs": [
    {
     "data": {
      "text/html": [
       "<div>\n",
       "<style scoped>\n",
       "    .dataframe tbody tr th:only-of-type {\n",
       "        vertical-align: middle;\n",
       "    }\n",
       "\n",
       "    .dataframe tbody tr th {\n",
       "        vertical-align: top;\n",
       "    }\n",
       "\n",
       "    .dataframe thead th {\n",
       "        text-align: right;\n",
       "    }\n",
       "</style>\n",
       "<table border=\"1\" class=\"dataframe\">\n",
       "  <thead>\n",
       "    <tr style=\"text-align: right;\">\n",
       "      <th></th>\n",
       "      <th>alert_id</th>\n",
       "      <th>label_x</th>\n",
       "      <th>0</th>\n",
       "    </tr>\n",
       "  </thead>\n",
       "  <tbody>\n",
       "    <tr>\n",
       "      <th>0</th>\n",
       "      <td>AA18-284A</td>\n",
       "      <td>ACSC</td>\n",
       "      <td>2</td>\n",
       "    </tr>\n",
       "    <tr>\n",
       "      <th>1</th>\n",
       "      <td>AA18-284A</td>\n",
       "      <td>APT19</td>\n",
       "      <td>2</td>\n",
       "    </tr>\n",
       "    <tr>\n",
       "      <th>2</th>\n",
       "      <td>AA18-284A</td>\n",
       "      <td>Active Directory</td>\n",
       "      <td>1</td>\n",
       "    </tr>\n",
       "    <tr>\n",
       "      <th>3</th>\n",
       "      <td>AA18-284A</td>\n",
       "      <td>Adobe</td>\n",
       "      <td>1</td>\n",
       "    </tr>\n",
       "    <tr>\n",
       "      <th>4</th>\n",
       "      <td>AA18-284A</td>\n",
       "      <td>Adwind RAT</td>\n",
       "      <td>2</td>\n",
       "    </tr>\n",
       "    <tr>\n",
       "      <th>...</th>\n",
       "      <td>...</td>\n",
       "      <td>...</td>\n",
       "      <td>...</td>\n",
       "    </tr>\n",
       "    <tr>\n",
       "      <th>7230</th>\n",
       "      <td>TA18-331A</td>\n",
       "      <td>Windows</td>\n",
       "      <td>1</td>\n",
       "    </tr>\n",
       "    <tr>\n",
       "      <th>7231</th>\n",
       "      <td>TA18-331A</td>\n",
       "      <td>YARA</td>\n",
       "      <td>1</td>\n",
       "    </tr>\n",
       "    <tr>\n",
       "      <th>7232</th>\n",
       "      <td>TA18-331A</td>\n",
       "      <td>the Department of Homeland Security</td>\n",
       "      <td>1</td>\n",
       "    </tr>\n",
       "    <tr>\n",
       "      <th>7233</th>\n",
       "      <td>TA18-331A</td>\n",
       "      <td>the Federal Bureau of Investigation</td>\n",
       "      <td>1</td>\n",
       "    </tr>\n",
       "    <tr>\n",
       "      <th>7234</th>\n",
       "      <td>TA18-331A</td>\n",
       "      <td>the U.S. Government</td>\n",
       "      <td>1</td>\n",
       "    </tr>\n",
       "  </tbody>\n",
       "</table>\n",
       "<p>7235 rows × 3 columns</p>\n",
       "</div>"
      ],
      "text/plain": [
       "       alert_id                              label_x  0\n",
       "0     AA18-284A                                 ACSC  2\n",
       "1     AA18-284A                                APT19  2\n",
       "2     AA18-284A                     Active Directory  1\n",
       "3     AA18-284A                                Adobe  1\n",
       "4     AA18-284A                           Adwind RAT  2\n",
       "...         ...                                  ... ..\n",
       "7230  TA18-331A                              Windows  1\n",
       "7231  TA18-331A                                 YARA  1\n",
       "7232  TA18-331A  the Department of Homeland Security  1\n",
       "7233  TA18-331A  the Federal Bureau of Investigation  1\n",
       "7234  TA18-331A                  the U.S. Government  1\n",
       "\n",
       "[7235 rows x 3 columns]"
      ]
     },
     "execution_count": 76,
     "metadata": {},
     "output_type": "execute_result"
    }
   ],
   "source": [
    "alert_ner_edge = pd.DataFrame(df_ner_clusters.groupby(by=['alert_id','label_x']).size())\n",
    "alert_ner_edge = alert_ner_edge.reset_index()\n",
    "alert_ner_edge.to_csv(data_path / 'alert_ner_edge.csv', index=False, header=['alert_id','ner','weight'])\n",
    "alert_ner_edge"
   ]
  },
  {
   "cell_type": "markdown",
   "id": "852b5218-bb08-4315-a0d1-8dde4e64b483",
   "metadata": {},
   "source": [
    "# ner node"
   ]
  },
  {
   "cell_type": "code",
   "execution_count": 74,
   "id": "c8be5882-93d9-4814-b072-9f10bc9fc00b",
   "metadata": {},
   "outputs": [
    {
     "data": {
      "text/html": [
       "<div>\n",
       "<style scoped>\n",
       "    .dataframe tbody tr th:only-of-type {\n",
       "        vertical-align: middle;\n",
       "    }\n",
       "\n",
       "    .dataframe tbody tr th {\n",
       "        vertical-align: top;\n",
       "    }\n",
       "\n",
       "    .dataframe thead th {\n",
       "        text-align: right;\n",
       "    }\n",
       "</style>\n",
       "<table border=\"1\" class=\"dataframe\">\n",
       "  <thead>\n",
       "    <tr style=\"text-align: right;\">\n",
       "      <th></th>\n",
       "      <th>label_x</th>\n",
       "      <th>Cluster ID</th>\n",
       "      <th>0</th>\n",
       "    </tr>\n",
       "  </thead>\n",
       "  <tbody>\n",
       "    <tr>\n",
       "      <th>0</th>\n",
       "      <td>!</td>\n",
       "      <td>744</td>\n",
       "      <td>1</td>\n",
       "    </tr>\n",
       "    <tr>\n",
       "      <th>1</th>\n",
       "      <td>%AppData% folder</td>\n",
       "      <td>712</td>\n",
       "      <td>1</td>\n",
       "    </tr>\n",
       "    <tr>\n",
       "      <th>2</th>\n",
       "      <td>-</td>\n",
       "      <td>7</td>\n",
       "      <td>2</td>\n",
       "    </tr>\n",
       "    <tr>\n",
       "      <th>3</th>\n",
       "      <td>-</td>\n",
       "      <td>47</td>\n",
       "      <td>1</td>\n",
       "    </tr>\n",
       "    <tr>\n",
       "      <th>4</th>\n",
       "      <td>-</td>\n",
       "      <td>75</td>\n",
       "      <td>1</td>\n",
       "    </tr>\n",
       "    <tr>\n",
       "      <th>...</th>\n",
       "      <td>...</td>\n",
       "      <td>...</td>\n",
       "      <td>...</td>\n",
       "    </tr>\n",
       "    <tr>\n",
       "      <th>7097</th>\n",
       "      <td>workstation</td>\n",
       "      <td>58</td>\n",
       "      <td>1</td>\n",
       "    </tr>\n",
       "    <tr>\n",
       "      <th>7098</th>\n",
       "      <td>x64 Edition Service Pack</td>\n",
       "      <td>751</td>\n",
       "      <td>2</td>\n",
       "    </tr>\n",
       "    <tr>\n",
       "      <th>7099</th>\n",
       "      <td>x86</td>\n",
       "      <td>62</td>\n",
       "      <td>1</td>\n",
       "    </tr>\n",
       "    <tr>\n",
       "      <th>7100</th>\n",
       "      <td>yum</td>\n",
       "      <td>44</td>\n",
       "      <td>1</td>\n",
       "    </tr>\n",
       "    <tr>\n",
       "      <th>7101</th>\n",
       "      <td>”Mozilla</td>\n",
       "      <td>73</td>\n",
       "      <td>1</td>\n",
       "    </tr>\n",
       "  </tbody>\n",
       "</table>\n",
       "<p>7102 rows × 3 columns</p>\n",
       "</div>"
      ],
      "text/plain": [
       "                       label_x  Cluster ID  0\n",
       "0                            !         744  1\n",
       "1             %AppData% folder         712  1\n",
       "2                            -           7  2\n",
       "3                            -          47  1\n",
       "4                            -          75  1\n",
       "...                        ...         ... ..\n",
       "7097               workstation          58  1\n",
       "7098  x64 Edition Service Pack         751  2\n",
       "7099                       x86          62  1\n",
       "7100                       yum          44  1\n",
       "7101                  ”Mozilla          73  1\n",
       "\n",
       "[7102 rows x 3 columns]"
      ]
     },
     "execution_count": 74,
     "metadata": {},
     "output_type": "execute_result"
    }
   ],
   "source": [
    "ner_node = df_ner_clusters.groupby(by=['label_x','Cluster ID']).size()\n",
    "ner_node = ner_node.reset_index()\n",
    "ner_node.to_csv(data_path / 'ner_node.csv', index=False, header=['ner','cluster id','weight'])\n",
    "ner_node"
   ]
  },
  {
   "cell_type": "code",
   "execution_count": null,
   "id": "efca98e1-a605-4317-87da-47f17778fabb",
   "metadata": {},
   "outputs": [],
   "source": []
  }
 ],
 "metadata": {
  "kernelspec": {
   "display_name": "Python 3 (ipykernel)",
   "language": "python",
   "name": "python3"
  },
  "language_info": {
   "codemirror_mode": {
    "name": "ipython",
    "version": 3
   },
   "file_extension": ".py",
   "mimetype": "text/x-python",
   "name": "python",
   "nbconvert_exporter": "python",
   "pygments_lexer": "ipython3",
   "version": "3.8.13"
  }
 },
 "nbformat": 4,
 "nbformat_minor": 5
}
