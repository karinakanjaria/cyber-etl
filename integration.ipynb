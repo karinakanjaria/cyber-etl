{
 "cells": [
  {
   "cell_type": "markdown",
   "id": "58293ddc-f3f8-434c-b6d3-4816eeb70564",
   "metadata": {},
   "source": [
    "# Cybersecurity Data Integration Notebook"
   ]
  },
  {
   "cell_type": "code",
   "execution_count": null,
   "id": "c3d9ef9b-c6ca-42fc-b936-81ec5f9d43d2",
   "metadata": {},
   "outputs": [],
   "source": []
  }
 ],
 "metadata": {
  "kernelspec": {
   "display_name": "Python 3 (ipykernel)",
   "language": "python",
   "name": "python3"
  },
  "language_info": {
   "codemirror_mode": {
    "name": "ipython",
    "version": 3
   },
   "file_extension": ".py",
   "mimetype": "text/x-python",
   "name": "python",
   "nbconvert_exporter": "python",
   "pygments_lexer": "ipython3",
   "version": "3.10.8"
  }
 },
 "nbformat": 4,
 "nbformat_minor": 5
}
