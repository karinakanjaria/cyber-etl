{
 "cells": [
  {
   "cell_type": "code",
   "execution_count": 1,
   "id": "84a45890-3704-49c3-8c41-a28da32f2c22",
   "metadata": {},
   "outputs": [
    {
     "data": {
      "text/html": [
       "\n",
       "                <script type=\"application/javascript\" id=\"jupyter_black\">\n",
       "                (function() {\n",
       "                    if (window.IPython === undefined) {\n",
       "                        return\n",
       "                    }\n",
       "                    var msg = \"WARNING: it looks like you might have loaded \" +\n",
       "                        \"jupyter_black in a non-lab notebook with \" +\n",
       "                        \"`is_lab=True`. Please double check, and if \" +\n",
       "                        \"loading with `%load_ext` please review the README!\"\n",
       "                    console.log(msg)\n",
       "                    alert(msg)\n",
       "                })()\n",
       "                </script>\n",
       "                "
      ],
      "text/plain": [
       "<IPython.core.display.HTML object>"
      ]
     },
     "metadata": {},
     "output_type": "display_data"
    }
   ],
   "source": [
    "from pathlib import Path\n",
    "import urllib.parse as url\n",
    "\n",
    "import os\n",
    "import re\n",
    "import time\n",
    "from datetime import datetime\n",
    "from typing import Callable, Dict, List\n",
    "\n",
    "\n",
    "import requests\n",
    "import pandas as pd\n",
    "\n",
    "import jupyter_black  # Amazing python code formatter, this will save you hundreds of hours of work.\n",
    "\n",
    "jupyter_black.load()"
   ]
  },
  {
   "cell_type": "code",
   "execution_count": 2,
   "id": "8d9bc3a0-e2e4-444c-8f10-2cc928067607",
   "metadata": {},
   "outputs": [
    {
     "data": {
      "text/plain": [
       "1274       https://github.com/maxpl0it/CVE-2020-0674-Exploit\n",
       "2100       https://github.com/zephyrproject-rtos/zephyr/p...\n",
       "2102       https://github.com/zephyrproject-rtos/zephyr/p...\n",
       "2105       https://github.com/zephyrproject-rtos/zephyr/p...\n",
       "2110       https://github.com/zephyrproject-rtos/zephyr/p...\n",
       "                                 ...                        \n",
       "1028199        https://github.com/benc-uk/kubeview/issues/95\n",
       "1028202    https://github.com/openedx/xblock-drag-and-dro...\n",
       "1028203    https://github.com/openedx/xblock-drag-and-dro...\n",
       "1028204    https://github.com/openedx/xblock-drag-and-dro...\n",
       "1028205    https://github.com/openedx/xblock-drag-and-dro...\n",
       "Name: url, Length: 34344, dtype: object"
      ]
     },
     "execution_count": 2,
     "metadata": {},
     "output_type": "execute_result"
    }
   ],
   "source": [
    "data_path = Path(\"..\") / \"data\"\n",
    "cve_data = pd.read_feather(data_path / \"all_parsed_cve_references.feather\")\n",
    "github_links = cve_data.loc[\n",
    "    cve_data[\"url\"].str.contains(\"github.com\"), \"url\"\n",
    "].drop_duplicates()\n",
    "github_links"
   ]
  },
  {
   "cell_type": "code",
   "execution_count": 9,
   "id": "1949204a-6a83-4e7e-a519-ca5e08a5b797",
   "metadata": {},
   "outputs": [],
   "source": [
    "timer = 0\n",
    "\n",
    "\n",
    "def handle_get_requests(api_url, headers=None, data=None, time_to_wait=3):\n",
    "    global timer\n",
    "    \"\"\"\n",
    "    Uses the GitHub API response to wait as appropriate for the specified time after called.\n",
    "    \"\"\"\n",
    "    if timer > 0:\n",
    "        hours = int(timer / 60 / 60)\n",
    "        minutes = int(timer / 60) - (hours * 60)\n",
    "        print(f\"Waiting for {hours}:{minutes} (hh:mm)\", flush=True)\n",
    "        time.sleep(timer)\n",
    "    timer = 0\n",
    "\n",
    "    req_headers = {}\n",
    "    if headers:\n",
    "        req_headers.update(headers)\n",
    "\n",
    "    api_token = get_api_token()\n",
    "    if api_token:\n",
    "        req_headers.update({\"Authorization\": f\"Bearer {api_token}\"})\n",
    "    response = requests.get(api_url, headers=req_headers, data=data)\n",
    "\n",
    "    response_data = response.json()\n",
    "\n",
    "    resp_headers = response.headers\n",
    "    requests_left = int(resp_headers[\"x-ratelimit-remaining\"])\n",
    "    time_left = int(resp_headers[\"x-ratelimit-reset\"]) - datetime.now().timestamp()\n",
    "    if time_left > 0:\n",
    "        time_to_wait = time_left\n",
    "\n",
    "    wait_more = False\n",
    "    if requests_left <= 1:\n",
    "        wait_more = True\n",
    "\n",
    "    if wait_more:\n",
    "        timer = time_to_wait\n",
    "    return response\n",
    "\n",
    "\n",
    "def get_github_repo_paths(raw_urls: pd.Series) -> pd.Series:\n",
    "    # Get each part of the URL and pull out just the repo path\n",
    "    url_parts = raw_urls.str.strip().apply(url.urlsplit)\n",
    "\n",
    "    # Github Repo Links are the first two parts of the \"path\"\n",
    "    repo_paths = (\n",
    "        url_parts.apply(lambda x: x.path)\n",
    "        .str.split(\"/\")\n",
    "        .apply(lambda x: \"/\".join(x[0:3]))\n",
    "    )\n",
    "    # return the final reconstructed URL to each repo\n",
    "    return (\"https://api.github.com/repos\" + repo_paths).drop_duplicates()\n",
    "\n",
    "\n",
    "def get_github_languages(api_url: str, headers=None, data=None) -> Dict[str, Dict]:\n",
    "    languages_url = api_url + \"/languages\"\n",
    "    response = handle_get_requests(languages_url)\n",
    "    print(\".\", end=\"\", flush=True)\n",
    "    if response.status_code == 200:\n",
    "        return (api_url, response.json())\n",
    "    else:\n",
    "        return (\"Failed\", str(response.status_code) + \"-\" + response.text)\n",
    "\n",
    "\n",
    "def get_github_contributor_data(\n",
    "    api_url: str, headers=None, data=None\n",
    ") -> List[Dict[str, str]]:\n",
    "    contributor_url = api_url + \"/contributors\"\n",
    "    response = handle_get_requests(contributor_url)\n",
    "    print(\".\", end=\"\", flush=True)\n",
    "    if response.status_code == 200:\n",
    "        return (api_url, response.json()[0])\n",
    "    else:\n",
    "        return (\"Failed\", str(response.status_code) + \"-\" + response.text)\n",
    "\n",
    "\n",
    "def get_api_token(file_path=Path(\"../api_token.secret\")):\n",
    "    file_path = Path(file_path)\n",
    "    if file_path.exists():\n",
    "        with open(file_path, \"r\") as secret_path:\n",
    "            return secret_path.readline().strip()\n",
    "    else:\n",
    "        return None"
   ]
  },
  {
   "cell_type": "code",
   "execution_count": null,
   "id": "fd824650-b1ca-458f-a9f8-c71f8e21215a",
   "metadata": {},
   "outputs": [
    {
     "name": "stdout",
     "output_type": "stream",
     "text": [
      "................................................................................................................................................................................................................................................................................................................................................................................................................................................................................................................................................................................................................................................................................................................................................................................................................................................................................................................................................................................................................................................................................................................................................................................................................................................................................................................................................................................................................................................................................................................................................................................................................................................................................................................................................................................................................................."
     ]
    }
   ],
   "source": [
    "batch_size = 2400 # Needs to be half the max of 5000, leaving some room for error too.\n",
    "start = 0   # Set this to your assigned start values.\n",
    "\n",
    "\n",
    "# Put repo paths and netloc together to get repo links.\n",
    "github_repo_urls = get_github_repo_paths(github_links)\n",
    "end = min((start + batch_size), len(github_repo_urls))\n",
    "\n",
    "languages = github_repo_urls.iloc[start:end].apply(get_github_languages)\n",
    "languages = languages.reset_index().rename(columns={\"index\": \"original_index\",\"url\":\"languages\"})\n",
    "languages.to_feather(data_path / f\"languages_{start}.feather\")\n",
    "print(languages)\n",
    "\n",
    "contributors = github_repo_urls.iloc[start:end].apply(get_github_contributor_data)\n",
    "contributors = contributors.reset_index().rename(columns={\"index\": \"original_index\",\"url\":\"contributors\"})\n",
    "contributors.to_feather(data_path / f\"languages_{start}.feather\")\n",
    "print(contributors)"
   ]
  },
  {
   "cell_type": "code",
   "execution_count": null,
   "id": "ed2f19c8-70b8-421d-afcb-7470c2e6e7b5",
   "metadata": {},
   "outputs": [],
   "source": [
    "languages"
   ]
  },
  {
   "cell_type": "code",
   "execution_count": null,
   "id": "5ff2f820-a036-48a0-b3b0-f61ffacc5a13",
   "metadata": {},
   "outputs": [],
   "source": []
  }
 ],
 "metadata": {
  "kernelspec": {
   "display_name": "Python 3 (ipykernel)",
   "language": "python",
   "name": "python3"
  },
  "language_info": {
   "codemirror_mode": {
    "name": "ipython",
    "version": 3
   },
   "file_extension": ".py",
   "mimetype": "text/x-python",
   "name": "python",
   "nbconvert_exporter": "python",
   "pygments_lexer": "ipython3",
   "version": "3.8.13"
  }
 },
 "nbformat": 4,
 "nbformat_minor": 5
}
