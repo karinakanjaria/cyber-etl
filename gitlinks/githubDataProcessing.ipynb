{
 "cells": [
  {
   "cell_type": "code",
   "execution_count": 10,
   "id": "9c0f6ce0-71aa-451c-a103-7a89dee62454",
   "metadata": {},
   "outputs": [],
   "source": [
    "import pandas as pd\n",
    "import numpy as np\n",
    "from pathlib import Path"
   ]
  },
  {
   "cell_type": "markdown",
   "id": "899c83f2-8673-4318-a6c4-c14dd64e69e8",
   "metadata": {},
   "source": [
    "### Contributors Data Cleaning"
   ]
  },
  {
   "cell_type": "code",
   "execution_count": 11,
   "id": "26c667a7-4af8-4a77-8cef-68bfaf96e22b",
   "metadata": {},
   "outputs": [],
   "source": [
    "data_path = Path(\"../\") / \"data\"\n",
    "\n",
    "if previous_contrib_data_list := [\n",
    "    pd.read_feather(contrib_file)\n",
    "    for contrib_file in data_path.glob(\"contributors*.feather\")\n",
    "]:\n",
    "    cons = pd.concat(previous_contrib_data_list)"
   ]
  },
  {
   "cell_type": "code",
   "execution_count": 12,
   "id": "9ff143e3-b168-4f3a-9e8e-818d2ae67817",
   "metadata": {
    "tags": []
   },
   "outputs": [
    {
     "data": {
      "text/html": [
       "<div>\n",
       "<style scoped>\n",
       "    .dataframe tbody tr th:only-of-type {\n",
       "        vertical-align: middle;\n",
       "    }\n",
       "\n",
       "    .dataframe tbody tr th {\n",
       "        vertical-align: top;\n",
       "    }\n",
       "\n",
       "    .dataframe thead th {\n",
       "        text-align: right;\n",
       "    }\n",
       "</style>\n",
       "<table border=\"1\" class=\"dataframe\">\n",
       "  <thead>\n",
       "    <tr style=\"text-align: right;\">\n",
       "      <th></th>\n",
       "      <th>original_index</th>\n",
       "      <th>url</th>\n",
       "      <th>status</th>\n",
       "      <th>contributors</th>\n",
       "    </tr>\n",
       "  </thead>\n",
       "  <tbody>\n",
       "    <tr>\n",
       "      <th>0</th>\n",
       "      <td>17532</td>\n",
       "      <td>https://api.github.com/repos/WinMin/4616577921...</td>\n",
       "      <td>success</td>\n",
       "      <td>{'avatar_url': None, 'block': None, 'contribut...</td>\n",
       "    </tr>\n",
       "    <tr>\n",
       "      <th>1</th>\n",
       "      <td>17534</td>\n",
       "      <td>https://api.github.com/repos/Cossack9989/fa971...</td>\n",
       "      <td>success</td>\n",
       "      <td>{'avatar_url': None, 'block': None, 'contribut...</td>\n",
       "    </tr>\n",
       "    <tr>\n",
       "      <th>2</th>\n",
       "      <td>17537</td>\n",
       "      <td>https://api.github.com/repos/Cossack9989/Vulns</td>\n",
       "      <td>success</td>\n",
       "      <td>{'avatar_url': 'https://avatars.githubusercont...</td>\n",
       "    </tr>\n",
       "    <tr>\n",
       "      <th>3</th>\n",
       "      <td>19242</td>\n",
       "      <td>https://api.github.com/repos/jaygreig86/dmitry</td>\n",
       "      <td>success</td>\n",
       "      <td>{'avatar_url': 'https://avatars.githubusercont...</td>\n",
       "    </tr>\n",
       "    <tr>\n",
       "      <th>4</th>\n",
       "      <td>19276</td>\n",
       "      <td>https://api.github.com/repos/tendenci/tendenci</td>\n",
       "      <td>success</td>\n",
       "      <td>{'avatar_url': 'https://avatars.githubusercont...</td>\n",
       "    </tr>\n",
       "  </tbody>\n",
       "</table>\n",
       "</div>"
      ],
      "text/plain": [
       "   original_index                                                url   status  \\\n",
       "0           17532  https://api.github.com/repos/WinMin/4616577921...  success   \n",
       "1           17534  https://api.github.com/repos/Cossack9989/fa971...  success   \n",
       "2           17537     https://api.github.com/repos/Cossack9989/Vulns  success   \n",
       "3           19242     https://api.github.com/repos/jaygreig86/dmitry  success   \n",
       "4           19276     https://api.github.com/repos/tendenci/tendenci  success   \n",
       "\n",
       "                                        contributors  \n",
       "0  {'avatar_url': None, 'block': None, 'contribut...  \n",
       "1  {'avatar_url': None, 'block': None, 'contribut...  \n",
       "2  {'avatar_url': 'https://avatars.githubusercont...  \n",
       "3  {'avatar_url': 'https://avatars.githubusercont...  \n",
       "4  {'avatar_url': 'https://avatars.githubusercont...  "
      ]
     },
     "execution_count": 12,
     "metadata": {},
     "output_type": "execute_result"
    }
   ],
   "source": [
    "cons.head()"
   ]
  },
  {
   "cell_type": "code",
   "execution_count": 13,
   "id": "e79096a0-4f96-4fe9-b53a-f5d687e75adf",
   "metadata": {},
   "outputs": [],
   "source": [
    "result = []\n",
    "for i in range(len(cons)):\n",
    "    con = cons.contributors[i]\n",
    "    if('login' in con):\n",
    "        name = con['login']\n",
    "        result.append([cons.original_index[i], cons.url[i], name])"
   ]
  },
  {
   "cell_type": "code",
   "execution_count": 14,
   "id": "b1903e3b-a8f3-4faa-9995-705720d9deeb",
   "metadata": {},
   "outputs": [
    {
     "data": {
      "text/html": [
       "<div>\n",
       "<style scoped>\n",
       "    .dataframe tbody tr th:only-of-type {\n",
       "        vertical-align: middle;\n",
       "    }\n",
       "\n",
       "    .dataframe tbody tr th {\n",
       "        vertical-align: top;\n",
       "    }\n",
       "\n",
       "    .dataframe thead th {\n",
       "        text-align: right;\n",
       "    }\n",
       "</style>\n",
       "<table border=\"1\" class=\"dataframe\">\n",
       "  <thead>\n",
       "    <tr style=\"text-align: right;\">\n",
       "      <th></th>\n",
       "      <th>original_index</th>\n",
       "      <th>url</th>\n",
       "      <th>logins</th>\n",
       "    </tr>\n",
       "  </thead>\n",
       "  <tbody>\n",
       "    <tr>\n",
       "      <th>0</th>\n",
       "      <td>17532</td>\n",
       "      <td>https://api.github.com/repos/WinMin/4616577921...</td>\n",
       "      <td>None</td>\n",
       "    </tr>\n",
       "    <tr>\n",
       "      <th>1</th>\n",
       "      <td>17534</td>\n",
       "      <td>https://api.github.com/repos/Cossack9989/fa971...</td>\n",
       "      <td>None</td>\n",
       "    </tr>\n",
       "    <tr>\n",
       "      <th>2</th>\n",
       "      <td>17537</td>\n",
       "      <td>https://api.github.com/repos/Cossack9989/Vulns</td>\n",
       "      <td>Cossack9989</td>\n",
       "    </tr>\n",
       "    <tr>\n",
       "      <th>3</th>\n",
       "      <td>19242</td>\n",
       "      <td>https://api.github.com/repos/jaygreig86/dmitry</td>\n",
       "      <td>jaygreig86</td>\n",
       "    </tr>\n",
       "    <tr>\n",
       "      <th>4</th>\n",
       "      <td>19276</td>\n",
       "      <td>https://api.github.com/repos/tendenci/tendenci</td>\n",
       "      <td>jennyq</td>\n",
       "    </tr>\n",
       "  </tbody>\n",
       "</table>\n",
       "</div>"
      ],
      "text/plain": [
       "   original_index                                                url  \\\n",
       "0           17532  https://api.github.com/repos/WinMin/4616577921...   \n",
       "1           17534  https://api.github.com/repos/Cossack9989/fa971...   \n",
       "2           17537     https://api.github.com/repos/Cossack9989/Vulns   \n",
       "3           19242     https://api.github.com/repos/jaygreig86/dmitry   \n",
       "4           19276     https://api.github.com/repos/tendenci/tendenci   \n",
       "\n",
       "        logins  \n",
       "0         None  \n",
       "1         None  \n",
       "2  Cossack9989  \n",
       "3   jaygreig86  \n",
       "4       jennyq  "
      ]
     },
     "execution_count": 14,
     "metadata": {},
     "output_type": "execute_result"
    }
   ],
   "source": [
    "loginsdf = pd.DataFrame(result, columns = ['original_index', 'url', 'logins'])\n",
    "loginsdf.head()"
   ]
  },
  {
   "cell_type": "code",
   "execution_count": 15,
   "id": "4fc0703b-4ebc-4828-90f9-61674ffc5210",
   "metadata": {},
   "outputs": [
    {
     "data": {
      "text/html": [
       "<div>\n",
       "<style scoped>\n",
       "    .dataframe tbody tr th:only-of-type {\n",
       "        vertical-align: middle;\n",
       "    }\n",
       "\n",
       "    .dataframe tbody tr th {\n",
       "        vertical-align: top;\n",
       "    }\n",
       "\n",
       "    .dataframe thead th {\n",
       "        text-align: right;\n",
       "    }\n",
       "</style>\n",
       "<table border=\"1\" class=\"dataframe\">\n",
       "  <thead>\n",
       "    <tr style=\"text-align: right;\">\n",
       "      <th></th>\n",
       "      <th>original_index</th>\n",
       "      <th>url</th>\n",
       "      <th>logins</th>\n",
       "    </tr>\n",
       "  </thead>\n",
       "  <tbody>\n",
       "    <tr>\n",
       "      <th>2</th>\n",
       "      <td>17537</td>\n",
       "      <td>https://api.github.com/repos/Cossack9989/Vulns</td>\n",
       "      <td>Cossack9989</td>\n",
       "    </tr>\n",
       "    <tr>\n",
       "      <th>3</th>\n",
       "      <td>19242</td>\n",
       "      <td>https://api.github.com/repos/jaygreig86/dmitry</td>\n",
       "      <td>jaygreig86</td>\n",
       "    </tr>\n",
       "    <tr>\n",
       "      <th>4</th>\n",
       "      <td>19276</td>\n",
       "      <td>https://api.github.com/repos/tendenci/tendenci</td>\n",
       "      <td>jennyq</td>\n",
       "    </tr>\n",
       "    <tr>\n",
       "      <th>5</th>\n",
       "      <td>112255</td>\n",
       "      <td>https://api.github.com/repos/ImpulseAdventure/...</td>\n",
       "      <td>ImpulseAdventure</td>\n",
       "    </tr>\n",
       "    <tr>\n",
       "      <th>6</th>\n",
       "      <td>112264</td>\n",
       "      <td>https://api.github.com/repos/matrixssl/matrixssl</td>\n",
       "      <td>matrixssl-admin</td>\n",
       "    </tr>\n",
       "  </tbody>\n",
       "</table>\n",
       "</div>"
      ],
      "text/plain": [
       "   original_index                                                url  \\\n",
       "2           17537     https://api.github.com/repos/Cossack9989/Vulns   \n",
       "3           19242     https://api.github.com/repos/jaygreig86/dmitry   \n",
       "4           19276     https://api.github.com/repos/tendenci/tendenci   \n",
       "5          112255  https://api.github.com/repos/ImpulseAdventure/...   \n",
       "6          112264   https://api.github.com/repos/matrixssl/matrixssl   \n",
       "\n",
       "             logins  \n",
       "2       Cossack9989  \n",
       "3        jaygreig86  \n",
       "4            jennyq  \n",
       "5  ImpulseAdventure  \n",
       "6   matrixssl-admin  "
      ]
     },
     "execution_count": 15,
     "metadata": {},
     "output_type": "execute_result"
    }
   ],
   "source": [
    "loginsdf = loginsdf[loginsdf.logins.notnull()]\n",
    "loginsdf.head()"
   ]
  },
  {
   "cell_type": "code",
   "execution_count": null,
   "id": "5ef14095-3f79-46e5-a81c-4a21d05dc4f0",
   "metadata": {},
   "outputs": [],
   "source": [
    "loginsdf.to_feather('github_usernames_final.feather')"
   ]
  },
  {
   "cell_type": "markdown",
   "id": "58beab36-11b5-4c96-92d8-620c60fd1280",
   "metadata": {},
   "source": [
    "### Languages Data Cleaning"
   ]
  },
  {
   "cell_type": "code",
   "execution_count": 21,
   "id": "6e7da331-8cbd-4573-a7a6-0bab689fefd6",
   "metadata": {
    "tags": []
   },
   "outputs": [],
   "source": [
    "data_path = Path(\"../\") / \"data\"\n",
    "\n",
    "if previous_langs_data_list := [\n",
    "    pd.read_feather(lang_file)\n",
    "    for lang_file in data_path.glob(\"languages*.feather\")\n",
    "]:\n",
    "    langs = pd.concat(previous_langs_data_list)"
   ]
  },
  {
   "cell_type": "code",
   "execution_count": 22,
   "id": "573c8342-c24f-4303-be95-0b811c28c0db",
   "metadata": {},
   "outputs": [
    {
     "data": {
      "text/html": [
       "<div>\n",
       "<style scoped>\n",
       "    .dataframe tbody tr th:only-of-type {\n",
       "        vertical-align: middle;\n",
       "    }\n",
       "\n",
       "    .dataframe tbody tr th {\n",
       "        vertical-align: top;\n",
       "    }\n",
       "\n",
       "    .dataframe thead th {\n",
       "        text-align: right;\n",
       "    }\n",
       "</style>\n",
       "<table border=\"1\" class=\"dataframe\">\n",
       "  <thead>\n",
       "    <tr style=\"text-align: right;\">\n",
       "      <th></th>\n",
       "      <th>original_index</th>\n",
       "      <th>url</th>\n",
       "      <th>status</th>\n",
       "      <th>languages</th>\n",
       "    </tr>\n",
       "  </thead>\n",
       "  <tbody>\n",
       "    <tr>\n",
       "      <th>0</th>\n",
       "      <td>12102</td>\n",
       "      <td>https://api.github.com/repos/erlyaws/yaws</td>\n",
       "      <td>success</td>\n",
       "      <td>{'1C Enterprise': None, 'ABAP': None, 'AGS Scr...</td>\n",
       "    </tr>\n",
       "    <tr>\n",
       "      <th>1</th>\n",
       "      <td>12110</td>\n",
       "      <td>https://api.github.com/repos/advisories/GHSL-2...</td>\n",
       "      <td>success</td>\n",
       "      <td>{'1C Enterprise': None, 'ABAP': None, 'AGS Scr...</td>\n",
       "    </tr>\n",
       "    <tr>\n",
       "      <th>2</th>\n",
       "      <td>12125</td>\n",
       "      <td>https://api.github.com/repos/Submitty/Submitty</td>\n",
       "      <td>success</td>\n",
       "      <td>{'1C Enterprise': None, 'ABAP': None, 'AGS Scr...</td>\n",
       "    </tr>\n",
       "    <tr>\n",
       "      <th>3</th>\n",
       "      <td>12127</td>\n",
       "      <td>https://api.github.com/repos/ARMmbed/mbed-os</td>\n",
       "      <td>success</td>\n",
       "      <td>{'1C Enterprise': None, 'ABAP': None, 'AGS Scr...</td>\n",
       "    </tr>\n",
       "    <tr>\n",
       "      <th>4</th>\n",
       "      <td>12128</td>\n",
       "      <td>https://api.github.com/repos/ARMmbed/mbed-coap</td>\n",
       "      <td>success</td>\n",
       "      <td>{'1C Enterprise': None, 'ABAP': None, 'AGS Scr...</td>\n",
       "    </tr>\n",
       "  </tbody>\n",
       "</table>\n",
       "</div>"
      ],
      "text/plain": [
       "   original_index                                                url   status  \\\n",
       "0           12102          https://api.github.com/repos/erlyaws/yaws  success   \n",
       "1           12110  https://api.github.com/repos/advisories/GHSL-2...  success   \n",
       "2           12125     https://api.github.com/repos/Submitty/Submitty  success   \n",
       "3           12127       https://api.github.com/repos/ARMmbed/mbed-os  success   \n",
       "4           12128     https://api.github.com/repos/ARMmbed/mbed-coap  success   \n",
       "\n",
       "                                           languages  \n",
       "0  {'1C Enterprise': None, 'ABAP': None, 'AGS Scr...  \n",
       "1  {'1C Enterprise': None, 'ABAP': None, 'AGS Scr...  \n",
       "2  {'1C Enterprise': None, 'ABAP': None, 'AGS Scr...  \n",
       "3  {'1C Enterprise': None, 'ABAP': None, 'AGS Scr...  \n",
       "4  {'1C Enterprise': None, 'ABAP': None, 'AGS Scr...  "
      ]
     },
     "execution_count": 22,
     "metadata": {},
     "output_type": "execute_result"
    }
   ],
   "source": [
    "langs.head()"
   ]
  },
  {
   "cell_type": "code",
   "execution_count": 40,
   "id": "9d119bc3-119d-4051-aed9-c75c2a7abc65",
   "metadata": {
    "tags": []
   },
   "outputs": [],
   "source": [
    "result = []\n",
    "for i in range(len(langs)):\n",
    "    lang = langs.languages[i]\n",
    "    for key, value in lang.items():\n",
    "        if value is not None:\n",
    "            result.append([langs.original_index[i], langs.url[i], key, value])"
   ]
  },
  {
   "cell_type": "code",
   "execution_count": 41,
   "id": "b4e03268-817d-47a8-90b5-acd028028fcb",
   "metadata": {},
   "outputs": [
    {
     "data": {
      "text/html": [
       "<div>\n",
       "<style scoped>\n",
       "    .dataframe tbody tr th:only-of-type {\n",
       "        vertical-align: middle;\n",
       "    }\n",
       "\n",
       "    .dataframe tbody tr th {\n",
       "        vertical-align: top;\n",
       "    }\n",
       "\n",
       "    .dataframe thead th {\n",
       "        text-align: right;\n",
       "    }\n",
       "</style>\n",
       "<table border=\"1\" class=\"dataframe\">\n",
       "  <thead>\n",
       "    <tr style=\"text-align: right;\">\n",
       "      <th></th>\n",
       "      <th>original_index</th>\n",
       "      <th>url</th>\n",
       "      <th>language</th>\n",
       "      <th>ratio</th>\n",
       "    </tr>\n",
       "  </thead>\n",
       "  <tbody>\n",
       "    <tr>\n",
       "      <th>0</th>\n",
       "      <td>12102</td>\n",
       "      <td>https://api.github.com/repos/erlyaws/yaws</td>\n",
       "      <td>Batchfile</td>\n",
       "      <td>4240.0</td>\n",
       "    </tr>\n",
       "    <tr>\n",
       "      <th>1</th>\n",
       "      <td>12102</td>\n",
       "      <td>https://api.github.com/repos/erlyaws/yaws</td>\n",
       "      <td>C</td>\n",
       "      <td>41684.0</td>\n",
       "    </tr>\n",
       "    <tr>\n",
       "      <th>2</th>\n",
       "      <td>12102</td>\n",
       "      <td>https://api.github.com/repos/erlyaws/yaws</td>\n",
       "      <td>CSS</td>\n",
       "      <td>4981.0</td>\n",
       "    </tr>\n",
       "    <tr>\n",
       "      <th>3</th>\n",
       "      <td>12102</td>\n",
       "      <td>https://api.github.com/repos/erlyaws/yaws</td>\n",
       "      <td>Emacs Lisp</td>\n",
       "      <td>4780.0</td>\n",
       "    </tr>\n",
       "    <tr>\n",
       "      <th>4</th>\n",
       "      <td>12102</td>\n",
       "      <td>https://api.github.com/repos/erlyaws/yaws</td>\n",
       "      <td>Erlang</td>\n",
       "      <td>2013150.0</td>\n",
       "    </tr>\n",
       "  </tbody>\n",
       "</table>\n",
       "</div>"
      ],
      "text/plain": [
       "   original_index                                        url    language  \\\n",
       "0           12102  https://api.github.com/repos/erlyaws/yaws   Batchfile   \n",
       "1           12102  https://api.github.com/repos/erlyaws/yaws           C   \n",
       "2           12102  https://api.github.com/repos/erlyaws/yaws         CSS   \n",
       "3           12102  https://api.github.com/repos/erlyaws/yaws  Emacs Lisp   \n",
       "4           12102  https://api.github.com/repos/erlyaws/yaws      Erlang   \n",
       "\n",
       "       ratio  \n",
       "0     4240.0  \n",
       "1    41684.0  \n",
       "2     4981.0  \n",
       "3     4780.0  \n",
       "4  2013150.0  "
      ]
     },
     "execution_count": 41,
     "metadata": {},
     "output_type": "execute_result"
    }
   ],
   "source": [
    "langsdf = pd.DataFrame(result, columns = ['original_index', 'url', 'language', 'ratio'])\n",
    "langsdf.head()"
   ]
  },
  {
   "cell_type": "code",
   "execution_count": null,
   "id": "d06a2d76-b449-41c8-959d-421bc02b950d",
   "metadata": {},
   "outputs": [],
   "source": [
    "langsdf.to_feather('github_langs_final.feather')"
   ]
  }
 ],
 "metadata": {
  "kernelspec": {
   "display_name": "etlfinal",
   "language": "python",
   "name": "etlfinal"
  },
  "language_info": {
   "codemirror_mode": {
    "name": "ipython",
    "version": 3
   },
   "file_extension": ".py",
   "mimetype": "text/x-python",
   "name": "python",
   "nbconvert_exporter": "python",
   "pygments_lexer": "ipython3",
   "version": "3.9.15"
  }
 },
 "nbformat": 4,
 "nbformat_minor": 5
}
